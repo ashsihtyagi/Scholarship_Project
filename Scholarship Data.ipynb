{
 "cells": [
  {
   "cell_type": "code",
   "execution_count": 2916,
   "metadata": {},
   "outputs": [],
   "source": [
    "#Importing Libraries\n",
    "\n",
    "import pandas as pd\n",
    "import numpy as np\n",
    "import matplotlib.pyplot as plt\n",
    "import seaborn as sns\n",
    "from scipy import stats\n",
    "\n",
    "import warnings\n",
    "warnings.filterwarnings('ignore')\n",
    "\n",
    "import plotly.graph_objects as go\n",
    "import plotly.express as px\n",
    "from plotly.offline import init_notebook_mode, iplot\n",
    "import plotly.graph_objs as go\n",
    "import ipywidgets as ipw\n",
    "\n",
    "pd.set_option('display.max_rows',500)\n",
    "pd.set_option('display.max_columns',500)\n",
    "np.random.seed(42)"
   ]
  },
  {
   "cell_type": "code",
   "execution_count": 2917,
   "metadata": {},
   "outputs": [],
   "source": [
    "#Importing Dataset\n",
    "df=pd.read_excel(r\"C:\\Users\\atyag\\Downloads\\Scholarship Project\\Indus_DS_PreWork_Data.xlsx\")"
   ]
  },
  {
   "cell_type": "markdown",
   "metadata": {},
   "source": [
    "## Data Understanding"
   ]
  },
  {
   "cell_type": "code",
   "execution_count": 2918,
   "metadata": {},
   "outputs": [
    {
     "data": {
      "text/html": [
       "<div>\n",
       "<style scoped>\n",
       "    .dataframe tbody tr th:only-of-type {\n",
       "        vertical-align: middle;\n",
       "    }\n",
       "\n",
       "    .dataframe tbody tr th {\n",
       "        vertical-align: top;\n",
       "    }\n",
       "\n",
       "    .dataframe thead th {\n",
       "        text-align: right;\n",
       "    }\n",
       "</style>\n",
       "<table border=\"1\" class=\"dataframe\">\n",
       "  <thead>\n",
       "    <tr style=\"text-align: right;\">\n",
       "      <th></th>\n",
       "      <th>id</th>\n",
       "      <th>scholarshipAvailed</th>\n",
       "      <th>age</th>\n",
       "      <th>pincode</th>\n",
       "      <th>hasAdhar</th>\n",
       "      <th>literacy</th>\n",
       "      <th>hasEnrolledAdultLiteracy</th>\n",
       "      <th>eduType</th>\n",
       "      <th>eduInformal</th>\n",
       "      <th>statusFormalEdu</th>\n",
       "      <th>eduOther</th>\n",
       "      <th>typeOfSchool</th>\n",
       "      <th>noScholarshipReason</th>\n",
       "      <th>eduTransport</th>\n",
       "      <th>isHeadOfFamily</th>\n",
       "      <th>genderHeadOfFamily</th>\n",
       "      <th>relWithHeadOfFamily</th>\n",
       "      <th>hasPDS</th>\n",
       "      <th>hasSECC</th>\n",
       "      <th>hasAyushmanBharat</th>\n",
       "      <th>hasLand</th>\n",
       "      <th>reasonLandless</th>\n",
       "      <th>hasHealthCert</th>\n",
       "      <th>employmentType</th>\n",
       "      <th>isWageEarner</th>\n",
       "      <th>isSHGMember</th>\n",
       "      <th>isCooperativeMember</th>\n",
       "      <th>isFPOMember</th>\n",
       "      <th>noGroup</th>\n",
       "      <th>wageRecievedCOVID</th>\n",
       "      <th>liveLostCOVID</th>\n",
       "      <th>disabledCOVID</th>\n",
       "      <th>illnessCOVID</th>\n",
       "      <th>injuryCOVID</th>\n",
       "      <th>movablePropLostCOVID</th>\n",
       "      <th>immovablePropLostCOVID</th>\n",
       "      <th>interestedCertProgram</th>\n",
       "      <th>vocationCategory</th>\n",
       "    </tr>\n",
       "  </thead>\n",
       "  <tbody>\n",
       "    <tr>\n",
       "      <th>0</th>\n",
       "      <td>16-3-0-0-0-0-0-35-0-0</td>\n",
       "      <td>Not availed</td>\n",
       "      <td>28</td>\n",
       "      <td>700027.0</td>\n",
       "      <td>हाँ</td>\n",
       "      <td>Literate</td>\n",
       "      <td>NaN</td>\n",
       "      <td>Formal</td>\n",
       "      <td>NaN</td>\n",
       "      <td>Continuing</td>\n",
       "      <td>NaN</td>\n",
       "      <td>Private</td>\n",
       "      <td>None</td>\n",
       "      <td>Walking</td>\n",
       "      <td>Yes</td>\n",
       "      <td>NaN</td>\n",
       "      <td>NaN</td>\n",
       "      <td>नही</td>\n",
       "      <td>नही</td>\n",
       "      <td>नही</td>\n",
       "      <td>हाँ</td>\n",
       "      <td>NaN</td>\n",
       "      <td>नहीं</td>\n",
       "      <td>NaN</td>\n",
       "      <td>NaN</td>\n",
       "      <td>NaN</td>\n",
       "      <td>NaN</td>\n",
       "      <td>NaN</td>\n",
       "      <td>NaN</td>\n",
       "      <td>NaN</td>\n",
       "      <td>NaN</td>\n",
       "      <td>NaN</td>\n",
       "      <td>NaN</td>\n",
       "      <td>NaN</td>\n",
       "      <td>NaN</td>\n",
       "      <td>NaN</td>\n",
       "      <td>NaN</td>\n",
       "      <td>NaN</td>\n",
       "    </tr>\n",
       "    <tr>\n",
       "      <th>1</th>\n",
       "      <td>16-5-0-0-0-0-0-35-0-0</td>\n",
       "      <td>Not availed</td>\n",
       "      <td>28</td>\n",
       "      <td>700027.0</td>\n",
       "      <td>हाँ</td>\n",
       "      <td>Literate</td>\n",
       "      <td>NaN</td>\n",
       "      <td>Formal</td>\n",
       "      <td>NaN</td>\n",
       "      <td>Continuing</td>\n",
       "      <td>NaN</td>\n",
       "      <td>Private</td>\n",
       "      <td>None</td>\n",
       "      <td>Walking</td>\n",
       "      <td>Yes</td>\n",
       "      <td>NaN</td>\n",
       "      <td>NaN</td>\n",
       "      <td>नही</td>\n",
       "      <td>नही</td>\n",
       "      <td>नही</td>\n",
       "      <td>हाँ</td>\n",
       "      <td>NaN</td>\n",
       "      <td>नहीं</td>\n",
       "      <td>NaN</td>\n",
       "      <td>NaN</td>\n",
       "      <td>NaN</td>\n",
       "      <td>NaN</td>\n",
       "      <td>NaN</td>\n",
       "      <td>NaN</td>\n",
       "      <td>NaN</td>\n",
       "      <td>NaN</td>\n",
       "      <td>NaN</td>\n",
       "      <td>NaN</td>\n",
       "      <td>NaN</td>\n",
       "      <td>NaN</td>\n",
       "      <td>NaN</td>\n",
       "      <td>NaN</td>\n",
       "      <td>NaN</td>\n",
       "    </tr>\n",
       "    <tr>\n",
       "      <th>2</th>\n",
       "      <td>16-3-0-0-0-0-0-36-0-0</td>\n",
       "      <td>Not availed</td>\n",
       "      <td>28</td>\n",
       "      <td>700027.0</td>\n",
       "      <td>हाँ</td>\n",
       "      <td>Literate</td>\n",
       "      <td>NaN</td>\n",
       "      <td>Formal</td>\n",
       "      <td>NaN</td>\n",
       "      <td>Continuing</td>\n",
       "      <td>NaN</td>\n",
       "      <td>Private</td>\n",
       "      <td>None</td>\n",
       "      <td>Walking</td>\n",
       "      <td>Yes</td>\n",
       "      <td>NaN</td>\n",
       "      <td>NaN</td>\n",
       "      <td>नही</td>\n",
       "      <td>नही</td>\n",
       "      <td>नही</td>\n",
       "      <td>हाँ</td>\n",
       "      <td>NaN</td>\n",
       "      <td>नहीं</td>\n",
       "      <td>NaN</td>\n",
       "      <td>NaN</td>\n",
       "      <td>NaN</td>\n",
       "      <td>NaN</td>\n",
       "      <td>NaN</td>\n",
       "      <td>NaN</td>\n",
       "      <td>NaN</td>\n",
       "      <td>NaN</td>\n",
       "      <td>NaN</td>\n",
       "      <td>NaN</td>\n",
       "      <td>NaN</td>\n",
       "      <td>NaN</td>\n",
       "      <td>NaN</td>\n",
       "      <td>NaN</td>\n",
       "      <td>NaN</td>\n",
       "    </tr>\n",
       "    <tr>\n",
       "      <th>3</th>\n",
       "      <td>16-5-0-0-0-0-0-36-0-0</td>\n",
       "      <td>Not availed</td>\n",
       "      <td>28</td>\n",
       "      <td>700027.0</td>\n",
       "      <td>हाँ</td>\n",
       "      <td>Literate</td>\n",
       "      <td>NaN</td>\n",
       "      <td>Formal</td>\n",
       "      <td>NaN</td>\n",
       "      <td>Continuing</td>\n",
       "      <td>NaN</td>\n",
       "      <td>Private</td>\n",
       "      <td>None</td>\n",
       "      <td>Walking</td>\n",
       "      <td>Yes</td>\n",
       "      <td>NaN</td>\n",
       "      <td>NaN</td>\n",
       "      <td>नही</td>\n",
       "      <td>नही</td>\n",
       "      <td>नही</td>\n",
       "      <td>हाँ</td>\n",
       "      <td>NaN</td>\n",
       "      <td>नहीं</td>\n",
       "      <td>NaN</td>\n",
       "      <td>NaN</td>\n",
       "      <td>NaN</td>\n",
       "      <td>NaN</td>\n",
       "      <td>NaN</td>\n",
       "      <td>NaN</td>\n",
       "      <td>NaN</td>\n",
       "      <td>NaN</td>\n",
       "      <td>NaN</td>\n",
       "      <td>NaN</td>\n",
       "      <td>NaN</td>\n",
       "      <td>NaN</td>\n",
       "      <td>NaN</td>\n",
       "      <td>NaN</td>\n",
       "      <td>NaN</td>\n",
       "    </tr>\n",
       "    <tr>\n",
       "      <th>4</th>\n",
       "      <td>16-3-0-0-0-0-0-37-0-0</td>\n",
       "      <td>Not availed</td>\n",
       "      <td>28</td>\n",
       "      <td>700027.0</td>\n",
       "      <td>हाँ</td>\n",
       "      <td>Literate</td>\n",
       "      <td>NaN</td>\n",
       "      <td>Formal</td>\n",
       "      <td>NaN</td>\n",
       "      <td>Continuing</td>\n",
       "      <td>NaN</td>\n",
       "      <td>Private</td>\n",
       "      <td>None</td>\n",
       "      <td>Walking</td>\n",
       "      <td>Yes</td>\n",
       "      <td>NaN</td>\n",
       "      <td>NaN</td>\n",
       "      <td>नही</td>\n",
       "      <td>नही</td>\n",
       "      <td>नही</td>\n",
       "      <td>हाँ</td>\n",
       "      <td>NaN</td>\n",
       "      <td>नहीं</td>\n",
       "      <td>NaN</td>\n",
       "      <td>NaN</td>\n",
       "      <td>NaN</td>\n",
       "      <td>NaN</td>\n",
       "      <td>NaN</td>\n",
       "      <td>NaN</td>\n",
       "      <td>NaN</td>\n",
       "      <td>NaN</td>\n",
       "      <td>NaN</td>\n",
       "      <td>NaN</td>\n",
       "      <td>NaN</td>\n",
       "      <td>NaN</td>\n",
       "      <td>NaN</td>\n",
       "      <td>NaN</td>\n",
       "      <td>NaN</td>\n",
       "    </tr>\n",
       "  </tbody>\n",
       "</table>\n",
       "</div>"
      ],
      "text/plain": [
       "                      id scholarshipAvailed  age   pincode hasAdhar  literacy  \\\n",
       "0  16-3-0-0-0-0-0-35-0-0        Not availed   28  700027.0      हाँ  Literate   \n",
       "1  16-5-0-0-0-0-0-35-0-0        Not availed   28  700027.0      हाँ  Literate   \n",
       "2  16-3-0-0-0-0-0-36-0-0        Not availed   28  700027.0      हाँ  Literate   \n",
       "3  16-5-0-0-0-0-0-36-0-0        Not availed   28  700027.0      हाँ  Literate   \n",
       "4  16-3-0-0-0-0-0-37-0-0        Not availed   28  700027.0      हाँ  Literate   \n",
       "\n",
       "  hasEnrolledAdultLiteracy eduType eduInformal statusFormalEdu eduOther  \\\n",
       "0                      NaN  Formal         NaN      Continuing      NaN   \n",
       "1                      NaN  Formal         NaN      Continuing      NaN   \n",
       "2                      NaN  Formal         NaN      Continuing      NaN   \n",
       "3                      NaN  Formal         NaN      Continuing      NaN   \n",
       "4                      NaN  Formal         NaN      Continuing      NaN   \n",
       "\n",
       "  typeOfSchool noScholarshipReason eduTransport isHeadOfFamily  \\\n",
       "0      Private                None      Walking            Yes   \n",
       "1      Private                None      Walking            Yes   \n",
       "2      Private                None      Walking            Yes   \n",
       "3      Private                None      Walking            Yes   \n",
       "4      Private                None      Walking            Yes   \n",
       "\n",
       "  genderHeadOfFamily relWithHeadOfFamily hasPDS hasSECC hasAyushmanBharat  \\\n",
       "0                NaN                 NaN    नही     नही               नही   \n",
       "1                NaN                 NaN    नही     नही               नही   \n",
       "2                NaN                 NaN    नही     नही               नही   \n",
       "3                NaN                 NaN    नही     नही               नही   \n",
       "4                NaN                 NaN    नही     नही               नही   \n",
       "\n",
       "  hasLand reasonLandless hasHealthCert employmentType isWageEarner  \\\n",
       "0     हाँ            NaN          नहीं            NaN          NaN   \n",
       "1     हाँ            NaN          नहीं            NaN          NaN   \n",
       "2     हाँ            NaN          नहीं            NaN          NaN   \n",
       "3     हाँ            NaN          नहीं            NaN          NaN   \n",
       "4     हाँ            NaN          नहीं            NaN          NaN   \n",
       "\n",
       "  isSHGMember isCooperativeMember isFPOMember noGroup wageRecievedCOVID  \\\n",
       "0         NaN                 NaN         NaN     NaN               NaN   \n",
       "1         NaN                 NaN         NaN     NaN               NaN   \n",
       "2         NaN                 NaN         NaN     NaN               NaN   \n",
       "3         NaN                 NaN         NaN     NaN               NaN   \n",
       "4         NaN                 NaN         NaN     NaN               NaN   \n",
       "\n",
       "  liveLostCOVID disabledCOVID illnessCOVID injuryCOVID movablePropLostCOVID  \\\n",
       "0           NaN           NaN          NaN         NaN                  NaN   \n",
       "1           NaN           NaN          NaN         NaN                  NaN   \n",
       "2           NaN           NaN          NaN         NaN                  NaN   \n",
       "3           NaN           NaN          NaN         NaN                  NaN   \n",
       "4           NaN           NaN          NaN         NaN                  NaN   \n",
       "\n",
       "  immovablePropLostCOVID interestedCertProgram vocationCategory  \n",
       "0                    NaN                   NaN              NaN  \n",
       "1                    NaN                   NaN              NaN  \n",
       "2                    NaN                   NaN              NaN  \n",
       "3                    NaN                   NaN              NaN  \n",
       "4                    NaN                   NaN              NaN  "
      ]
     },
     "execution_count": 2918,
     "metadata": {},
     "output_type": "execute_result"
    }
   ],
   "source": [
    "df.head()"
   ]
  },
  {
   "cell_type": "code",
   "execution_count": 2919,
   "metadata": {},
   "outputs": [
    {
     "name": "stdout",
     "output_type": "stream",
     "text": [
      "<class 'pandas.core.frame.DataFrame'>\n",
      "RangeIndex: 16000 entries, 0 to 15999\n",
      "Data columns (total 38 columns):\n",
      " #   Column                    Non-Null Count  Dtype  \n",
      "---  ------                    --------------  -----  \n",
      " 0   id                        16000 non-null  object \n",
      " 1   scholarshipAvailed        57 non-null     object \n",
      " 2   age                       16000 non-null  int64  \n",
      " 3   pincode                   15995 non-null  float64\n",
      " 4   hasAdhar                  16000 non-null  object \n",
      " 5   literacy                  15998 non-null  object \n",
      " 6   hasEnrolledAdultLiteracy  5291 non-null   object \n",
      " 7   eduType                   10693 non-null  object \n",
      " 8   eduInformal               242 non-null    object \n",
      " 9   statusFormalEdu           10406 non-null  object \n",
      " 10  eduOther                  72 non-null     object \n",
      " 11  typeOfSchool              101 non-null    object \n",
      " 12  noScholarshipReason       23 non-null     object \n",
      " 13  eduTransport              55 non-null     object \n",
      " 14  isHeadOfFamily            15917 non-null  object \n",
      " 15  genderHeadOfFamily        1436 non-null   object \n",
      " 16  relWithHeadOfFamily       1436 non-null   object \n",
      " 17  hasPDS                    16000 non-null  object \n",
      " 18  hasSECC                   15240 non-null  object \n",
      " 19  hasAyushmanBharat         16000 non-null  object \n",
      " 20  hasLand                   15998 non-null  object \n",
      " 21  reasonLandless            2091 non-null   object \n",
      " 22  hasHealthCert             16000 non-null  object \n",
      " 23  employmentType            1626 non-null   object \n",
      " 24  isWageEarner              1624 non-null   object \n",
      " 25  isSHGMember               1569 non-null   object \n",
      " 26  isCooperativeMember       1569 non-null   object \n",
      " 27  isFPOMember               1569 non-null   object \n",
      " 28  noGroup                   1569 non-null   object \n",
      " 29  wageRecievedCOVID         1569 non-null   object \n",
      " 30  liveLostCOVID             35 non-null     object \n",
      " 31  disabledCOVID             35 non-null     object \n",
      " 32  illnessCOVID              35 non-null     object \n",
      " 33  injuryCOVID               35 non-null     object \n",
      " 34  movablePropLostCOVID      35 non-null     object \n",
      " 35  immovablePropLostCOVID    35 non-null     object \n",
      " 36  interestedCertProgram     1220 non-null   object \n",
      " 37  vocationCategory          2 non-null      object \n",
      "dtypes: float64(1), int64(1), object(36)\n",
      "memory usage: 4.6+ MB\n"
     ]
    }
   ],
   "source": [
    "#Getting The datatype and number of values of each columns\n",
    "df.info()"
   ]
  },
  {
   "cell_type": "code",
   "execution_count": 2920,
   "metadata": {},
   "outputs": [
    {
     "data": {
      "text/html": [
       "<div>\n",
       "<style scoped>\n",
       "    .dataframe tbody tr th:only-of-type {\n",
       "        vertical-align: middle;\n",
       "    }\n",
       "\n",
       "    .dataframe tbody tr th {\n",
       "        vertical-align: top;\n",
       "    }\n",
       "\n",
       "    .dataframe thead th {\n",
       "        text-align: right;\n",
       "    }\n",
       "</style>\n",
       "<table border=\"1\" class=\"dataframe\">\n",
       "  <thead>\n",
       "    <tr style=\"text-align: right;\">\n",
       "      <th></th>\n",
       "      <th>age</th>\n",
       "      <th>pincode</th>\n",
       "    </tr>\n",
       "  </thead>\n",
       "  <tbody>\n",
       "    <tr>\n",
       "      <th>count</th>\n",
       "      <td>16000.000000</td>\n",
       "      <td>15995.000000</td>\n",
       "    </tr>\n",
       "    <tr>\n",
       "      <th>mean</th>\n",
       "      <td>40.232000</td>\n",
       "      <td>491969.999375</td>\n",
       "    </tr>\n",
       "    <tr>\n",
       "      <th>std</th>\n",
       "      <td>19.093957</td>\n",
       "      <td>35259.728373</td>\n",
       "    </tr>\n",
       "    <tr>\n",
       "      <th>min</th>\n",
       "      <td>-965.000000</td>\n",
       "      <td>1222.000000</td>\n",
       "    </tr>\n",
       "    <tr>\n",
       "      <th>25%</th>\n",
       "      <td>31.000000</td>\n",
       "      <td>491441.000000</td>\n",
       "    </tr>\n",
       "    <tr>\n",
       "      <th>50%</th>\n",
       "      <td>39.000000</td>\n",
       "      <td>491441.000000</td>\n",
       "    </tr>\n",
       "    <tr>\n",
       "      <th>75%</th>\n",
       "      <td>49.000000</td>\n",
       "      <td>493663.000000</td>\n",
       "    </tr>\n",
       "    <tr>\n",
       "      <th>max</th>\n",
       "      <td>106.000000</td>\n",
       "      <td>979889.000000</td>\n",
       "    </tr>\n",
       "  </tbody>\n",
       "</table>\n",
       "</div>"
      ],
      "text/plain": [
       "                age        pincode\n",
       "count  16000.000000   15995.000000\n",
       "mean      40.232000  491969.999375\n",
       "std       19.093957   35259.728373\n",
       "min     -965.000000    1222.000000\n",
       "25%       31.000000  491441.000000\n",
       "50%       39.000000  491441.000000\n",
       "75%       49.000000  493663.000000\n",
       "max      106.000000  979889.000000"
      ]
     },
     "execution_count": 2920,
     "metadata": {},
     "output_type": "execute_result"
    }
   ],
   "source": [
    "#Describe\n",
    "df.describe()"
   ]
  },
  {
   "cell_type": "code",
   "execution_count": 2921,
   "metadata": {},
   "outputs": [],
   "source": [
    "#Popping 'Id' and saving into another series variable\n",
    "dele=df.pop('id')"
   ]
  },
  {
   "cell_type": "code",
   "execution_count": 2922,
   "metadata": {},
   "outputs": [
    {
     "data": {
      "text/html": [
       "<div>\n",
       "<style scoped>\n",
       "    .dataframe tbody tr th:only-of-type {\n",
       "        vertical-align: middle;\n",
       "    }\n",
       "\n",
       "    .dataframe tbody tr th {\n",
       "        vertical-align: top;\n",
       "    }\n",
       "\n",
       "    .dataframe thead th {\n",
       "        text-align: right;\n",
       "    }\n",
       "</style>\n",
       "<table border=\"1\" class=\"dataframe\">\n",
       "  <thead>\n",
       "    <tr style=\"text-align: right;\">\n",
       "      <th></th>\n",
       "      <th>scholarshipAvailed</th>\n",
       "      <th>age</th>\n",
       "      <th>pincode</th>\n",
       "      <th>hasAdhar</th>\n",
       "      <th>literacy</th>\n",
       "      <th>hasEnrolledAdultLiteracy</th>\n",
       "      <th>eduType</th>\n",
       "      <th>eduInformal</th>\n",
       "      <th>statusFormalEdu</th>\n",
       "      <th>eduOther</th>\n",
       "      <th>typeOfSchool</th>\n",
       "      <th>noScholarshipReason</th>\n",
       "      <th>eduTransport</th>\n",
       "      <th>isHeadOfFamily</th>\n",
       "      <th>genderHeadOfFamily</th>\n",
       "      <th>relWithHeadOfFamily</th>\n",
       "      <th>hasPDS</th>\n",
       "      <th>hasSECC</th>\n",
       "      <th>hasAyushmanBharat</th>\n",
       "      <th>hasLand</th>\n",
       "      <th>reasonLandless</th>\n",
       "      <th>hasHealthCert</th>\n",
       "      <th>employmentType</th>\n",
       "      <th>isWageEarner</th>\n",
       "      <th>isSHGMember</th>\n",
       "      <th>isCooperativeMember</th>\n",
       "      <th>isFPOMember</th>\n",
       "      <th>noGroup</th>\n",
       "      <th>wageRecievedCOVID</th>\n",
       "      <th>liveLostCOVID</th>\n",
       "      <th>disabledCOVID</th>\n",
       "      <th>illnessCOVID</th>\n",
       "      <th>injuryCOVID</th>\n",
       "      <th>movablePropLostCOVID</th>\n",
       "      <th>immovablePropLostCOVID</th>\n",
       "      <th>interestedCertProgram</th>\n",
       "      <th>vocationCategory</th>\n",
       "    </tr>\n",
       "  </thead>\n",
       "  <tbody>\n",
       "    <tr>\n",
       "      <th>0</th>\n",
       "      <td>Not availed</td>\n",
       "      <td>28</td>\n",
       "      <td>700027.0</td>\n",
       "      <td>हाँ</td>\n",
       "      <td>Literate</td>\n",
       "      <td>NaN</td>\n",
       "      <td>Formal</td>\n",
       "      <td>NaN</td>\n",
       "      <td>Continuing</td>\n",
       "      <td>NaN</td>\n",
       "      <td>Private</td>\n",
       "      <td>None</td>\n",
       "      <td>Walking</td>\n",
       "      <td>Yes</td>\n",
       "      <td>NaN</td>\n",
       "      <td>NaN</td>\n",
       "      <td>नही</td>\n",
       "      <td>नही</td>\n",
       "      <td>नही</td>\n",
       "      <td>हाँ</td>\n",
       "      <td>NaN</td>\n",
       "      <td>नहीं</td>\n",
       "      <td>NaN</td>\n",
       "      <td>NaN</td>\n",
       "      <td>NaN</td>\n",
       "      <td>NaN</td>\n",
       "      <td>NaN</td>\n",
       "      <td>NaN</td>\n",
       "      <td>NaN</td>\n",
       "      <td>NaN</td>\n",
       "      <td>NaN</td>\n",
       "      <td>NaN</td>\n",
       "      <td>NaN</td>\n",
       "      <td>NaN</td>\n",
       "      <td>NaN</td>\n",
       "      <td>NaN</td>\n",
       "      <td>NaN</td>\n",
       "    </tr>\n",
       "    <tr>\n",
       "      <th>1</th>\n",
       "      <td>Not availed</td>\n",
       "      <td>28</td>\n",
       "      <td>700027.0</td>\n",
       "      <td>हाँ</td>\n",
       "      <td>Literate</td>\n",
       "      <td>NaN</td>\n",
       "      <td>Formal</td>\n",
       "      <td>NaN</td>\n",
       "      <td>Continuing</td>\n",
       "      <td>NaN</td>\n",
       "      <td>Private</td>\n",
       "      <td>None</td>\n",
       "      <td>Walking</td>\n",
       "      <td>Yes</td>\n",
       "      <td>NaN</td>\n",
       "      <td>NaN</td>\n",
       "      <td>नही</td>\n",
       "      <td>नही</td>\n",
       "      <td>नही</td>\n",
       "      <td>हाँ</td>\n",
       "      <td>NaN</td>\n",
       "      <td>नहीं</td>\n",
       "      <td>NaN</td>\n",
       "      <td>NaN</td>\n",
       "      <td>NaN</td>\n",
       "      <td>NaN</td>\n",
       "      <td>NaN</td>\n",
       "      <td>NaN</td>\n",
       "      <td>NaN</td>\n",
       "      <td>NaN</td>\n",
       "      <td>NaN</td>\n",
       "      <td>NaN</td>\n",
       "      <td>NaN</td>\n",
       "      <td>NaN</td>\n",
       "      <td>NaN</td>\n",
       "      <td>NaN</td>\n",
       "      <td>NaN</td>\n",
       "    </tr>\n",
       "    <tr>\n",
       "      <th>2</th>\n",
       "      <td>Not availed</td>\n",
       "      <td>28</td>\n",
       "      <td>700027.0</td>\n",
       "      <td>हाँ</td>\n",
       "      <td>Literate</td>\n",
       "      <td>NaN</td>\n",
       "      <td>Formal</td>\n",
       "      <td>NaN</td>\n",
       "      <td>Continuing</td>\n",
       "      <td>NaN</td>\n",
       "      <td>Private</td>\n",
       "      <td>None</td>\n",
       "      <td>Walking</td>\n",
       "      <td>Yes</td>\n",
       "      <td>NaN</td>\n",
       "      <td>NaN</td>\n",
       "      <td>नही</td>\n",
       "      <td>नही</td>\n",
       "      <td>नही</td>\n",
       "      <td>हाँ</td>\n",
       "      <td>NaN</td>\n",
       "      <td>नहीं</td>\n",
       "      <td>NaN</td>\n",
       "      <td>NaN</td>\n",
       "      <td>NaN</td>\n",
       "      <td>NaN</td>\n",
       "      <td>NaN</td>\n",
       "      <td>NaN</td>\n",
       "      <td>NaN</td>\n",
       "      <td>NaN</td>\n",
       "      <td>NaN</td>\n",
       "      <td>NaN</td>\n",
       "      <td>NaN</td>\n",
       "      <td>NaN</td>\n",
       "      <td>NaN</td>\n",
       "      <td>NaN</td>\n",
       "      <td>NaN</td>\n",
       "    </tr>\n",
       "    <tr>\n",
       "      <th>3</th>\n",
       "      <td>Not availed</td>\n",
       "      <td>28</td>\n",
       "      <td>700027.0</td>\n",
       "      <td>हाँ</td>\n",
       "      <td>Literate</td>\n",
       "      <td>NaN</td>\n",
       "      <td>Formal</td>\n",
       "      <td>NaN</td>\n",
       "      <td>Continuing</td>\n",
       "      <td>NaN</td>\n",
       "      <td>Private</td>\n",
       "      <td>None</td>\n",
       "      <td>Walking</td>\n",
       "      <td>Yes</td>\n",
       "      <td>NaN</td>\n",
       "      <td>NaN</td>\n",
       "      <td>नही</td>\n",
       "      <td>नही</td>\n",
       "      <td>नही</td>\n",
       "      <td>हाँ</td>\n",
       "      <td>NaN</td>\n",
       "      <td>नहीं</td>\n",
       "      <td>NaN</td>\n",
       "      <td>NaN</td>\n",
       "      <td>NaN</td>\n",
       "      <td>NaN</td>\n",
       "      <td>NaN</td>\n",
       "      <td>NaN</td>\n",
       "      <td>NaN</td>\n",
       "      <td>NaN</td>\n",
       "      <td>NaN</td>\n",
       "      <td>NaN</td>\n",
       "      <td>NaN</td>\n",
       "      <td>NaN</td>\n",
       "      <td>NaN</td>\n",
       "      <td>NaN</td>\n",
       "      <td>NaN</td>\n",
       "    </tr>\n",
       "    <tr>\n",
       "      <th>4</th>\n",
       "      <td>Not availed</td>\n",
       "      <td>28</td>\n",
       "      <td>700027.0</td>\n",
       "      <td>हाँ</td>\n",
       "      <td>Literate</td>\n",
       "      <td>NaN</td>\n",
       "      <td>Formal</td>\n",
       "      <td>NaN</td>\n",
       "      <td>Continuing</td>\n",
       "      <td>NaN</td>\n",
       "      <td>Private</td>\n",
       "      <td>None</td>\n",
       "      <td>Walking</td>\n",
       "      <td>Yes</td>\n",
       "      <td>NaN</td>\n",
       "      <td>NaN</td>\n",
       "      <td>नही</td>\n",
       "      <td>नही</td>\n",
       "      <td>नही</td>\n",
       "      <td>हाँ</td>\n",
       "      <td>NaN</td>\n",
       "      <td>नहीं</td>\n",
       "      <td>NaN</td>\n",
       "      <td>NaN</td>\n",
       "      <td>NaN</td>\n",
       "      <td>NaN</td>\n",
       "      <td>NaN</td>\n",
       "      <td>NaN</td>\n",
       "      <td>NaN</td>\n",
       "      <td>NaN</td>\n",
       "      <td>NaN</td>\n",
       "      <td>NaN</td>\n",
       "      <td>NaN</td>\n",
       "      <td>NaN</td>\n",
       "      <td>NaN</td>\n",
       "      <td>NaN</td>\n",
       "      <td>NaN</td>\n",
       "    </tr>\n",
       "  </tbody>\n",
       "</table>\n",
       "</div>"
      ],
      "text/plain": [
       "  scholarshipAvailed  age   pincode hasAdhar  literacy  \\\n",
       "0        Not availed   28  700027.0      हाँ  Literate   \n",
       "1        Not availed   28  700027.0      हाँ  Literate   \n",
       "2        Not availed   28  700027.0      हाँ  Literate   \n",
       "3        Not availed   28  700027.0      हाँ  Literate   \n",
       "4        Not availed   28  700027.0      हाँ  Literate   \n",
       "\n",
       "  hasEnrolledAdultLiteracy eduType eduInformal statusFormalEdu eduOther  \\\n",
       "0                      NaN  Formal         NaN      Continuing      NaN   \n",
       "1                      NaN  Formal         NaN      Continuing      NaN   \n",
       "2                      NaN  Formal         NaN      Continuing      NaN   \n",
       "3                      NaN  Formal         NaN      Continuing      NaN   \n",
       "4                      NaN  Formal         NaN      Continuing      NaN   \n",
       "\n",
       "  typeOfSchool noScholarshipReason eduTransport isHeadOfFamily  \\\n",
       "0      Private                None      Walking            Yes   \n",
       "1      Private                None      Walking            Yes   \n",
       "2      Private                None      Walking            Yes   \n",
       "3      Private                None      Walking            Yes   \n",
       "4      Private                None      Walking            Yes   \n",
       "\n",
       "  genderHeadOfFamily relWithHeadOfFamily hasPDS hasSECC hasAyushmanBharat  \\\n",
       "0                NaN                 NaN    नही     नही               नही   \n",
       "1                NaN                 NaN    नही     नही               नही   \n",
       "2                NaN                 NaN    नही     नही               नही   \n",
       "3                NaN                 NaN    नही     नही               नही   \n",
       "4                NaN                 NaN    नही     नही               नही   \n",
       "\n",
       "  hasLand reasonLandless hasHealthCert employmentType isWageEarner  \\\n",
       "0     हाँ            NaN          नहीं            NaN          NaN   \n",
       "1     हाँ            NaN          नहीं            NaN          NaN   \n",
       "2     हाँ            NaN          नहीं            NaN          NaN   \n",
       "3     हाँ            NaN          नहीं            NaN          NaN   \n",
       "4     हाँ            NaN          नहीं            NaN          NaN   \n",
       "\n",
       "  isSHGMember isCooperativeMember isFPOMember noGroup wageRecievedCOVID  \\\n",
       "0         NaN                 NaN         NaN     NaN               NaN   \n",
       "1         NaN                 NaN         NaN     NaN               NaN   \n",
       "2         NaN                 NaN         NaN     NaN               NaN   \n",
       "3         NaN                 NaN         NaN     NaN               NaN   \n",
       "4         NaN                 NaN         NaN     NaN               NaN   \n",
       "\n",
       "  liveLostCOVID disabledCOVID illnessCOVID injuryCOVID movablePropLostCOVID  \\\n",
       "0           NaN           NaN          NaN         NaN                  NaN   \n",
       "1           NaN           NaN          NaN         NaN                  NaN   \n",
       "2           NaN           NaN          NaN         NaN                  NaN   \n",
       "3           NaN           NaN          NaN         NaN                  NaN   \n",
       "4           NaN           NaN          NaN         NaN                  NaN   \n",
       "\n",
       "  immovablePropLostCOVID interestedCertProgram vocationCategory  \n",
       "0                    NaN                   NaN              NaN  \n",
       "1                    NaN                   NaN              NaN  \n",
       "2                    NaN                   NaN              NaN  \n",
       "3                    NaN                   NaN              NaN  \n",
       "4                    NaN                   NaN              NaN  "
      ]
     },
     "execution_count": 2922,
     "metadata": {},
     "output_type": "execute_result"
    }
   ],
   "source": [
    "df.head()"
   ]
  },
  {
   "cell_type": "code",
   "execution_count": 2923,
   "metadata": {},
   "outputs": [
    {
     "data": {
      "text/plain": [
       "(16000, 37)"
      ]
     },
     "execution_count": 2923,
     "metadata": {},
     "output_type": "execute_result"
    }
   ],
   "source": [
    "#Shape\n",
    "df.shape"
   ]
  },
  {
   "cell_type": "code",
   "execution_count": 2924,
   "metadata": {},
   "outputs": [
    {
     "data": {
      "text/plain": [
       "['scholarshipAvailed',\n",
       " 'hasAdhar',\n",
       " 'literacy',\n",
       " 'hasEnrolledAdultLiteracy',\n",
       " 'eduType',\n",
       " 'eduInformal',\n",
       " 'statusFormalEdu',\n",
       " 'eduOther',\n",
       " 'typeOfSchool',\n",
       " 'noScholarshipReason',\n",
       " 'eduTransport',\n",
       " 'isHeadOfFamily',\n",
       " 'genderHeadOfFamily',\n",
       " 'relWithHeadOfFamily',\n",
       " 'hasPDS',\n",
       " 'hasSECC',\n",
       " 'hasAyushmanBharat',\n",
       " 'hasLand',\n",
       " 'reasonLandless',\n",
       " 'hasHealthCert',\n",
       " 'employmentType',\n",
       " 'isWageEarner',\n",
       " 'isSHGMember',\n",
       " 'isCooperativeMember',\n",
       " 'isFPOMember',\n",
       " 'noGroup',\n",
       " 'wageRecievedCOVID',\n",
       " 'liveLostCOVID',\n",
       " 'disabledCOVID',\n",
       " 'illnessCOVID',\n",
       " 'injuryCOVID',\n",
       " 'movablePropLostCOVID',\n",
       " 'immovablePropLostCOVID',\n",
       " 'interestedCertProgram',\n",
       " 'vocationCategory']"
      ]
     },
     "execution_count": 2924,
     "metadata": {},
     "output_type": "execute_result"
    }
   ],
   "source": [
    "#Selecting 'Object' datatype variable\n",
    "col=df.select_dtypes(include=['object'])\n",
    "lst=col.columns.to_list()\n",
    "lst"
   ]
  },
  {
   "cell_type": "markdown",
   "metadata": {},
   "source": [
    "## Data Mapping"
   ]
  },
  {
   "cell_type": "markdown",
   "metadata": {},
   "source": [
    "##### The values in dataset columns are in different language that were making it tougher to analyse. So, I mapped the hindi value with the English value with the same meaning. These English values were already present in most of these columns."
   ]
  },
  {
   "cell_type": "code",
   "execution_count": 2925,
   "metadata": {},
   "outputs": [
    {
     "name": "stdout",
     "output_type": "stream",
     "text": [
      "scholarshipAvailed:\n",
      " NaN            15943\n",
      "हाँ               32\n",
      "नही               14\n",
      "Not availed        9\n",
      "नहीं               2\n",
      "Name: scholarshipAvailed, dtype: int64\n",
      "hasAdhar:\n",
      " हाँ    15530\n",
      "नही      470\n",
      "Name: hasAdhar, dtype: int64\n",
      "literacy:\n",
      " शिक्षित       10567\n",
      "अशिक्षित       5277\n",
      "Literate        132\n",
      "Illiterate       22\n",
      "NaN               2\n",
      "Name: literacy, dtype: int64\n",
      "hasEnrolledAdultLiteracy:\n",
      " NaN       10709\n",
      "नहीं       4335\n",
      "हाँ         930\n",
      "No           20\n",
      "#NAME?        4\n",
      "Yes           2\n",
      "Name: hasEnrolledAdultLiteracy, dtype: int64\n",
      "eduType:\n",
      " औपचारिक      10283\n",
      "NaN           5307\n",
      "अनौपचारिक      269\n",
      "Formal         126\n",
      "#NAME?          11\n",
      "Informal         4\n",
      "Name: eduType, dtype: int64\n",
      "eduInformal:\n",
      " NaN                15758\n",
      "व्यस्क साक्षरता      221\n",
      "अन्य                  14\n",
      "शिक्षा पूर्ण           3\n",
      "Others                 3\n",
      "Adult literacy         1\n",
      "Name: eduInformal, dtype: int64\n",
      "statusFormalEdu:\n",
      " शिक्षा पूर्ण          10139\n",
      "NaN                    5594\n",
      "जारी है                 116\n",
      "Finished Education      106\n",
      "--- चुनिए ---            25\n",
      "Dropout                  11\n",
      "Continuing                9\n",
      "Name: statusFormalEdu, dtype: int64\n",
      "eduOther:\n",
      " NaN                                        15928\n",
      "B. Ed                                          7\n",
      "MA                                             4\n",
      "m.a संस्कृति                                   4\n",
      "B.AIII                                         3\n",
      "B .A final                                     3\n",
      "B.sc final year                                3\n",
      "बैचलर ऑफ़ आर्ट्स                                3\n",
      "B. A final year                                3\n",
      "M .com                                         3\n",
      "8                                              3\n",
      "B.sc nursing                                   3\n",
      "B.A. final year                                3\n",
      "MA Sanskrit                                    2\n",
      "12                                             2\n",
      "2nd dear                                       2\n",
      "BA final                                       2\n",
      "Old Matric                                     2\n",
      "BA                                             2\n",
      "B.A first year                                 2\n",
      "ITI (COPA)                                     1\n",
      "सूचना संचार प्रौद्योगिकी प्रणाली रखरखाव        1\n",
      "BA 1 year                                      1\n",
      "Bsc Agriculture                                1\n",
      "12TH                                           1\n",
      "b.sc                                           1\n",
      "B.A. Final year                                1\n",
      "अन्य                                           1\n",
      "B A FAINAL                                     1\n",
      "B. A final                                     1\n",
      "B. A                                           1\n",
      "B.com final year                               1\n",
      "SALES                                          1\n",
      "12 वी                                          1\n",
      "साछरता मिशन                                    1\n",
      "बी ए                                           1\n",
      "Name: eduOther, dtype: int64\n",
      "typeOfSchool:\n",
      " NaN        15899\n",
      "सरकारी        89\n",
      "Private        7\n",
      "निजी           5\n",
      "Name: typeOfSchool, dtype: int64\n",
      "noScholarshipReason:\n",
      " NaN                                            15977\n",
      "None                                               7\n",
      "NHi mila                                           4\n",
      "Candidate was privete student                      2\n",
      "Private School h karke                             2\n",
      "जाति नहीं है                                       1\n",
      "Sarm pajiyan nhi banne ke kard                     1\n",
      "फार्म नहीं भरे                                     1\n",
      "सामान्य                                            1\n",
      "पुर्ण जानकारी नहीं होने के कारण                    1\n",
      "OPEN SCHOOL                                        1\n",
      "DUE TO UNAVAILABILITY OF INCOME CERTIFICATE        1\n",
      "I don't know                                       1\n",
      "Name: noScholarshipReason, dtype: int64\n",
      "eduTransport:\n",
      " NaN                                15945\n",
      "पैदल चलकर                             28\n",
      "सार्वजनिक परिवहन - बस                  8\n",
      "Walking                                7\n",
      "खुद का ट्रांसपोर्ट 2-व्हीलर            6\n",
      "सार्वजनिक परिवहन - ऑटो / रिक्शा        2\n",
      "खुद की ट्रांसपोर्ट साइकिल              2\n",
      "Public transport - bus                 2\n",
      "Name: eduTransport, dtype: int64\n",
      "isHeadOfFamily:\n",
      " हाँ     14406\n",
      "नही      1149\n",
      "नहीं      208\n",
      "NaN        83\n",
      "No         79\n",
      "Yes        75\n",
      "Name: isHeadOfFamily, dtype: int64\n",
      "genderHeadOfFamily:\n",
      " NaN          14564\n",
      "महिला          749\n",
      "पुरुष          604\n",
      "Female          52\n",
      "Male            27\n",
      "अन्य वर्ग        4\n",
      "Name: genderHeadOfFamily, dtype: int64\n",
      "relWithHeadOfFamily:\n",
      " NaN              14564\n",
      "बहु                303\n",
      "पत्नी              298\n",
      "पुत्र              216\n",
      "पति                154\n",
      "पुत्री             119\n",
      "माता                72\n",
      "पिता                68\n",
      "सास                 66\n",
      "Husband             51\n",
      "भाई                 28\n",
      "ससुर                10\n",
      "Father               9\n",
      "Grandson             6\n",
      "Wife                 6\n",
      "बहन                  5\n",
      "Half-sibling         5\n",
      "चाचा                 4\n",
      "Son                  3\n",
      "पोता                 3\n",
      "पोती                 2\n",
      "Mother               2\n",
      "भांजी                1\n",
      "दादी                 1\n",
      "Daughter             1\n",
      "नतिनी                1\n",
      "Grandmother          1\n",
      "--- चुनिए ---        1\n",
      "Name: relWithHeadOfFamily, dtype: int64\n",
      "hasPDS:\n",
      " हाँ     13040\n",
      "नही      2512\n",
      "नहीं      448\n",
      "Name: hasPDS, dtype: int64\n",
      "hasSECC:\n",
      " नही              14406\n",
      "नंबर नहीं पता      773\n",
      "NaN                760\n",
      "नहीं                35\n",
      "हाँ                 26\n",
      "Name: hasSECC, dtype: int64\n",
      "hasAyushmanBharat:\n",
      " नही              13572\n",
      "नंबर नहीं पता     1093\n",
      "नहीं               670\n",
      "हाँ                665\n",
      "Name: hasAyushmanBharat, dtype: int64\n",
      "hasLand:\n",
      " हाँ     11051\n",
      "नहीं     4945\n",
      "NaN         2\n",
      "Yes         2\n",
      "Name: hasLand, dtype: int64\n",
      "reasonLandless:\n",
      " NaN                        13909\n",
      "No hereditary ownership     1159\n",
      "Others                       439\n",
      "Displaced                    315\n",
      "Sold out of distress          93\n",
      "--- Select ---                85\n",
      "Name: reasonLandless, dtype: int64\n",
      "hasHealthCert:\n",
      " नहीं         15271\n",
      "हाँ            725\n",
      "नहीं/नंबर        4\n",
      "Name: hasHealthCert, dtype: int64\n",
      "employmentType:\n",
      " NaN             14374\n",
      "स्व नियोक्ता     1491\n",
      "वेतन भोगी         120\n",
      "पूरा समय           15\n",
      "Name: employmentType, dtype: int64\n",
      "isWageEarner:\n",
      " NaN    14376\n",
      "नही     1338\n",
      "हाँ      286\n",
      "Name: isWageEarner, dtype: int64\n",
      "isSHGMember:\n",
      " NaN    14431\n",
      "नही     1492\n",
      "हाँ       77\n",
      "Name: isSHGMember, dtype: int64\n",
      "isCooperativeMember:\n",
      " NaN    14431\n",
      "नही     1563\n",
      "No         5\n",
      "Yes        1\n",
      "Name: isCooperativeMember, dtype: int64\n",
      "isFPOMember:\n",
      " NaN    14431\n",
      "नही     1563\n",
      "No         6\n",
      "Name: isFPOMember, dtype: int64\n",
      "noGroup:\n",
      " NaN    14431\n",
      "हाँ      837\n",
      "नही      726\n",
      "Yes        5\n",
      "No         1\n",
      "Name: noGroup, dtype: int64\n",
      "wageRecievedCOVID:\n",
      " NaN                               14431\n",
      "---चुनिये---                        644\n",
      "मजदूरी के लिए अनुरोध नहीं किया      457\n",
      "पूर्ण                               348\n",
      "अनुरोध किया लेकिन मना कर दिया       101\n",
      "आंशिक - राशि INR में                 13\n",
      "Did not request for wages             3\n",
      "Full                                  2\n",
      "Partial - amount in INR               1\n",
      "Name: wageRecievedCOVID, dtype: int64\n",
      "liveLostCOVID:\n",
      " NaN    15965\n",
      "नही       29\n",
      "No         5\n",
      "Yes        1\n",
      "Name: liveLostCOVID, dtype: int64\n",
      "disabledCOVID:\n",
      " NaN    15965\n",
      "नही       29\n",
      "No         4\n",
      "Yes        2\n",
      "Name: disabledCOVID, dtype: int64\n",
      "illnessCOVID:\n",
      " NaN    15965\n",
      "नही       23\n",
      "हाँ        6\n",
      "No         6\n",
      "Name: illnessCOVID, dtype: int64\n",
      "injuryCOVID:\n",
      " NaN    15965\n",
      "नही       17\n",
      "हाँ       12\n",
      "No         6\n",
      "Name: injuryCOVID, dtype: int64\n",
      "movablePropLostCOVID:\n",
      " NaN    15965\n",
      "नही       24\n",
      "हाँ        5\n",
      "No         4\n",
      "Yes        2\n",
      "Name: movablePropLostCOVID, dtype: int64\n",
      "immovablePropLostCOVID:\n",
      " NaN    15965\n",
      "नही       23\n",
      "हाँ        6\n",
      "No         3\n",
      "Yes        3\n",
      "Name: immovablePropLostCOVID, dtype: int64\n",
      "interestedCertProgram:\n",
      " NaN    14780\n",
      "YES     1220\n",
      "Name: interestedCertProgram, dtype: int64\n",
      "vocationCategory:\n",
      " NaN                 15998\n",
      "पर्यटन और आतिथ्य        2\n",
      "Name: vocationCategory, dtype: int64\n"
     ]
    }
   ],
   "source": [
    "#Getting value counts of all columns\n",
    "for i in lst:\n",
    "    print(f\"{i}:\\n {df[i].value_counts(dropna=False)}\")"
   ]
  },
  {
   "cell_type": "code",
   "execution_count": 2926,
   "metadata": {},
   "outputs": [
    {
     "data": {
      "text/plain": [
       "NaN    15943\n",
       "1.0       32\n",
       "0.0       25\n",
       "Name: scholarshipAvailed, dtype: int64"
      ]
     },
     "execution_count": 2926,
     "metadata": {},
     "output_type": "execute_result"
    }
   ],
   "source": [
    "#Dependent Variable- \"scholarshipAvailed\"\n",
    "\n",
    "df['scholarshipAvailed']=df['scholarshipAvailed'].replace({'हाँ':1,'नही':0,'नहीं':0,'Not availed':0})\n",
    "df['scholarshipAvailed'].value_counts(dropna=False)"
   ]
  },
  {
   "cell_type": "code",
   "execution_count": 2927,
   "metadata": {},
   "outputs": [
    {
     "data": {
      "text/plain": [
       "dtype('float64')"
      ]
     },
     "execution_count": 2927,
     "metadata": {},
     "output_type": "execute_result"
    }
   ],
   "source": [
    "#Checking Datatype of Target Variable\n",
    "df['scholarshipAvailed'].dtype"
   ]
  },
  {
   "cell_type": "code",
   "execution_count": 2928,
   "metadata": {},
   "outputs": [
    {
     "data": {
      "text/plain": [
       "NaN    15943\n",
       "1.0       32\n",
       "0.0       25\n",
       "Name: scholarshipAvailed, dtype: int64"
      ]
     },
     "execution_count": 2928,
     "metadata": {},
     "output_type": "execute_result"
    }
   ],
   "source": [
    "df['scholarshipAvailed'].value_counts(dropna=False)"
   ]
  },
  {
   "cell_type": "code",
   "execution_count": 2929,
   "metadata": {},
   "outputs": [
    {
     "data": {
      "text/plain": [
       "Yes    15530\n",
       "No       470\n",
       "Name: hasAdhar, dtype: int64"
      ]
     },
     "execution_count": 2929,
     "metadata": {},
     "output_type": "execute_result"
    }
   ],
   "source": [
    "#Variable-\"hasAdhar\"\n",
    "\n",
    "df['hasAdhar']=df['hasAdhar'].replace({'हाँ':'Yes','नही':'No'})\n",
    "df['hasAdhar'].value_counts(dropna=False)"
   ]
  },
  {
   "cell_type": "code",
   "execution_count": 2930,
   "metadata": {},
   "outputs": [
    {
     "data": {
      "text/plain": [
       "Literate      10699\n",
       "Illiterate     5299\n",
       "NaN               2\n",
       "Name: literacy, dtype: int64"
      ]
     },
     "execution_count": 2930,
     "metadata": {},
     "output_type": "execute_result"
    }
   ],
   "source": [
    "#Variable-\"literacy\"\n",
    "\n",
    "df['literacy']=df['literacy'].replace({'शिक्षित':'Literate','नही':'Illiterate','अशिक्षित':'Illiterate'})\n",
    "df['literacy'].value_counts(dropna=False)"
   ]
  },
  {
   "cell_type": "code",
   "execution_count": 2931,
   "metadata": {},
   "outputs": [
    {
     "data": {
      "text/plain": [
       "NaN    10709\n",
       "No      4359\n",
       "Yes      932\n",
       "Name: hasEnrolledAdultLiteracy, dtype: int64"
      ]
     },
     "execution_count": 2931,
     "metadata": {},
     "output_type": "execute_result"
    }
   ],
   "source": [
    "#Variable-\"hasEnrolledAdultLiteracy\"\n",
    "\n",
    "df['hasEnrolledAdultLiteracy']=df['hasEnrolledAdultLiteracy'].replace({'हाँ':'Yes','नही':'No','नहीं':'No','#NAME?':'No'})\n",
    "df['hasEnrolledAdultLiteracy'].value_counts(dropna=False)"
   ]
  },
  {
   "cell_type": "code",
   "execution_count": 2932,
   "metadata": {},
   "outputs": [
    {
     "data": {
      "text/plain": [
       "Formal      10420\n",
       "NaN          5307\n",
       "Informal      273\n",
       "Name: eduType, dtype: int64"
      ]
     },
     "execution_count": 2932,
     "metadata": {},
     "output_type": "execute_result"
    }
   ],
   "source": [
    "#Variable-\"eduType\"\n",
    "\n",
    "df['eduType']=df['eduType'].replace({'औपचारिक':'Formal','अनौपचारिक':'Informal','#NAME?':'Formal'})\n",
    "df['eduType'].value_counts(dropna=False)"
   ]
  },
  {
   "cell_type": "code",
   "execution_count": 2933,
   "metadata": {},
   "outputs": [
    {
     "data": {
      "text/plain": [
       "NaN                   15758\n",
       "Adult literacy          222\n",
       "Others                   17\n",
       "Finished Education        3\n",
       "Name: eduInformal, dtype: int64"
      ]
     },
     "execution_count": 2933,
     "metadata": {},
     "output_type": "execute_result"
    }
   ],
   "source": [
    "#Variable-\"eduInformal\"\n",
    "\n",
    "df['eduInformal']=df['eduInformal'].replace({'व्यस्क साक्षरता':'Adult literacy','अन्य':'Others','शिक्षा पूर्ण':'Finished Education'})\n",
    "df['eduInformal'].value_counts(dropna=False)"
   ]
  },
  {
   "cell_type": "code",
   "execution_count": 2934,
   "metadata": {},
   "outputs": [
    {
     "data": {
      "text/plain": [
       "Finished Education    10245\n",
       "NaN                    5619\n",
       "Continuing              125\n",
       "Dropout                  11\n",
       "Name: statusFormalEdu, dtype: int64"
      ]
     },
     "execution_count": 2934,
     "metadata": {},
     "output_type": "execute_result"
    }
   ],
   "source": [
    "#Variable-\"statusFormalEdu\"\n",
    "\n",
    "df['statusFormalEdu']=df['statusFormalEdu'].replace({'शिक्षा पूर्ण':'Finished Education','जारी है':'Continuing','--- चुनिए ---':np.nan})\n",
    "df['statusFormalEdu'].value_counts(dropna=False)"
   ]
  },
  {
   "cell_type": "code",
   "execution_count": 2935,
   "metadata": {},
   "outputs": [
    {
     "data": {
      "text/plain": [
       "NaN           15899\n",
       "Government       89\n",
       "Private          12\n",
       "Name: typeOfSchool, dtype: int64"
      ]
     },
     "execution_count": 2935,
     "metadata": {},
     "output_type": "execute_result"
    }
   ],
   "source": [
    "#Variable-\"typeOfSchool\"\n",
    "\n",
    "df['typeOfSchool']=df['typeOfSchool'].replace({'सरकारी':'Government','निजी':'Private'})\n",
    "df['typeOfSchool'].value_counts(dropna=False)"
   ]
  },
  {
   "cell_type": "code",
   "execution_count": 2936,
   "metadata": {},
   "outputs": [
    {
     "data": {
      "text/plain": [
       "NaN                  15945\n",
       "Walking                 35\n",
       "Public Transport        12\n",
       "Private Transport        8\n",
       "Name: eduTransport, dtype: int64"
      ]
     },
     "execution_count": 2936,
     "metadata": {},
     "output_type": "execute_result"
    }
   ],
   "source": [
    "#Variable-\"typeOfSchool\"\n",
    "\n",
    "df['eduTransport']=df['eduTransport'].replace({'पैदल चलकर':'Walking','सार्वजनिक परिवहन - बस':'Public Transport','खुद का ट्रांसपोर्ट 2-व्हीलर':'Private Transport',\n",
    "                                              'सार्वजनिक परिवहन - ऑटो / रिक्शा':'Public Transport','खुद की ट्रांसपोर्ट साइकिल':'Private Transport','Public transport - bus':'Public Transport'})\n",
    "df['eduTransport'].value_counts(dropna=False)"
   ]
  },
  {
   "cell_type": "code",
   "execution_count": 2937,
   "metadata": {},
   "outputs": [
    {
     "data": {
      "text/plain": [
       "Yes    14481\n",
       "No      1436\n",
       "NaN       83\n",
       "Name: isHeadOfFamily, dtype: int64"
      ]
     },
     "execution_count": 2937,
     "metadata": {},
     "output_type": "execute_result"
    }
   ],
   "source": [
    "#Variable-\"isHeadOfFamily\"\n",
    "\n",
    "df['isHeadOfFamily']=df['isHeadOfFamily'].replace({'हाँ':'Yes','नही':'No','नहीं':'No'})\n",
    "df['isHeadOfFamily'].value_counts(dropna=False)"
   ]
  },
  {
   "cell_type": "code",
   "execution_count": 2938,
   "metadata": {},
   "outputs": [
    {
     "data": {
      "text/plain": [
       "NaN       14564\n",
       "Female      801\n",
       "Male        631\n",
       "Others        4\n",
       "Name: genderHeadOfFamily, dtype: int64"
      ]
     },
     "execution_count": 2938,
     "metadata": {},
     "output_type": "execute_result"
    }
   ],
   "source": [
    "#Variable-\"genderHeadOfFamily\" \n",
    "\n",
    "df['genderHeadOfFamily']=df['genderHeadOfFamily'].replace({'महिला':'Female','पुरुष':'Male','अन्य वर्ग':'Others'})\n",
    "df['genderHeadOfFamily'].value_counts(dropna=False)"
   ]
  },
  {
   "cell_type": "code",
   "execution_count": 2939,
   "metadata": {},
   "outputs": [
    {
     "data": {
      "text/plain": [
       "Yes    13040\n",
       "No      2960\n",
       "Name: hasPDS, dtype: int64"
      ]
     },
     "execution_count": 2939,
     "metadata": {},
     "output_type": "execute_result"
    }
   ],
   "source": [
    "#Variable-\"hasPDS\"\n",
    "\n",
    "df['hasPDS']=df['hasPDS'].replace({'हाँ':'Yes','नही':'No','नहीं':'No'})\n",
    "df['hasPDS'].value_counts(dropna=False)"
   ]
  },
  {
   "cell_type": "code",
   "execution_count": 2940,
   "metadata": {},
   "outputs": [
    {
     "data": {
      "text/plain": [
       "No     14441\n",
       "Yes      799\n",
       "NaN      760\n",
       "Name: hasSECC, dtype: int64"
      ]
     },
     "execution_count": 2940,
     "metadata": {},
     "output_type": "execute_result"
    }
   ],
   "source": [
    "#Variable- \"hasSECC\"\n",
    "\n",
    "df['hasSECC']=df['hasSECC'].replace({'हाँ':'Yes','नही':'No','नहीं':'No','नंबर नहीं पता':'Yes'})\n",
    "df['hasSECC'].value_counts(dropna=False)"
   ]
  },
  {
   "cell_type": "code",
   "execution_count": 2941,
   "metadata": {},
   "outputs": [
    {
     "data": {
      "text/plain": [
       "No     14242\n",
       "Yes     1758\n",
       "Name: hasAyushmanBharat, dtype: int64"
      ]
     },
     "execution_count": 2941,
     "metadata": {},
     "output_type": "execute_result"
    }
   ],
   "source": [
    "#Variable- \"hasAyushmanBharat\"\n",
    "\n",
    "df['hasAyushmanBharat']=df['hasAyushmanBharat'].replace({'हाँ':'Yes','नही':'No','नहीं':'No','नंबर नहीं पता':'Yes'})\n",
    "df['hasAyushmanBharat'].value_counts(dropna=False)"
   ]
  },
  {
   "cell_type": "code",
   "execution_count": 2942,
   "metadata": {},
   "outputs": [
    {
     "data": {
      "text/plain": [
       "Yes    11053\n",
       "No      4945\n",
       "NaN        2\n",
       "Name: hasLand, dtype: int64"
      ]
     },
     "execution_count": 2942,
     "metadata": {},
     "output_type": "execute_result"
    }
   ],
   "source": [
    "#Variable- \"hasLand\" \n",
    "\n",
    "df['hasLand']=df['hasLand'].replace({'हाँ':'Yes','नहीं':'No'})\n",
    "df['hasLand'].value_counts(dropna=False)"
   ]
  },
  {
   "cell_type": "code",
   "execution_count": 2943,
   "metadata": {},
   "outputs": [
    {
     "data": {
      "text/plain": [
       "NaN                        13994\n",
       "No hereditary ownership     1159\n",
       "Others                       439\n",
       "Displaced                    315\n",
       "Sold out of distress          93\n",
       "Name: reasonLandless, dtype: int64"
      ]
     },
     "execution_count": 2943,
     "metadata": {},
     "output_type": "execute_result"
    }
   ],
   "source": [
    "#Variable-\"reasonLandless\"\n",
    "\n",
    "df['reasonLandless']=df['reasonLandless'].replace({'--- Select ---':np.nan})\n",
    "df['reasonLandless'].value_counts(dropna=False)"
   ]
  },
  {
   "cell_type": "code",
   "execution_count": 2944,
   "metadata": {},
   "outputs": [
    {
     "data": {
      "text/plain": [
       "No     15275\n",
       "Yes      725\n",
       "Name: hasHealthCert, dtype: int64"
      ]
     },
     "execution_count": 2944,
     "metadata": {},
     "output_type": "execute_result"
    }
   ],
   "source": [
    "#Variable-\"hasHealthCert\"\n",
    "\n",
    "df['hasHealthCert']=df['hasHealthCert'].replace({'हाँ':'Yes','नहीं':'No','नहीं/नंबर':'No'})\n",
    "df['hasHealthCert'].value_counts(dropna=False)"
   ]
  },
  {
   "cell_type": "code",
   "execution_count": 2945,
   "metadata": {},
   "outputs": [
    {
     "data": {
      "text/plain": [
       "NaN              14374\n",
       "Self Employed     1491\n",
       "Salaried           135\n",
       "Name: employmentType, dtype: int64"
      ]
     },
     "execution_count": 2945,
     "metadata": {},
     "output_type": "execute_result"
    }
   ],
   "source": [
    "#Variable-\"employmentType\"\n",
    "\n",
    "df['employmentType']=df['employmentType'].replace({'स्व नियोक्ता':'Self Employed','वेतन भोगी':'Salaried','पूरा समय':'Salaried'})\n",
    "df['employmentType'].value_counts(dropna=False)"
   ]
  },
  {
   "cell_type": "code",
   "execution_count": 2946,
   "metadata": {},
   "outputs": [
    {
     "data": {
      "text/plain": [
       "NaN    14376\n",
       "No      1338\n",
       "Yes      286\n",
       "Name: isWageEarner, dtype: int64"
      ]
     },
     "execution_count": 2946,
     "metadata": {},
     "output_type": "execute_result"
    }
   ],
   "source": [
    "#Variable-\"isWageEarner\"\n",
    "\n",
    "df['isWageEarner']=df['isWageEarner'].replace({'हाँ':'Yes','नही':'No'})\n",
    "df['isWageEarner'].value_counts(dropna=False)"
   ]
  },
  {
   "cell_type": "code",
   "execution_count": 2947,
   "metadata": {},
   "outputs": [
    {
     "data": {
      "text/plain": [
       "NaN    14431\n",
       "No      1492\n",
       "Yes       77\n",
       "Name: isSHGMember, dtype: int64"
      ]
     },
     "execution_count": 2947,
     "metadata": {},
     "output_type": "execute_result"
    }
   ],
   "source": [
    "#Variable-\"isSHGMember\"\n",
    "\n",
    "df['isSHGMember']=df['isSHGMember'].replace({'हाँ':'Yes','नही':'No'})\n",
    "df['isSHGMember'].value_counts(dropna=False)"
   ]
  },
  {
   "cell_type": "code",
   "execution_count": 2948,
   "metadata": {},
   "outputs": [
    {
     "data": {
      "text/plain": [
       "NaN    14431\n",
       "No      1568\n",
       "Yes        1\n",
       "Name: isCooperativeMember, dtype: int64"
      ]
     },
     "execution_count": 2948,
     "metadata": {},
     "output_type": "execute_result"
    }
   ],
   "source": [
    "#Variable-\"isCooperativeMember\"\n",
    "\n",
    "df['isCooperativeMember']=df['isCooperativeMember'].replace({'नही':'No'})\n",
    "df['isCooperativeMember'].value_counts(dropna=False)"
   ]
  },
  {
   "cell_type": "code",
   "execution_count": 2949,
   "metadata": {},
   "outputs": [
    {
     "data": {
      "text/plain": [
       "NaN    14431\n",
       "No      1569\n",
       "Name: isFPOMember, dtype: int64"
      ]
     },
     "execution_count": 2949,
     "metadata": {},
     "output_type": "execute_result"
    }
   ],
   "source": [
    "#Variable-\"isFPOMember\"\n",
    "\n",
    "df['isFPOMember']=df['isFPOMember'].replace({'नही':'No'})\n",
    "df['isFPOMember'].value_counts(dropna=False)"
   ]
  },
  {
   "cell_type": "code",
   "execution_count": 2950,
   "metadata": {},
   "outputs": [
    {
     "data": {
      "text/plain": [
       "NaN    14431\n",
       "Yes      842\n",
       "No       727\n",
       "Name: noGroup, dtype: int64"
      ]
     },
     "execution_count": 2950,
     "metadata": {},
     "output_type": "execute_result"
    }
   ],
   "source": [
    "#Variable-\"noGroup\"\n",
    "\n",
    "df['noGroup']=df['noGroup'].replace({'नही':'No','हाँ':'Yes'})\n",
    "df['noGroup'].value_counts(dropna=False)"
   ]
  },
  {
   "cell_type": "code",
   "execution_count": 2951,
   "metadata": {},
   "outputs": [
    {
     "data": {
      "text/plain": [
       "NaN                          15075\n",
       "Did not request for wages      460\n",
       "Full                           350\n",
       "No                             101\n",
       "Partial - amount in INR         14\n",
       "Name: wageRecievedCOVID, dtype: int64"
      ]
     },
     "execution_count": 2951,
     "metadata": {},
     "output_type": "execute_result"
    }
   ],
   "source": [
    "#Variable-\"wageRecievedCOVID\"\n",
    "\n",
    "df['wageRecievedCOVID']=df['wageRecievedCOVID'].replace({'मजदूरी के लिए अनुरोध नहीं किया':'Did not request for wages',\n",
    "                                                         'पूर्ण':'Full','अनुरोध किया लेकिन मना कर दिया':'No',\n",
    "                                                        'आंशिक - राशि INR में':'Partial - amount in INR','---चुनिये---':np.nan})\n",
    "df['wageRecievedCOVID'].value_counts(dropna=False)"
   ]
  },
  {
   "cell_type": "code",
   "execution_count": 2952,
   "metadata": {},
   "outputs": [
    {
     "data": {
      "text/plain": [
       "NaN    15965\n",
       "No        34\n",
       "Yes        1\n",
       "Name: liveLostCOVID, dtype: int64"
      ]
     },
     "execution_count": 2952,
     "metadata": {},
     "output_type": "execute_result"
    }
   ],
   "source": [
    "#Variable-\"liveLostCOVID\"\n",
    "\n",
    "df['liveLostCOVID']=df['liveLostCOVID'].replace({'नही':'No'})\n",
    "df['liveLostCOVID'].value_counts(dropna=False)"
   ]
  },
  {
   "cell_type": "code",
   "execution_count": 2953,
   "metadata": {},
   "outputs": [
    {
     "data": {
      "text/plain": [
       "NaN    15965\n",
       "No        33\n",
       "Yes        2\n",
       "Name: disabledCOVID, dtype: int64"
      ]
     },
     "execution_count": 2953,
     "metadata": {},
     "output_type": "execute_result"
    }
   ],
   "source": [
    "#Variable- \"disabledCOVID\"\n",
    "\n",
    "df['disabledCOVID']=df['disabledCOVID'].replace({'नही':'No'})\n",
    "df['disabledCOVID'].value_counts(dropna=False)"
   ]
  },
  {
   "cell_type": "code",
   "execution_count": 2954,
   "metadata": {},
   "outputs": [
    {
     "data": {
      "text/plain": [
       "NaN    15965\n",
       "No        29\n",
       "Yes        6\n",
       "Name: illnessCOVID, dtype: int64"
      ]
     },
     "execution_count": 2954,
     "metadata": {},
     "output_type": "execute_result"
    }
   ],
   "source": [
    "#Variable- \"illnessCOVID\"\n",
    "\n",
    "df['illnessCOVID']=df['illnessCOVID'].replace({'नही':'No','हाँ':'Yes'})\n",
    "df['illnessCOVID'].value_counts(dropna=False)"
   ]
  },
  {
   "cell_type": "code",
   "execution_count": 2955,
   "metadata": {},
   "outputs": [
    {
     "data": {
      "text/plain": [
       "NaN    15965\n",
       "No        23\n",
       "Yes       12\n",
       "Name: injuryCOVID, dtype: int64"
      ]
     },
     "execution_count": 2955,
     "metadata": {},
     "output_type": "execute_result"
    }
   ],
   "source": [
    "#Variable-\"injuryCOVID\"\n",
    "\n",
    "df['injuryCOVID']=df['injuryCOVID'].replace({'नही':'No','हाँ':'Yes'})\n",
    "df['injuryCOVID'].value_counts(dropna=False)"
   ]
  },
  {
   "cell_type": "code",
   "execution_count": 2956,
   "metadata": {},
   "outputs": [
    {
     "data": {
      "text/plain": [
       "NaN    15965\n",
       "No        28\n",
       "Yes        7\n",
       "Name: movablePropLostCOVID, dtype: int64"
      ]
     },
     "execution_count": 2956,
     "metadata": {},
     "output_type": "execute_result"
    }
   ],
   "source": [
    "#Variable-\"movablePropLostCOVID\"\n",
    "\n",
    "df['movablePropLostCOVID']=df['movablePropLostCOVID'].replace({'नही':'No','हाँ':'Yes'})\n",
    "df['movablePropLostCOVID'].value_counts(dropna=False)"
   ]
  },
  {
   "cell_type": "code",
   "execution_count": 2957,
   "metadata": {},
   "outputs": [
    {
     "data": {
      "text/plain": [
       "NaN    15965\n",
       "No        26\n",
       "Yes        9\n",
       "Name: immovablePropLostCOVID, dtype: int64"
      ]
     },
     "execution_count": 2957,
     "metadata": {},
     "output_type": "execute_result"
    }
   ],
   "source": [
    "#Variable-\"ImmovablePropLostCOVID\"\n",
    "\n",
    "df['immovablePropLostCOVID']=df['immovablePropLostCOVID'].replace({'नही':'No','हाँ':'Yes'})\n",
    "df['immovablePropLostCOVID'].value_counts(dropna=False)"
   ]
  },
  {
   "cell_type": "code",
   "execution_count": 2958,
   "metadata": {},
   "outputs": [
    {
     "data": {
      "text/plain": [
       "NaN    14780\n",
       "Yes     1220\n",
       "Name: interestedCertProgram, dtype: int64"
      ]
     },
     "execution_count": 2958,
     "metadata": {},
     "output_type": "execute_result"
    }
   ],
   "source": [
    "#Variable-\"interestedCertProgram\"\n",
    "\n",
    "df['interestedCertProgram']=df['interestedCertProgram'].replace({'YES':'Yes'})\n",
    "df['interestedCertProgram'].value_counts(dropna=False)"
   ]
  },
  {
   "cell_type": "code",
   "execution_count": 2959,
   "metadata": {},
   "outputs": [
    {
     "data": {
      "text/plain": [
       "NaN        15998\n",
       "Tourism        2\n",
       "Name: vocationCategory, dtype: int64"
      ]
     },
     "execution_count": 2959,
     "metadata": {},
     "output_type": "execute_result"
    }
   ],
   "source": [
    "#Variable-\"vocationCategory\"\n",
    "\n",
    "df['vocationCategory']=df['vocationCategory'].replace({'पर्यटन और आतिथ्य':'Tourism'})\n",
    "df['vocationCategory'].value_counts(dropna=False)"
   ]
  },
  {
   "cell_type": "code",
   "execution_count": 2960,
   "metadata": {},
   "outputs": [
    {
     "data": {
      "text/plain": [
       "scholarshipAvailed          99.64\n",
       "age                          0.00\n",
       "pincode                      0.03\n",
       "hasAdhar                     0.00\n",
       "literacy                     0.01\n",
       "hasEnrolledAdultLiteracy    66.93\n",
       "eduType                     33.17\n",
       "eduInformal                 98.49\n",
       "statusFormalEdu             35.12\n",
       "eduOther                    99.55\n",
       "typeOfSchool                99.37\n",
       "noScholarshipReason         99.86\n",
       "eduTransport                99.66\n",
       "isHeadOfFamily               0.52\n",
       "genderHeadOfFamily          91.02\n",
       "relWithHeadOfFamily         91.02\n",
       "hasPDS                       0.00\n",
       "hasSECC                      4.75\n",
       "hasAyushmanBharat            0.00\n",
       "hasLand                      0.01\n",
       "reasonLandless              87.46\n",
       "hasHealthCert                0.00\n",
       "employmentType              89.84\n",
       "isWageEarner                89.85\n",
       "isSHGMember                 90.19\n",
       "isCooperativeMember         90.19\n",
       "isFPOMember                 90.19\n",
       "noGroup                     90.19\n",
       "wageRecievedCOVID           94.22\n",
       "liveLostCOVID               99.78\n",
       "disabledCOVID               99.78\n",
       "illnessCOVID                99.78\n",
       "injuryCOVID                 99.78\n",
       "movablePropLostCOVID        99.78\n",
       "immovablePropLostCOVID      99.78\n",
       "interestedCertProgram       92.38\n",
       "vocationCategory            99.99\n",
       "dtype: float64"
      ]
     },
     "execution_count": 2960,
     "metadata": {},
     "output_type": "execute_result"
    }
   ],
   "source": [
    "#Checking null value in each column\n",
    "\n",
    "round((df.isnull().sum()/df.shape[0])*100,2)"
   ]
  },
  {
   "cell_type": "markdown",
   "metadata": {},
   "source": [
    "## Visualization"
   ]
  },
  {
   "cell_type": "code",
   "execution_count": 2961,
   "metadata": {},
   "outputs": [
    {
     "data": {
      "text/plain": [
       "Text(0.5, 1.0, 'Scholarships takeup- Agewise')"
      ]
     },
     "execution_count": 2961,
     "metadata": {},
     "output_type": "execute_result"
    },
    {
     "data": {
      "image/png": "[encoded data removed]",
      "text/plain": [
       "<Figure size 432x288 with 1 Axes>"
      ]
     },
     "metadata": {
      "needs_background": "light"
     },
     "output_type": "display_data"
    }
   ],
   "source": [
    "sns.countplot(x ='age', data = df[df['scholarshipAvailed'].isnull()==False], palette = \"Reds\")\n",
    "plt.title('Scholarships takeup- Agewise')"
   ]
  },
  {
   "cell_type": "markdown",
   "metadata": {},
   "source": [
    "#### People from 18 to 28 are more likely to apply for Scholorship. "
   ]
  },
  {
   "cell_type": "code",
   "execution_count": 2962,
   "metadata": {},
   "outputs": [
    {
     "data": {
      "text/plain": [
       "Text(0.5, 1.0, 'Scholarships takeup- Educationwise')"
      ]
     },
     "execution_count": 2962,
     "metadata": {},
     "output_type": "execute_result"
    },
    {
     "data": {
      "image/png": "[encoded data removed]",
      "text/plain": [
       "<Figure size 432x288 with 1 Axes>"
      ]
     },
     "metadata": {
      "needs_background": "light"
     },
     "output_type": "display_data"
    }
   ],
   "source": [
    "sns.countplot(x ='eduType', data = df[df['scholarshipAvailed'].isnull()==False], palette = \"Reds\")\n",
    "plt.title('Scholarships takeup- Educationwise')"
   ]
  },
  {
   "cell_type": "markdown",
   "metadata": {},
   "source": [
    "#### \tPeople with Formal education applies for the Sponsorship."
   ]
  },
  {
   "cell_type": "code",
   "execution_count": 2963,
   "metadata": {},
   "outputs": [
    {
     "data": {
      "image/png": "[encoded data removed]",
      "text/plain": [
       "<Figure size 864x720 with 2 Axes>"
      ]
     },
     "metadata": {
      "needs_background": "light"
     },
     "output_type": "display_data"
    }
   ],
   "source": [
    "\n",
    "plt.figure(figsize=(12,10))\n",
    "plt.subplot(2, 2, 1)\n",
    "sns.countplot(x ='genderHeadOfFamily', data = df[df['scholarshipAvailed'].isnull()==False], palette = \"Reds\")\n",
    "plt.title(\"Scholarship applied - gender of their Head of Family\")\n",
    "\n",
    "plt.subplot(2, 2, 2)\n",
    "sns.countplot(x ='genderHeadOfFamily', data = df[df['wageRecievedCOVID']=='Did not request for wages'], palette = \"Greens\")\n",
    "plt.title(\"Wage not requested during covid - gender of  Head of Family \")\n",
    "plt.show()"
   ]
  },
  {
   "cell_type": "markdown",
   "metadata": {},
   "source": [
    "#### People whose Head of Family is female is less likely to apply for Sponsoership."
   ]
  },
  {
   "cell_type": "code",
   "execution_count": null,
   "metadata": {},
   "outputs": [],
   "source": []
  },
  {
   "cell_type": "code",
   "execution_count": 2964,
   "metadata": {},
   "outputs": [],
   "source": [
    "bins = [5, 15, 25, 35, 45, 55, 65, 75, 85]\n",
    "labels = ['5-14', '15-24', '25-34', '35-44', '45-54', '55-64', '65-74', '75-84']\n",
    "df['age_bins'] = pd.cut(df['age'], bins=bins, labels=labels,ordered=False)\n",
    "#print (df['age_bins'])"
   ]
  },
  {
   "cell_type": "code",
   "execution_count": 2965,
   "metadata": {},
   "outputs": [
    {
     "data": {
      "text/plain": [
       "0    25-34\n",
       "1    25-34\n",
       "2    25-34\n",
       "3    25-34\n",
       "4    25-34\n",
       "Name: age_bins, dtype: category\n",
       "Categories (8, object): ['5-14', '15-24', '25-34', '35-44', '45-54', '55-64', '65-74', '75-84']"
      ]
     },
     "execution_count": 2965,
     "metadata": {},
     "output_type": "execute_result"
    }
   ],
   "source": [
    "df['age_bins'].head()"
   ]
  },
  {
   "cell_type": "code",
   "execution_count": 2966,
   "metadata": {},
   "outputs": [
    {
     "data": {
      "text/plain": [
       "Text(0.5, 1.0, 'Age Distribution')"
      ]
     },
     "execution_count": 2966,
     "metadata": {},
     "output_type": "execute_result"
    },
    {
     "data": {
      "image/png": "[encoded data removed]",
      "text/plain": [
       "<Figure size 432x288 with 1 Axes>"
      ]
     },
     "metadata": {
      "needs_background": "light"
     },
     "output_type": "display_data"
    }
   ],
   "source": [
    "sns.countplot(x ='age_bins', data = df, palette = \"Blues_d\")\n",
    "plt.title('Age Distribution')"
   ]
  },
  {
   "cell_type": "markdown",
   "metadata": {},
   "source": [
    "#### \tMost persons are from age group of 25 to 44."
   ]
  },
  {
   "cell_type": "code",
   "execution_count": 2967,
   "metadata": {},
   "outputs": [
    {
     "data": {
      "text/plain": [
       "Text(0.5, 1.0, 'Literacy Vs Illiteracy in age Groups')"
      ]
     },
     "execution_count": 2967,
     "metadata": {},
     "output_type": "execute_result"
    },
    {
     "data": {
      "image/png": "[encoded data removed]",
      "text/plain": [
       "<Figure size 432x288 with 1 Axes>"
      ]
     },
     "metadata": {
      "needs_background": "light"
     },
     "output_type": "display_data"
    }
   ],
   "source": [
    "#Literacy Vs Illteracy\n",
    "\n",
    "sns.countplot(x ='age_bins', data = df, palette = \"Set2\", hue='literacy')\n",
    "plt.title('Literacy Vs Illiteracy in age Groups')"
   ]
  },
  {
   "cell_type": "markdown",
   "metadata": {},
   "source": [
    "#### \tIn higher age groups more persons are illiterate and as we go from higher to lower age groups the number of literates is increasing gradually as compare to illiterates. The difference between literates and illiterates is highest in age group 15-24."
   ]
  },
  {
   "cell_type": "code",
   "execution_count": 2968,
   "metadata": {},
   "outputs": [
    {
     "data": {
      "text/plain": [
       "Text(0.5, 1.0, 'Status of Formal Education in different age groups')"
      ]
     },
     "execution_count": 2968,
     "metadata": {},
     "output_type": "execute_result"
    },
    {
     "data": {
      "image/png": "[encoded data removed]",
      "text/plain": [
       "<Figure size 432x288 with 1 Axes>"
      ]
     },
     "metadata": {
      "needs_background": "light"
     },
     "output_type": "display_data"
    }
   ],
   "source": [
    "sns.countplot(x ='age_bins', data = df, palette = \"Set1\", hue='statusFormalEdu')\n",
    "plt.legend(bbox_to_anchor=(1.05, 1), loc=2, borderaxespad=0.)\n",
    "plt.title('Status of Formal Education in different age groups')"
   ]
  },
  {
   "cell_type": "markdown",
   "metadata": {},
   "source": [
    "#### \tMost people in between age group 15 to 24 have finished their education."
   ]
  },
  {
   "cell_type": "code",
   "execution_count": 2969,
   "metadata": {},
   "outputs": [
    {
     "data": {
      "text/html": [
       "<div>\n",
       "<style scoped>\n",
       "    .dataframe tbody tr th:only-of-type {\n",
       "        vertical-align: middle;\n",
       "    }\n",
       "\n",
       "    .dataframe tbody tr th {\n",
       "        vertical-align: top;\n",
       "    }\n",
       "\n",
       "    .dataframe thead th {\n",
       "        text-align: right;\n",
       "    }\n",
       "</style>\n",
       "<table border=\"1\" class=\"dataframe\">\n",
       "  <thead>\n",
       "    <tr style=\"text-align: right;\">\n",
       "      <th></th>\n",
       "      <th>pincode</th>\n",
       "      <th>counts</th>\n",
       "    </tr>\n",
       "  </thead>\n",
       "  <tbody>\n",
       "    <tr>\n",
       "      <th>0</th>\n",
       "      <td>491441.0</td>\n",
       "      <td>9917</td>\n",
       "    </tr>\n",
       "    <tr>\n",
       "      <th>1</th>\n",
       "      <td>494449.0</td>\n",
       "      <td>309</td>\n",
       "    </tr>\n",
       "    <tr>\n",
       "      <th>2</th>\n",
       "      <td>496001.0</td>\n",
       "      <td>250</td>\n",
       "    </tr>\n",
       "    <tr>\n",
       "      <th>3</th>\n",
       "      <td>496450.0</td>\n",
       "      <td>246</td>\n",
       "    </tr>\n",
       "    <tr>\n",
       "      <th>4</th>\n",
       "      <td>492011.0</td>\n",
       "      <td>221</td>\n",
       "    </tr>\n",
       "    <tr>\n",
       "      <th>5</th>\n",
       "      <td>495334.0</td>\n",
       "      <td>218</td>\n",
       "    </tr>\n",
       "    <tr>\n",
       "      <th>6</th>\n",
       "      <td>495001.0</td>\n",
       "      <td>167</td>\n",
       "    </tr>\n",
       "    <tr>\n",
       "      <th>7</th>\n",
       "      <td>494122.0</td>\n",
       "      <td>155</td>\n",
       "    </tr>\n",
       "  </tbody>\n",
       "</table>\n",
       "</div>"
      ],
      "text/plain": [
       "    pincode  counts\n",
       "0  491441.0    9917\n",
       "1  494449.0     309\n",
       "2  496001.0     250\n",
       "3  496450.0     246\n",
       "4  492011.0     221\n",
       "5  495334.0     218\n",
       "6  495001.0     167\n",
       "7  494122.0     155"
      ]
     },
     "execution_count": 2969,
     "metadata": {},
     "output_type": "execute_result"
    }
   ],
   "source": [
    "# New dataframe taht has Pincode and their counts as columns\n",
    "\n",
    "df_value_counts=df['pincode'].value_counts().reset_index()\n",
    "df_value_counts.columns = ['pincode', 'counts']\n",
    "df_value_counts=df_value_counts[df_value_counts['counts']>150]\n",
    "df_value_counts"
   ]
  },
  {
   "cell_type": "code",
   "execution_count": 2970,
   "metadata": {},
   "outputs": [
    {
     "data": {
      "text/plain": [
       "StringDtype"
      ]
     },
     "execution_count": 2970,
     "metadata": {},
     "output_type": "execute_result"
    }
   ],
   "source": [
    "df_value_counts['pincode']=df_value_counts['pincode'].astype(\"string\")\n",
    "df_value_counts['pincode'].dtypes"
   ]
  },
  {
   "cell_type": "code",
   "execution_count": 2971,
   "metadata": {},
   "outputs": [
    {
     "data": {
      "text/plain": [
       "Text(0.5, 1.0, 'Counts according to \"Pincode\"')"
      ]
     },
     "execution_count": 2971,
     "metadata": {},
     "output_type": "execute_result"
    },
    {
     "data": {
      "image/png": "[encoded data removed]",
      "text/plain": [
       "<Figure size 576x432 with 1 Axes>"
      ]
     },
     "metadata": {
      "needs_background": "light"
     },
     "output_type": "display_data"
    }
   ],
   "source": [
    "#Bar Plot b/e Pincode and Counts\n",
    "\n",
    "plt.figure(figsize=(8,6))\n",
    "\n",
    "sns.barplot(x=\"pincode\", y=\"counts\", data=df_value_counts, palette = \"Set1\")\n",
    "plt.title('Counts according to \"Pincode\"')"
   ]
  },
  {
   "cell_type": "markdown",
   "metadata": {},
   "source": [
    "#### Most of the entries are from one city (491441)."
   ]
  },
  {
   "cell_type": "code",
   "execution_count": 2972,
   "metadata": {},
   "outputs": [
    {
     "data": {
      "text/plain": [
       "Text(0.5, 1.0, 'People who are continuing their education')"
      ]
     },
     "execution_count": 2972,
     "metadata": {},
     "output_type": "execute_result"
    },
    {
     "data": {
      "image/png": "[encoded data removed]",
      "text/plain": [
       "<Figure size 432x288 with 1 Axes>"
      ]
     },
     "metadata": {
      "needs_background": "light"
     },
     "output_type": "display_data"
    }
   ],
   "source": [
    "#CountPlot\n",
    "\n",
    "sns.countplot(x ='age_bins', data = df[df['statusFormalEdu']=='Continuing'], palette = \"Reds\")\n",
    "plt.title('People who are continuing their education')"
   ]
  },
  {
   "cell_type": "markdown",
   "metadata": {},
   "source": [
    "#### \tMost people with “continuing” education status belong to age group 15-24."
   ]
  },
  {
   "cell_type": "code",
   "execution_count": 2973,
   "metadata": {},
   "outputs": [
    {
     "data": {
      "image/png": "[encoded data removed]",
      "text/plain": [
       "<Figure size 720x576 with 2 Axes>"
      ]
     },
     "metadata": {
      "needs_background": "light"
     },
     "output_type": "display_data"
    }
   ],
   "source": [
    "\n",
    "plt.figure(figsize=(10,8))\n",
    "plt.subplot(2, 2, 1)\n",
    "sns.countplot(x ='age_bins', data = df[(df['isWageEarner']=='No') & (df['employmentType']=='Self Employed')], palette = \"Reds\")\n",
    "plt.title('Self Employed in different age categories')\n",
    "\n",
    "plt.subplot(2, 2, 2)\n",
    "sns.countplot(x ='age_bins', data = df[df['isWageEarner']=='Yes'], palette = \"Greens\")\n",
    "plt.title('Wage earner in different age categories')\n",
    "plt.show()"
   ]
  },
  {
   "cell_type": "markdown",
   "metadata": {},
   "source": [
    "#### \t1.  In age groups 15-34 years number of Self Employed are more in percentage as compare to Wage earner. \n",
    "\n",
    "####   2.  Most Wage earners belong to age group 35-44 years.\n",
    "\n",
    "       "
   ]
  },
  {
   "cell_type": "code",
   "execution_count": 2974,
   "metadata": {},
   "outputs": [
    {
     "data": {
      "text/plain": [
       "Text(0.5, 1.0, 'Number of PDS Card Holder')"
      ]
     },
     "execution_count": 2974,
     "metadata": {},
     "output_type": "execute_result"
    },
    {
     "data": {
      "image/png": "[encoded data removed]",
      "text/plain": [
       "<Figure size 432x288 with 1 Axes>"
      ]
     },
     "metadata": {
      "needs_background": "light"
     },
     "output_type": "display_data"
    }
   ],
   "source": [
    "sns.countplot(x ='isHeadOfFamily', data = df, hue='hasPDS', palette = \"Set1\")\n",
    "plt.title('Number of PDS Card Holder')"
   ]
  },
  {
   "cell_type": "markdown",
   "metadata": {},
   "source": [
    "#### \tMany Head of Families don’t have PDS card."
   ]
  },
  {
   "cell_type": "code",
   "execution_count": 2975,
   "metadata": {},
   "outputs": [
    {
     "data": {
      "image/png": "[encoded data removed]",
      "text/plain": [
       "<Figure size 432x288 with 1 Axes>"
      ]
     },
     "metadata": {
      "needs_background": "light"
     },
     "output_type": "display_data"
    }
   ],
   "source": [
    "#Strip Plot\n",
    "\n",
    "sns.stripplot(x = \"genderHeadOfFamily\", y = \"age\", data = df, hue='literacy')\n",
    "plt.title('Literacy status in family where Head of family is Female')\n",
    "plt.show()"
   ]
  },
  {
   "cell_type": "markdown",
   "metadata": {},
   "source": [
    "#### \tPeople in age range 20-40 years are more literate in numbers if the head of family is ‘female’ as compare to ‘male’."
   ]
  },
  {
   "cell_type": "code",
   "execution_count": 2976,
   "metadata": {},
   "outputs": [
    {
     "data": {
      "text/plain": [
       "Text(0.5, 1.0, \"Number of Head of Family who doesn't have SECC Card\")"
      ]
     },
     "execution_count": 2976,
     "metadata": {},
     "output_type": "execute_result"
    },
    {
     "data": {
      "image/png": "[encoded data removed]",
      "text/plain": [
       "<Figure size 432x288 with 1 Axes>"
      ]
     },
     "metadata": {
      "needs_background": "light"
     },
     "output_type": "display_data"
    }
   ],
   "source": [
    "#Count Plot\n",
    "\n",
    "sns.countplot(x ='hasSECC', data = df, palette = \"Set2\")\n",
    "plt.title(\"Number of Head of Family who doesn't have SECC Card\")\n"
   ]
  },
  {
   "cell_type": "markdown",
   "metadata": {},
   "source": [
    "#### \tMost head of family don’t have SECC card."
   ]
  },
  {
   "cell_type": "code",
   "execution_count": 2977,
   "metadata": {},
   "outputs": [
    {
     "data": {
      "image/png": "[encoded data removed]",
      "text/plain": [
       "<Figure size 864x864 with 2 Axes>"
      ]
     },
     "metadata": {
      "needs_background": "light"
     },
     "output_type": "display_data"
    }
   ],
   "source": [
    "# Subplots\n",
    "\n",
    "plt.figure(figsize=(12,12))\n",
    "plt.subplot(2, 2, 1)\n",
    "plot=sns.countplot(x ='wageRecievedCOVID', data = df[df['noGroup']=='No'], palette = \"Reds\")\n",
    "plt.setp(plot.get_xticklabels(), rotation=90)\n",
    "plt.title('People who are not members of any group')\n",
    "\n",
    "plt.subplot(2, 2, 2)\n",
    "plot=sns.countplot(x ='wageRecievedCOVID', data = df[df['noGroup']=='Yes'], palette = \"Greens\")\n",
    "plt.setp(plot.get_xticklabels(), rotation=90)\n",
    "plt.title('People who are members of any group')\n",
    "plt.show()"
   ]
  },
  {
   "cell_type": "markdown",
   "metadata": {},
   "source": [
    "#### \tPeople who are member of any group (SHG, Co-operative etc) are more financially stable as compare to people who aren’t member of any group."
   ]
  },
  {
   "cell_type": "code",
   "execution_count": 2978,
   "metadata": {},
   "outputs": [
    {
     "data": {
      "text/plain": [
       "Text(0.5, 1.0, 'Wage receiving status of SHG members during Covid')"
      ]
     },
     "execution_count": 2978,
     "metadata": {},
     "output_type": "execute_result"
    },
    {
     "data": {
      "image/png": "[encoded data removed]",
      "text/plain": [
       "<Figure size 432x288 with 1 Axes>"
      ]
     },
     "metadata": {
      "needs_background": "light"
     },
     "output_type": "display_data"
    }
   ],
   "source": [
    "#CountPlot\n",
    "\n",
    "sns.countplot(x ='wageRecievedCOVID', data = df[df['isSHGMember']=='Yes'],hue='genderHeadOfFamily',  palette = \"Set2\")\n",
    "plt.legend(bbox_to_anchor=(1.05, 1), loc=2, borderaxespad=0.)\n",
    "plt.title('Wage receiving status of SHG members during Covid')\n"
   ]
  },
  {
   "cell_type": "markdown",
   "metadata": {},
   "source": [
    "#### \tAll SHG group members received their wages (If applied for wages) during Covid."
   ]
  },
  {
   "cell_type": "code",
   "execution_count": 2979,
   "metadata": {},
   "outputs": [
    {
     "data": {
      "text/plain": [
       "Text(0.5, 1.0, \"People who ahven't eceived wages durin covid\")"
      ]
     },
     "execution_count": 2979,
     "metadata": {},
     "output_type": "execute_result"
    },
    {
     "data": {
      "image/png": "[encoded data removed]",
      "text/plain": [
       "<Figure size 432x288 with 1 Axes>"
      ]
     },
     "metadata": {
      "needs_background": "light"
     },
     "output_type": "display_data"
    }
   ],
   "source": [
    "plot=sns.countplot(x ='employmentType', data = df[df['wageRecievedCOVID']=='No'], palette = \"Set1\")\n",
    "plt.title(\"People who ahven't eceived wages durin covid\")"
   ]
  },
  {
   "cell_type": "markdown",
   "metadata": {},
   "source": [
    "#### \tMost people who haven’t received their dues during covid are Self Employed."
   ]
  },
  {
   "cell_type": "code",
   "execution_count": 2980,
   "metadata": {},
   "outputs": [
    {
     "data": {
      "text/plain": [
       "[Text(0, 0.5, 'Count'), Text(0.5, 0, 'Immovable property loss')]"
      ]
     },
     "execution_count": 2980,
     "metadata": {},
     "output_type": "execute_result"
    },
    {
     "data": {
      "image/png": "[encoded data removed]",
      "text/plain": [
       "<Figure size 1440x576 with 3 Axes>"
      ]
     },
     "metadata": {
      "needs_background": "light"
     },
     "output_type": "display_data"
    },
    {
     "data": {
      "image/png": "[encoded data removed]",
      "text/plain": [
       "<Figure size 1440x576 with 3 Axes>"
      ]
     },
     "metadata": {
      "needs_background": "light"
     },
     "output_type": "display_data"
    }
   ],
   "source": [
    "#Subplots of Covid Columns\n",
    "\n",
    "plt.figure(figsize=(20,8))\n",
    "\n",
    "plt.subplot(1,3,1)\n",
    "plt1=df['liveLostCOVID'].value_counts().plot(kind='bar')\n",
    "plt.title('live lost during COVID')\n",
    "#plt.set(xlabel='Numbers',ylabel='Frequency')\n",
    "plt1.set(xlabel = 'live Lost COVID', ylabel='Count')\n",
    "\n",
    "plt.subplot(1,3,2)\n",
    "plt1=df['disabledCOVID'].value_counts().plot(kind='bar')\n",
    "plt.title('Disability during Covid')\n",
    "#plt.set(xlabel='Numbers',ylabel='Frequency')\n",
    "plt1.set(xlabel = 'Disability during Covid', ylabel='Count')\n",
    "\n",
    "plt.subplot(1,3,3)\n",
    "plt1=df['illnessCOVID'].value_counts().plot(kind='bar')\n",
    "plt.title('Illness due to covid')\n",
    "#plt.set(xlabel='Numbers',ylabel='Frequency')\n",
    "plt1.set(xlabel = 'Illness due to covid', ylabel='Count')\n",
    "\n",
    "\n",
    "\n",
    "plt.figure(figsize=(20,8))\n",
    "\n",
    "plt.subplot(1,3,1)\n",
    "plt1=df['injuryCOVID'].value_counts().plot(kind='bar')\n",
    "plt.title('Injury due to COVID')\n",
    "#plt.set(xlabel='Numbers',ylabel='Frequency')\n",
    "plt1.set(xlabel = 'Injury due to COVID', ylabel='Count')\n",
    "\n",
    "plt.subplot(1,3,2)\n",
    "plt1=df['movablePropLostCOVID'].value_counts().plot(kind='bar')\n",
    "plt.title('Movable property loss')\n",
    "#plt.set(xlabel='Numbers',ylabel='Frequency')\n",
    "plt1.set(xlabel = 'Movable property loss', ylabel='Count')\n",
    "\n",
    "plt.subplot(1,3,3)\n",
    "plt1=df['immovablePropLostCOVID'].value_counts().plot(kind='bar')\n",
    "plt.title('Immovable property loss')\n",
    "#plt.set(xlabel='Numbers',ylabel='Frequency')\n",
    "plt1.set(xlabel = 'Immovable property loss', ylabel='Count')"
   ]
  },
  {
   "cell_type": "code",
   "execution_count": null,
   "metadata": {},
   "outputs": [],
   "source": []
  },
  {
   "cell_type": "markdown",
   "metadata": {},
   "source": [
    "## Imputing Target Variable"
   ]
  },
  {
   "cell_type": "code",
   "execution_count": 2981,
   "metadata": {},
   "outputs": [
    {
     "data": {
      "text/plain": [
       "1.0    32\n",
       "0.0    25\n",
       "Name: scholarshipAvailed, dtype: int64"
      ]
     },
     "execution_count": 2981,
     "metadata": {},
     "output_type": "execute_result"
    }
   ],
   "source": [
    "df['scholarshipAvailed'].value_counts()"
   ]
  },
  {
   "cell_type": "code",
   "execution_count": 2982,
   "metadata": {},
   "outputs": [],
   "source": [
    "#Imputing \"scholarshipAvailed\" with 0 where \"statusFormalEdu\" is equal to 'Finished Education'\n",
    "\n",
    "df.loc[(df['statusFormalEdu']=='Finished Education'),'scholarshipAvailed']=0"
   ]
  },
  {
   "cell_type": "code",
   "execution_count": 2983,
   "metadata": {},
   "outputs": [
    {
     "data": {
      "text/plain": [
       "0.0    10268\n",
       "NaN     5700\n",
       "1.0       32\n",
       "Name: scholarshipAvailed, dtype: int64"
      ]
     },
     "execution_count": 2983,
     "metadata": {},
     "output_type": "execute_result"
    }
   ],
   "source": [
    "#Counting Values\n",
    "\n",
    "df['scholarshipAvailed'].value_counts(dropna=False)"
   ]
  },
  {
   "cell_type": "code",
   "execution_count": 2984,
   "metadata": {},
   "outputs": [],
   "source": [
    "#Imputing \"scholarshipAvailed\" with 0 where \"literacy\" is equal to 'Illiterate'\n",
    "\n",
    "df.loc[(df['literacy']=='Illiterate'),'scholarshipAvailed']=0"
   ]
  },
  {
   "cell_type": "code",
   "execution_count": 2985,
   "metadata": {},
   "outputs": [
    {
     "data": {
      "text/plain": [
       "0.0    15567\n",
       "NaN      401\n",
       "1.0       32\n",
       "Name: scholarshipAvailed, dtype: int64"
      ]
     },
     "execution_count": 2985,
     "metadata": {},
     "output_type": "execute_result"
    }
   ],
   "source": [
    "df['scholarshipAvailed'].value_counts(dropna=False)"
   ]
  },
  {
   "cell_type": "code",
   "execution_count": 2986,
   "metadata": {},
   "outputs": [],
   "source": [
    "#Imputing \"scholarshipAvailed\" with 0 where \"eduType\" is equal to 'Informal'\n",
    "\n",
    "df.loc[(df['eduType']=='Informal'),'scholarshipAvailed']=0"
   ]
  },
  {
   "cell_type": "code",
   "execution_count": 2987,
   "metadata": {},
   "outputs": [
    {
     "data": {
      "text/plain": [
       "0.0    15840\n",
       "NaN      128\n",
       "1.0       32\n",
       "Name: scholarshipAvailed, dtype: int64"
      ]
     },
     "execution_count": 2987,
     "metadata": {},
     "output_type": "execute_result"
    }
   ],
   "source": [
    "df['scholarshipAvailed'].value_counts(dropna=False)"
   ]
  },
  {
   "cell_type": "code",
   "execution_count": 2988,
   "metadata": {},
   "outputs": [],
   "source": [
    "#Imputing \"scholarshipAvailed\" with 0 where \"statusFormalEdu\" is equal to 'Dropout'\n",
    "\n",
    "df.loc[(df['statusFormalEdu']=='Dropout'),'scholarshipAvailed']=0"
   ]
  },
  {
   "cell_type": "code",
   "execution_count": 2989,
   "metadata": {},
   "outputs": [
    {
     "data": {
      "text/plain": [
       "0.0    15851\n",
       "NaN      117\n",
       "1.0       32\n",
       "Name: scholarshipAvailed, dtype: int64"
      ]
     },
     "execution_count": 2989,
     "metadata": {},
     "output_type": "execute_result"
    }
   ],
   "source": [
    "df['scholarshipAvailed'].value_counts(dropna=False)"
   ]
  },
  {
   "cell_type": "code",
   "execution_count": 2990,
   "metadata": {},
   "outputs": [],
   "source": [
    "#Imputing \"scholarshipAvailed\" with 0 where \"statusFormalEdu\" is equal to 'Dropout' and \"statusFormalEdu\" equal to \"Continuing\"\n",
    "\n",
    "df.loc[(df['scholarshipAvailed'].isnull()==True) & (df['statusFormalEdu']=='Continuing'),'scholarshipAvailed' ]='0'"
   ]
  },
  {
   "cell_type": "code",
   "execution_count": 2991,
   "metadata": {},
   "outputs": [
    {
     "data": {
      "text/plain": [
       "0.0    15851\n",
       "0         70\n",
       "NaN       47\n",
       "1.0       32\n",
       "Name: scholarshipAvailed, dtype: int64"
      ]
     },
     "execution_count": 2991,
     "metadata": {},
     "output_type": "execute_result"
    }
   ],
   "source": [
    "df['scholarshipAvailed'].value_counts(dropna=False)"
   ]
  },
  {
   "cell_type": "markdown",
   "metadata": {},
   "source": [
    "# Feature Engeeniering\n",
    "\n"
   ]
  },
  {
   "cell_type": "markdown",
   "metadata": {},
   "source": [
    "## Missing Value Imputation"
   ]
  },
  {
   "cell_type": "code",
   "execution_count": 2992,
   "metadata": {},
   "outputs": [
    {
     "name": "stdout",
     "output_type": "stream",
     "text": [
      "<class 'pandas.core.frame.DataFrame'>\n",
      "RangeIndex: 16000 entries, 0 to 15999\n",
      "Data columns (total 38 columns):\n",
      " #   Column                    Non-Null Count  Dtype   \n",
      "---  ------                    --------------  -----   \n",
      " 0   scholarshipAvailed        15953 non-null  object  \n",
      " 1   age                       16000 non-null  int64   \n",
      " 2   pincode                   15995 non-null  float64 \n",
      " 3   hasAdhar                  16000 non-null  object  \n",
      " 4   literacy                  15998 non-null  object  \n",
      " 5   hasEnrolledAdultLiteracy  5291 non-null   object  \n",
      " 6   eduType                   10693 non-null  object  \n",
      " 7   eduInformal               242 non-null    object  \n",
      " 8   statusFormalEdu           10381 non-null  object  \n",
      " 9   eduOther                  72 non-null     object  \n",
      " 10  typeOfSchool              101 non-null    object  \n",
      " 11  noScholarshipReason       23 non-null     object  \n",
      " 12  eduTransport              55 non-null     object  \n",
      " 13  isHeadOfFamily            15917 non-null  object  \n",
      " 14  genderHeadOfFamily        1436 non-null   object  \n",
      " 15  relWithHeadOfFamily       1436 non-null   object  \n",
      " 16  hasPDS                    16000 non-null  object  \n",
      " 17  hasSECC                   15240 non-null  object  \n",
      " 18  hasAyushmanBharat         16000 non-null  object  \n",
      " 19  hasLand                   15998 non-null  object  \n",
      " 20  reasonLandless            2006 non-null   object  \n",
      " 21  hasHealthCert             16000 non-null  object  \n",
      " 22  employmentType            1626 non-null   object  \n",
      " 23  isWageEarner              1624 non-null   object  \n",
      " 24  isSHGMember               1569 non-null   object  \n",
      " 25  isCooperativeMember       1569 non-null   object  \n",
      " 26  isFPOMember               1569 non-null   object  \n",
      " 27  noGroup                   1569 non-null   object  \n",
      " 28  wageRecievedCOVID         925 non-null    object  \n",
      " 29  liveLostCOVID             35 non-null     object  \n",
      " 30  disabledCOVID             35 non-null     object  \n",
      " 31  illnessCOVID              35 non-null     object  \n",
      " 32  injuryCOVID               35 non-null     object  \n",
      " 33  movablePropLostCOVID      35 non-null     object  \n",
      " 34  immovablePropLostCOVID    35 non-null     object  \n",
      " 35  interestedCertProgram     1220 non-null   object  \n",
      " 36  vocationCategory          2 non-null      object  \n",
      " 37  age_bins                  15874 non-null  category\n",
      "dtypes: category(1), float64(1), int64(1), object(35)\n",
      "memory usage: 4.5+ MB\n"
     ]
    }
   ],
   "source": [
    "df.info()"
   ]
  },
  {
   "cell_type": "code",
   "execution_count": 2993,
   "metadata": {},
   "outputs": [
    {
     "data": {
      "text/html": [
       "<div>\n",
       "<style scoped>\n",
       "    .dataframe tbody tr th:only-of-type {\n",
       "        vertical-align: middle;\n",
       "    }\n",
       "\n",
       "    .dataframe tbody tr th {\n",
       "        vertical-align: top;\n",
       "    }\n",
       "\n",
       "    .dataframe thead th {\n",
       "        text-align: right;\n",
       "    }\n",
       "</style>\n",
       "<table border=\"1\" class=\"dataframe\">\n",
       "  <thead>\n",
       "    <tr style=\"text-align: right;\">\n",
       "      <th></th>\n",
       "      <th>scholarshipAvailed</th>\n",
       "      <th>age</th>\n",
       "      <th>pincode</th>\n",
       "      <th>hasAdhar</th>\n",
       "      <th>literacy</th>\n",
       "      <th>hasEnrolledAdultLiteracy</th>\n",
       "      <th>eduType</th>\n",
       "      <th>eduInformal</th>\n",
       "      <th>statusFormalEdu</th>\n",
       "      <th>eduOther</th>\n",
       "      <th>typeOfSchool</th>\n",
       "      <th>noScholarshipReason</th>\n",
       "      <th>eduTransport</th>\n",
       "      <th>isHeadOfFamily</th>\n",
       "      <th>genderHeadOfFamily</th>\n",
       "      <th>relWithHeadOfFamily</th>\n",
       "      <th>hasPDS</th>\n",
       "      <th>hasSECC</th>\n",
       "      <th>hasAyushmanBharat</th>\n",
       "      <th>hasLand</th>\n",
       "      <th>reasonLandless</th>\n",
       "      <th>hasHealthCert</th>\n",
       "      <th>employmentType</th>\n",
       "      <th>isWageEarner</th>\n",
       "      <th>isSHGMember</th>\n",
       "      <th>isCooperativeMember</th>\n",
       "      <th>isFPOMember</th>\n",
       "      <th>noGroup</th>\n",
       "      <th>wageRecievedCOVID</th>\n",
       "      <th>liveLostCOVID</th>\n",
       "      <th>disabledCOVID</th>\n",
       "      <th>illnessCOVID</th>\n",
       "      <th>injuryCOVID</th>\n",
       "      <th>movablePropLostCOVID</th>\n",
       "      <th>immovablePropLostCOVID</th>\n",
       "      <th>interestedCertProgram</th>\n",
       "      <th>vocationCategory</th>\n",
       "      <th>age_bins</th>\n",
       "    </tr>\n",
       "  </thead>\n",
       "  <tbody>\n",
       "    <tr>\n",
       "      <th>0</th>\n",
       "      <td>0.0</td>\n",
       "      <td>28</td>\n",
       "      <td>700027.0</td>\n",
       "      <td>Yes</td>\n",
       "      <td>Literate</td>\n",
       "      <td>NaN</td>\n",
       "      <td>Formal</td>\n",
       "      <td>NaN</td>\n",
       "      <td>Continuing</td>\n",
       "      <td>NaN</td>\n",
       "      <td>Private</td>\n",
       "      <td>None</td>\n",
       "      <td>Walking</td>\n",
       "      <td>Yes</td>\n",
       "      <td>NaN</td>\n",
       "      <td>NaN</td>\n",
       "      <td>No</td>\n",
       "      <td>No</td>\n",
       "      <td>No</td>\n",
       "      <td>Yes</td>\n",
       "      <td>NaN</td>\n",
       "      <td>No</td>\n",
       "      <td>NaN</td>\n",
       "      <td>NaN</td>\n",
       "      <td>NaN</td>\n",
       "      <td>NaN</td>\n",
       "      <td>NaN</td>\n",
       "      <td>NaN</td>\n",
       "      <td>NaN</td>\n",
       "      <td>NaN</td>\n",
       "      <td>NaN</td>\n",
       "      <td>NaN</td>\n",
       "      <td>NaN</td>\n",
       "      <td>NaN</td>\n",
       "      <td>NaN</td>\n",
       "      <td>NaN</td>\n",
       "      <td>NaN</td>\n",
       "      <td>25-34</td>\n",
       "    </tr>\n",
       "    <tr>\n",
       "      <th>1</th>\n",
       "      <td>0.0</td>\n",
       "      <td>28</td>\n",
       "      <td>700027.0</td>\n",
       "      <td>Yes</td>\n",
       "      <td>Literate</td>\n",
       "      <td>NaN</td>\n",
       "      <td>Formal</td>\n",
       "      <td>NaN</td>\n",
       "      <td>Continuing</td>\n",
       "      <td>NaN</td>\n",
       "      <td>Private</td>\n",
       "      <td>None</td>\n",
       "      <td>Walking</td>\n",
       "      <td>Yes</td>\n",
       "      <td>NaN</td>\n",
       "      <td>NaN</td>\n",
       "      <td>No</td>\n",
       "      <td>No</td>\n",
       "      <td>No</td>\n",
       "      <td>Yes</td>\n",
       "      <td>NaN</td>\n",
       "      <td>No</td>\n",
       "      <td>NaN</td>\n",
       "      <td>NaN</td>\n",
       "      <td>NaN</td>\n",
       "      <td>NaN</td>\n",
       "      <td>NaN</td>\n",
       "      <td>NaN</td>\n",
       "      <td>NaN</td>\n",
       "      <td>NaN</td>\n",
       "      <td>NaN</td>\n",
       "      <td>NaN</td>\n",
       "      <td>NaN</td>\n",
       "      <td>NaN</td>\n",
       "      <td>NaN</td>\n",
       "      <td>NaN</td>\n",
       "      <td>NaN</td>\n",
       "      <td>25-34</td>\n",
       "    </tr>\n",
       "    <tr>\n",
       "      <th>2</th>\n",
       "      <td>0.0</td>\n",
       "      <td>28</td>\n",
       "      <td>700027.0</td>\n",
       "      <td>Yes</td>\n",
       "      <td>Literate</td>\n",
       "      <td>NaN</td>\n",
       "      <td>Formal</td>\n",
       "      <td>NaN</td>\n",
       "      <td>Continuing</td>\n",
       "      <td>NaN</td>\n",
       "      <td>Private</td>\n",
       "      <td>None</td>\n",
       "      <td>Walking</td>\n",
       "      <td>Yes</td>\n",
       "      <td>NaN</td>\n",
       "      <td>NaN</td>\n",
       "      <td>No</td>\n",
       "      <td>No</td>\n",
       "      <td>No</td>\n",
       "      <td>Yes</td>\n",
       "      <td>NaN</td>\n",
       "      <td>No</td>\n",
       "      <td>NaN</td>\n",
       "      <td>NaN</td>\n",
       "      <td>NaN</td>\n",
       "      <td>NaN</td>\n",
       "      <td>NaN</td>\n",
       "      <td>NaN</td>\n",
       "      <td>NaN</td>\n",
       "      <td>NaN</td>\n",
       "      <td>NaN</td>\n",
       "      <td>NaN</td>\n",
       "      <td>NaN</td>\n",
       "      <td>NaN</td>\n",
       "      <td>NaN</td>\n",
       "      <td>NaN</td>\n",
       "      <td>NaN</td>\n",
       "      <td>25-34</td>\n",
       "    </tr>\n",
       "    <tr>\n",
       "      <th>3</th>\n",
       "      <td>0.0</td>\n",
       "      <td>28</td>\n",
       "      <td>700027.0</td>\n",
       "      <td>Yes</td>\n",
       "      <td>Literate</td>\n",
       "      <td>NaN</td>\n",
       "      <td>Formal</td>\n",
       "      <td>NaN</td>\n",
       "      <td>Continuing</td>\n",
       "      <td>NaN</td>\n",
       "      <td>Private</td>\n",
       "      <td>None</td>\n",
       "      <td>Walking</td>\n",
       "      <td>Yes</td>\n",
       "      <td>NaN</td>\n",
       "      <td>NaN</td>\n",
       "      <td>No</td>\n",
       "      <td>No</td>\n",
       "      <td>No</td>\n",
       "      <td>Yes</td>\n",
       "      <td>NaN</td>\n",
       "      <td>No</td>\n",
       "      <td>NaN</td>\n",
       "      <td>NaN</td>\n",
       "      <td>NaN</td>\n",
       "      <td>NaN</td>\n",
       "      <td>NaN</td>\n",
       "      <td>NaN</td>\n",
       "      <td>NaN</td>\n",
       "      <td>NaN</td>\n",
       "      <td>NaN</td>\n",
       "      <td>NaN</td>\n",
       "      <td>NaN</td>\n",
       "      <td>NaN</td>\n",
       "      <td>NaN</td>\n",
       "      <td>NaN</td>\n",
       "      <td>NaN</td>\n",
       "      <td>25-34</td>\n",
       "    </tr>\n",
       "    <tr>\n",
       "      <th>4</th>\n",
       "      <td>0.0</td>\n",
       "      <td>28</td>\n",
       "      <td>700027.0</td>\n",
       "      <td>Yes</td>\n",
       "      <td>Literate</td>\n",
       "      <td>NaN</td>\n",
       "      <td>Formal</td>\n",
       "      <td>NaN</td>\n",
       "      <td>Continuing</td>\n",
       "      <td>NaN</td>\n",
       "      <td>Private</td>\n",
       "      <td>None</td>\n",
       "      <td>Walking</td>\n",
       "      <td>Yes</td>\n",
       "      <td>NaN</td>\n",
       "      <td>NaN</td>\n",
       "      <td>No</td>\n",
       "      <td>No</td>\n",
       "      <td>No</td>\n",
       "      <td>Yes</td>\n",
       "      <td>NaN</td>\n",
       "      <td>No</td>\n",
       "      <td>NaN</td>\n",
       "      <td>NaN</td>\n",
       "      <td>NaN</td>\n",
       "      <td>NaN</td>\n",
       "      <td>NaN</td>\n",
       "      <td>NaN</td>\n",
       "      <td>NaN</td>\n",
       "      <td>NaN</td>\n",
       "      <td>NaN</td>\n",
       "      <td>NaN</td>\n",
       "      <td>NaN</td>\n",
       "      <td>NaN</td>\n",
       "      <td>NaN</td>\n",
       "      <td>NaN</td>\n",
       "      <td>NaN</td>\n",
       "      <td>25-34</td>\n",
       "    </tr>\n",
       "  </tbody>\n",
       "</table>\n",
       "</div>"
      ],
      "text/plain": [
       "  scholarshipAvailed  age   pincode hasAdhar  literacy  \\\n",
       "0                0.0   28  700027.0      Yes  Literate   \n",
       "1                0.0   28  700027.0      Yes  Literate   \n",
       "2                0.0   28  700027.0      Yes  Literate   \n",
       "3                0.0   28  700027.0      Yes  Literate   \n",
       "4                0.0   28  700027.0      Yes  Literate   \n",
       "\n",
       "  hasEnrolledAdultLiteracy eduType eduInformal statusFormalEdu eduOther  \\\n",
       "0                      NaN  Formal         NaN      Continuing      NaN   \n",
       "1                      NaN  Formal         NaN      Continuing      NaN   \n",
       "2                      NaN  Formal         NaN      Continuing      NaN   \n",
       "3                      NaN  Formal         NaN      Continuing      NaN   \n",
       "4                      NaN  Formal         NaN      Continuing      NaN   \n",
       "\n",
       "  typeOfSchool noScholarshipReason eduTransport isHeadOfFamily  \\\n",
       "0      Private                None      Walking            Yes   \n",
       "1      Private                None      Walking            Yes   \n",
       "2      Private                None      Walking            Yes   \n",
       "3      Private                None      Walking            Yes   \n",
       "4      Private                None      Walking            Yes   \n",
       "\n",
       "  genderHeadOfFamily relWithHeadOfFamily hasPDS hasSECC hasAyushmanBharat  \\\n",
       "0                NaN                 NaN     No      No                No   \n",
       "1                NaN                 NaN     No      No                No   \n",
       "2                NaN                 NaN     No      No                No   \n",
       "3                NaN                 NaN     No      No                No   \n",
       "4                NaN                 NaN     No      No                No   \n",
       "\n",
       "  hasLand reasonLandless hasHealthCert employmentType isWageEarner  \\\n",
       "0     Yes            NaN            No            NaN          NaN   \n",
       "1     Yes            NaN            No            NaN          NaN   \n",
       "2     Yes            NaN            No            NaN          NaN   \n",
       "3     Yes            NaN            No            NaN          NaN   \n",
       "4     Yes            NaN            No            NaN          NaN   \n",
       "\n",
       "  isSHGMember isCooperativeMember isFPOMember noGroup wageRecievedCOVID  \\\n",
       "0         NaN                 NaN         NaN     NaN               NaN   \n",
       "1         NaN                 NaN         NaN     NaN               NaN   \n",
       "2         NaN                 NaN         NaN     NaN               NaN   \n",
       "3         NaN                 NaN         NaN     NaN               NaN   \n",
       "4         NaN                 NaN         NaN     NaN               NaN   \n",
       "\n",
       "  liveLostCOVID disabledCOVID illnessCOVID injuryCOVID movablePropLostCOVID  \\\n",
       "0           NaN           NaN          NaN         NaN                  NaN   \n",
       "1           NaN           NaN          NaN         NaN                  NaN   \n",
       "2           NaN           NaN          NaN         NaN                  NaN   \n",
       "3           NaN           NaN          NaN         NaN                  NaN   \n",
       "4           NaN           NaN          NaN         NaN                  NaN   \n",
       "\n",
       "  immovablePropLostCOVID interestedCertProgram vocationCategory age_bins  \n",
       "0                    NaN                   NaN              NaN    25-34  \n",
       "1                    NaN                   NaN              NaN    25-34  \n",
       "2                    NaN                   NaN              NaN    25-34  \n",
       "3                    NaN                   NaN              NaN    25-34  \n",
       "4                    NaN                   NaN              NaN    25-34  "
      ]
     },
     "execution_count": 2993,
     "metadata": {},
     "output_type": "execute_result"
    }
   ],
   "source": [
    "df.head()"
   ]
  },
  {
   "cell_type": "code",
   "execution_count": 2994,
   "metadata": {},
   "outputs": [
    {
     "data": {
      "text/plain": [
       "Literate      10699\n",
       "Illiterate     5299\n",
       "NaN               2\n",
       "Name: literacy, dtype: int64"
      ]
     },
     "execution_count": 2994,
     "metadata": {},
     "output_type": "execute_result"
    }
   ],
   "source": [
    "#\"literacy value_counts()\"\n",
    "\n",
    "df['literacy'].value_counts(dropna=False)"
   ]
  },
  {
   "cell_type": "code",
   "execution_count": 2995,
   "metadata": {},
   "outputs": [
    {
     "data": {
      "text/plain": [
       "'Literate'"
      ]
     },
     "execution_count": 2995,
     "metadata": {},
     "output_type": "execute_result"
    }
   ],
   "source": [
    "#Mode\n",
    "\n",
    "df['literacy'].mode()[0]"
   ]
  },
  {
   "cell_type": "code",
   "execution_count": 2996,
   "metadata": {},
   "outputs": [],
   "source": [
    "#Imputation with mode\n",
    "\n",
    "df['literacy']=df['literacy'].fillna(df['literacy'].mode()[0])"
   ]
  },
  {
   "cell_type": "markdown",
   "metadata": {},
   "source": [
    "#### “literacy” imputed with mode.  "
   ]
  },
  {
   "cell_type": "code",
   "execution_count": 2997,
   "metadata": {},
   "outputs": [
    {
     "data": {
      "text/plain": [
       "Literate      10701\n",
       "Illiterate     5299\n",
       "Name: literacy, dtype: int64"
      ]
     },
     "execution_count": 2997,
     "metadata": {},
     "output_type": "execute_result"
    }
   ],
   "source": [
    "df['literacy'].value_counts(dropna=False)"
   ]
  },
  {
   "cell_type": "code",
   "execution_count": 2998,
   "metadata": {},
   "outputs": [
    {
     "data": {
      "text/plain": [
       "491441.0"
      ]
     },
     "execution_count": 2998,
     "metadata": {},
     "output_type": "execute_result"
    }
   ],
   "source": [
    "df['pincode'].median()"
   ]
  },
  {
   "cell_type": "code",
   "execution_count": 2999,
   "metadata": {},
   "outputs": [],
   "source": [
    "#Imputation with median\n",
    "\n",
    "df['pincode']=df['pincode'].fillna(df['pincode'].median())"
   ]
  },
  {
   "cell_type": "markdown",
   "metadata": {},
   "source": [
    "#### “Pincode” imputed with median.  "
   ]
  },
  {
   "cell_type": "code",
   "execution_count": 3000,
   "metadata": {},
   "outputs": [
    {
     "data": {
      "text/plain": [
       "NaN    10709\n",
       "No      4359\n",
       "Yes      932\n",
       "Name: hasEnrolledAdultLiteracy, dtype: int64"
      ]
     },
     "execution_count": 3000,
     "metadata": {},
     "output_type": "execute_result"
    }
   ],
   "source": [
    "#Value_counts \"hasEnrolledAdultLiteracy\"\n",
    "\n",
    "df['hasEnrolledAdultLiteracy'].value_counts(dropna=False)"
   ]
  },
  {
   "cell_type": "code",
   "execution_count": 3001,
   "metadata": {},
   "outputs": [
    {
     "data": {
      "text/plain": [
       "Literate      10697\n",
       "Illiterate       12\n",
       "Name: literacy, dtype: int64"
      ]
     },
     "execution_count": 3001,
     "metadata": {},
     "output_type": "execute_result"
    }
   ],
   "source": [
    "df[df['hasEnrolledAdultLiteracy'].isnull()==True]['literacy'].value_counts(dropna=False)"
   ]
  },
  {
   "cell_type": "code",
   "execution_count": 3002,
   "metadata": {},
   "outputs": [
    {
     "data": {
      "text/plain": [
       "NaN    10697\n",
       "No         4\n",
       "Name: hasEnrolledAdultLiteracy, dtype: int64"
      ]
     },
     "execution_count": 3002,
     "metadata": {},
     "output_type": "execute_result"
    }
   ],
   "source": [
    "df[df['literacy']=='Literate']['hasEnrolledAdultLiteracy'].value_counts(dropna=False)"
   ]
  },
  {
   "cell_type": "code",
   "execution_count": 3003,
   "metadata": {},
   "outputs": [
    {
     "data": {
      "text/plain": [
       "No     4355\n",
       "Yes     932\n",
       "NaN      12\n",
       "Name: hasEnrolledAdultLiteracy, dtype: int64"
      ]
     },
     "execution_count": 3003,
     "metadata": {},
     "output_type": "execute_result"
    }
   ],
   "source": [
    "df[df['literacy']=='Illiterate']['hasEnrolledAdultLiteracy'].value_counts(dropna=False)"
   ]
  },
  {
   "cell_type": "code",
   "execution_count": 3004,
   "metadata": {},
   "outputs": [],
   "source": [
    "#Imputed \"hasEnrolledAdultLiteracy\" with 'No'\n",
    "\n",
    "df['hasEnrolledAdultLiteracy']=df['hasEnrolledAdultLiteracy'].fillna('No')"
   ]
  },
  {
   "cell_type": "markdown",
   "metadata": {},
   "source": [
    "#### Imputed “hasEnrolledAdultLiteracy” with ‘No’ because only illiterate people opted this and the missing values in this columns were all literate that means they haven’t opted this so ‘No’"
   ]
  },
  {
   "cell_type": "code",
   "execution_count": 3005,
   "metadata": {},
   "outputs": [
    {
     "data": {
      "text/plain": [
       "No     15068\n",
       "Yes      932\n",
       "Name: hasEnrolledAdultLiteracy, dtype: int64"
      ]
     },
     "execution_count": 3005,
     "metadata": {},
     "output_type": "execute_result"
    }
   ],
   "source": [
    "df['hasEnrolledAdultLiteracy'].value_counts(dropna=False)"
   ]
  },
  {
   "cell_type": "code",
   "execution_count": 3006,
   "metadata": {},
   "outputs": [
    {
     "data": {
      "text/plain": [
       "Formal      10420\n",
       "NaN          5307\n",
       "Informal      273\n",
       "Name: eduType, dtype: int64"
      ]
     },
     "execution_count": 3006,
     "metadata": {},
     "output_type": "execute_result"
    }
   ],
   "source": [
    "#Value_counts \"eduType\"\n",
    "\n",
    "df['eduType'].value_counts(dropna=False)"
   ]
  },
  {
   "cell_type": "code",
   "execution_count": 3007,
   "metadata": {},
   "outputs": [
    {
     "data": {
      "text/plain": [
       "NaN    5299\n",
       "Name: eduType, dtype: int64"
      ]
     },
     "execution_count": 3007,
     "metadata": {},
     "output_type": "execute_result"
    }
   ],
   "source": [
    "df[df['literacy']=='Illiterate']['eduType'].value_counts(dropna=False)"
   ]
  },
  {
   "cell_type": "code",
   "execution_count": 3008,
   "metadata": {},
   "outputs": [
    {
     "data": {
      "text/plain": [
       "Formal      10420\n",
       "Informal      273\n",
       "NaN             8\n",
       "Name: eduType, dtype: int64"
      ]
     },
     "execution_count": 3008,
     "metadata": {},
     "output_type": "execute_result"
    }
   ],
   "source": [
    "df[df['literacy']=='Literate']['eduType'].value_counts(dropna=False)"
   ]
  },
  {
   "cell_type": "code",
   "execution_count": 3009,
   "metadata": {},
   "outputs": [],
   "source": [
    "#Imputation of \"eduType\"\n",
    "\n",
    "df['eduType']=df[df['literacy']=='Literate']['eduType'].fillna('Formal')\n",
    "df['eduType']=df['eduType'].fillna('No_education')"
   ]
  },
  {
   "cell_type": "markdown",
   "metadata": {},
   "source": [
    "#### In ‘edutype’ imputed rows that had ‘literate’ in literacy column with ‘formal’ rest with ‘No_education’."
   ]
  },
  {
   "cell_type": "code",
   "execution_count": 3010,
   "metadata": {},
   "outputs": [
    {
     "data": {
      "text/plain": [
       "Formal          10428\n",
       "No_education     5299\n",
       "Informal          273\n",
       "Name: eduType, dtype: int64"
      ]
     },
     "execution_count": 3010,
     "metadata": {},
     "output_type": "execute_result"
    }
   ],
   "source": [
    "df['eduType'].value_counts(dropna=False)"
   ]
  },
  {
   "cell_type": "code",
   "execution_count": 3011,
   "metadata": {},
   "outputs": [
    {
     "data": {
      "text/plain": [
       "Adult literacy    217\n",
       "NaN                39\n",
       "Others             17\n",
       "Name: eduInformal, dtype: int64"
      ]
     },
     "execution_count": 3011,
     "metadata": {},
     "output_type": "execute_result"
    }
   ],
   "source": [
    "# Value_counts of \"eduInformal\" when \"eduType\" is 'Informal'\n",
    "\n",
    "df[df['eduType'] == 'Informal']['eduInformal'].value_counts(dropna=False)"
   ]
  },
  {
   "cell_type": "code",
   "execution_count": 3012,
   "metadata": {},
   "outputs": [
    {
     "data": {
      "text/plain": [
       "NaN                   10420\n",
       "Adult literacy            5\n",
       "Finished Education        3\n",
       "Name: eduInformal, dtype: int64"
      ]
     },
     "execution_count": 3012,
     "metadata": {},
     "output_type": "execute_result"
    }
   ],
   "source": [
    "df[df['eduType'] == 'Formal']['eduInformal'].value_counts(dropna=False)"
   ]
  },
  {
   "cell_type": "code",
   "execution_count": 3013,
   "metadata": {},
   "outputs": [
    {
     "data": {
      "text/plain": [
       "NaN    5299\n",
       "Name: eduInformal, dtype: int64"
      ]
     },
     "execution_count": 3013,
     "metadata": {},
     "output_type": "execute_result"
    }
   ],
   "source": [
    "df[df['eduType'] == 'No_education']['eduInformal'].value_counts(dropna=False)"
   ]
  },
  {
   "cell_type": "code",
   "execution_count": 3014,
   "metadata": {},
   "outputs": [
    {
     "data": {
      "text/plain": [
       "'Adult literacy'"
      ]
     },
     "execution_count": 3014,
     "metadata": {},
     "output_type": "execute_result"
    }
   ],
   "source": [
    "df[df['eduType'] == 'Informal']['eduInformal'].mode()[0]"
   ]
  },
  {
   "cell_type": "code",
   "execution_count": 3015,
   "metadata": {},
   "outputs": [],
   "source": [
    "#Imputation of eduInformal\n",
    "\n",
    "df['eduInformal']=df[df['eduType'] == 'Informal']['eduInformal'].fillna(df[df['eduType'] == 'Informal']['eduInformal'].mode()[0])\n",
    "\n",
    "df['eduInformal']=df['eduInformal'].fillna('Not Taken')\n"
   ]
  },
  {
   "cell_type": "markdown",
   "metadata": {},
   "source": [
    "#### “eduInformal”- Impute it with mode where “edutype” is informal. Rest with ‘not taken’."
   ]
  },
  {
   "cell_type": "code",
   "execution_count": 3016,
   "metadata": {},
   "outputs": [
    {
     "data": {
      "text/plain": [
       "Not Taken         15727\n",
       "Adult literacy      256\n",
       "Others               17\n",
       "Name: eduInformal, dtype: int64"
      ]
     },
     "execution_count": 3016,
     "metadata": {},
     "output_type": "execute_result"
    }
   ],
   "source": [
    "df['eduInformal'].value_counts(dropna=False)"
   ]
  },
  {
   "cell_type": "code",
   "execution_count": 3017,
   "metadata": {},
   "outputs": [
    {
     "data": {
      "text/plain": [
       "Finished Education    10245\n",
       "NaN                    5619\n",
       "Continuing              125\n",
       "Dropout                  11\n",
       "Name: statusFormalEdu, dtype: int64"
      ]
     },
     "execution_count": 3017,
     "metadata": {},
     "output_type": "execute_result"
    }
   ],
   "source": [
    "#Value_counts of \"statusFormalEdu\"\n",
    "\n",
    "df['statusFormalEdu'].value_counts(dropna=False)"
   ]
  },
  {
   "cell_type": "code",
   "execution_count": 3018,
   "metadata": {},
   "outputs": [
    {
     "data": {
      "text/plain": [
       "'Finished Education'"
      ]
     },
     "execution_count": 3018,
     "metadata": {},
     "output_type": "execute_result"
    }
   ],
   "source": [
    "df[df['literacy']=='Literate']['statusFormalEdu'].mode()[0]"
   ]
  },
  {
   "cell_type": "code",
   "execution_count": 3019,
   "metadata": {},
   "outputs": [],
   "source": [
    "#Imputation of \"statusFormalEdu\"\n",
    "\n",
    "df['statusFormalEdu']=df[df['literacy']=='Literate']['statusFormalEdu'].fillna(df[df['literacy']=='Literate']['statusFormalEdu'].mode()[0])\n",
    "df['statusFormalEdu']=df['statusFormalEdu'].fillna('No education')"
   ]
  },
  {
   "cell_type": "markdown",
   "metadata": {},
   "source": [
    "#### “statusFormalEdu”- Replace it with mode where edutype is ‘literate’. Mode is ‘Finished Education’. Rest with ‘No education’ because their ‘edutype’ was ‘Illiterate’."
   ]
  },
  {
   "cell_type": "code",
   "execution_count": 3020,
   "metadata": {},
   "outputs": [
    {
     "data": {
      "text/plain": [
       "Finished Education    10565\n",
       "No education           5299\n",
       "Continuing              125\n",
       "Dropout                  11\n",
       "Name: statusFormalEdu, dtype: int64"
      ]
     },
     "execution_count": 3020,
     "metadata": {},
     "output_type": "execute_result"
    }
   ],
   "source": [
    "df['statusFormalEdu'].value_counts(dropna=False)"
   ]
  },
  {
   "cell_type": "code",
   "execution_count": 3021,
   "metadata": {},
   "outputs": [
    {
     "data": {
      "text/plain": [
       "NaN           15899\n",
       "Government       89\n",
       "Private          12\n",
       "Name: typeOfSchool, dtype: int64"
      ]
     },
     "execution_count": 3021,
     "metadata": {},
     "output_type": "execute_result"
    }
   ],
   "source": [
    "#Value_counts of \"typeOfSchool\"\n",
    "\n",
    "df['typeOfSchool'].value_counts(dropna=False)"
   ]
  },
  {
   "cell_type": "code",
   "execution_count": 3022,
   "metadata": {},
   "outputs": [
    {
     "data": {
      "text/plain": [
       "NaN           10600\n",
       "Government       89\n",
       "Private          12\n",
       "Name: typeOfSchool, dtype: int64"
      ]
     },
     "execution_count": 3022,
     "metadata": {},
     "output_type": "execute_result"
    }
   ],
   "source": [
    "df[df['literacy'] == 'Literate']['typeOfSchool'].value_counts(dropna=False)"
   ]
  },
  {
   "cell_type": "code",
   "execution_count": 3023,
   "metadata": {},
   "outputs": [
    {
     "data": {
      "text/plain": [
       "NaN           0.993687\n",
       "Government    0.005562\n",
       "Private       0.000750\n",
       "Name: typeOfSchool, dtype: float64"
      ]
     },
     "execution_count": 3023,
     "metadata": {},
     "output_type": "execute_result"
    }
   ],
   "source": [
    "df['typeOfSchool'].value_counts(normalize=True,dropna=False)"
   ]
  },
  {
   "cell_type": "code",
   "execution_count": 3024,
   "metadata": {},
   "outputs": [
    {
     "data": {
      "text/plain": [
       "NaN           0.990562\n",
       "Government    0.008317\n",
       "Private       0.001121\n",
       "Name: typeOfSchool, dtype: float64"
      ]
     },
     "execution_count": 3024,
     "metadata": {},
     "output_type": "execute_result"
    }
   ],
   "source": [
    "df[df['literacy'] == 'Literate']['typeOfSchool'].value_counts(normalize=True,dropna=False)"
   ]
  },
  {
   "cell_type": "code",
   "execution_count": 3025,
   "metadata": {},
   "outputs": [
    {
     "data": {
      "text/plain": [
       "Government    0.881188\n",
       "Private       0.118812\n",
       "Name: typeOfSchool, dtype: float64"
      ]
     },
     "execution_count": 3025,
     "metadata": {},
     "output_type": "execute_result"
    }
   ],
   "source": [
    "df[df['literacy'] == 'Literate']['typeOfSchool'].value_counts(normalize=True)"
   ]
  },
  {
   "cell_type": "code",
   "execution_count": 3026,
   "metadata": {},
   "outputs": [
    {
     "data": {
      "text/plain": [
       "Government    0.881188\n",
       "Private       0.118812\n",
       "Name: typeOfSchool, dtype: float64"
      ]
     },
     "execution_count": 3026,
     "metadata": {},
     "output_type": "execute_result"
    }
   ],
   "source": [
    "df['typeOfSchool'].value_counts(normalize=True)"
   ]
  },
  {
   "cell_type": "code",
   "execution_count": 3027,
   "metadata": {},
   "outputs": [],
   "source": [
    "#Imputation of \"typeOfSchool\"\n",
    "\n",
    "df['typeOfSchool']=df[df['literacy'] == 'Literate']['typeOfSchool'].fillna(pd.Series(np.random.choice(['Government', 'Private'], \n",
    "                                                      p=[0.89, 0.11], size=len(df))))\n",
    "df['typeOfSchool']=df['typeOfSchool'].fillna('No School')\n",
    "\n"
   ]
  },
  {
   "cell_type": "markdown",
   "metadata": {},
   "source": [
    "#### ‘typeofschool’- Where edutype is ‘Literate’, Impute the null in ‘typeofschool’ with other values in column according to their probabilities in normalized column. Imputed rest null values with ‘No School’ because their edutype were ‘Illiterate’. "
   ]
  },
  {
   "cell_type": "code",
   "execution_count": 3028,
   "metadata": {},
   "outputs": [
    {
     "data": {
      "text/plain": [
       "NaN                  15945\n",
       "Walking                 35\n",
       "Public Transport        12\n",
       "Private Transport        8\n",
       "Name: eduTransport, dtype: int64"
      ]
     },
     "execution_count": 3028,
     "metadata": {},
     "output_type": "execute_result"
    }
   ],
   "source": [
    "#Value_counts of \"eduTransport\"\n",
    "\n",
    "df['eduTransport'].value_counts(dropna=False)"
   ]
  },
  {
   "cell_type": "code",
   "execution_count": 3029,
   "metadata": {},
   "outputs": [
    {
     "data": {
      "text/plain": [
       "NaN                  9507\n",
       "Walking                23\n",
       "Public Transport        9\n",
       "Private Transport       5\n",
       "Name: eduTransport, dtype: int64"
      ]
     },
     "execution_count": 3029,
     "metadata": {},
     "output_type": "execute_result"
    }
   ],
   "source": [
    "df[df['typeOfSchool']=='Government']['eduTransport'].value_counts(dropna=False)"
   ]
  },
  {
   "cell_type": "code",
   "execution_count": 3030,
   "metadata": {},
   "outputs": [
    {
     "data": {
      "text/plain": [
       "NaN                  1139\n",
       "Walking                12\n",
       "Private Transport       3\n",
       "Public Transport        3\n",
       "Name: eduTransport, dtype: int64"
      ]
     },
     "execution_count": 3030,
     "metadata": {},
     "output_type": "execute_result"
    }
   ],
   "source": [
    "df[df['typeOfSchool']=='Private']['eduTransport'].value_counts(dropna=False)"
   ]
  },
  {
   "cell_type": "code",
   "execution_count": 3031,
   "metadata": {},
   "outputs": [
    {
     "data": {
      "text/plain": [
       "NaN    5299\n",
       "Name: eduTransport, dtype: int64"
      ]
     },
     "execution_count": 3031,
     "metadata": {},
     "output_type": "execute_result"
    }
   ],
   "source": [
    "df[df['typeOfSchool']=='No School']['eduTransport'].value_counts(dropna=False)"
   ]
  },
  {
   "cell_type": "code",
   "execution_count": 3032,
   "metadata": {},
   "outputs": [],
   "source": [
    "#Imputation of \"eduTransport\" where \"typeOfSchool\" is 'No School'\n",
    "\n",
    "df.loc[df['typeOfSchool']=='No School','eduTransport']='No School'"
   ]
  },
  {
   "cell_type": "code",
   "execution_count": 3033,
   "metadata": {},
   "outputs": [
    {
     "data": {
      "text/plain": [
       "NaN                  0.994860\n",
       "Walking              0.003271\n",
       "Public Transport     0.001121\n",
       "Private Transport    0.000748\n",
       "Name: eduTransport, dtype: float64"
      ]
     },
     "execution_count": 3033,
     "metadata": {},
     "output_type": "execute_result"
    }
   ],
   "source": [
    "df[df['typeOfSchool']!='No School']['eduTransport'].value_counts(normalize=True,dropna=False)"
   ]
  },
  {
   "cell_type": "code",
   "execution_count": 3034,
   "metadata": {},
   "outputs": [
    {
     "data": {
      "text/plain": [
       "Walking              0.636364\n",
       "Public Transport     0.218182\n",
       "Private Transport    0.145455\n",
       "Name: eduTransport, dtype: float64"
      ]
     },
     "execution_count": 3034,
     "metadata": {},
     "output_type": "execute_result"
    }
   ],
   "source": [
    "df[df['typeOfSchool']!='No School']['eduTransport'].value_counts(normalize=True)"
   ]
  },
  {
   "cell_type": "code",
   "execution_count": 3035,
   "metadata": {},
   "outputs": [],
   "source": [
    "#Imputation of \"eduTransport\"(Rest)\n",
    "\n",
    "df['eduTransport'] = df['eduTransport'].fillna(pd.Series(np.random.choice(['Walking', 'Public Transport','Private Transport'], \n",
    "                                                      p=[0.64, 0.22,0.14], size=len(df))))"
   ]
  },
  {
   "cell_type": "markdown",
   "metadata": {},
   "source": [
    "#### “eduTransport”- Replace null with No School were typeoschool is ‘No School’. Rest values as per their probabilities in normalized column."
   ]
  },
  {
   "cell_type": "code",
   "execution_count": 3036,
   "metadata": {},
   "outputs": [
    {
     "data": {
      "text/plain": [
       "Walking              6795\n",
       "No School            5299\n",
       "Public Transport     2402\n",
       "Private Transport    1504\n",
       "Name: eduTransport, dtype: int64"
      ]
     },
     "execution_count": 3036,
     "metadata": {},
     "output_type": "execute_result"
    }
   ],
   "source": [
    "df['eduTransport'].value_counts(dropna=False)"
   ]
  },
  {
   "cell_type": "code",
   "execution_count": 3037,
   "metadata": {},
   "outputs": [
    {
     "data": {
      "text/plain": [
       "Yes    14481\n",
       "No      1436\n",
       "NaN       83\n",
       "Name: isHeadOfFamily, dtype: int64"
      ]
     },
     "execution_count": 3037,
     "metadata": {},
     "output_type": "execute_result"
    }
   ],
   "source": [
    "#Value counts of \"isHeadOfFamily\"\n",
    "\n",
    "df['isHeadOfFamily'].value_counts(dropna=False)"
   ]
  },
  {
   "cell_type": "code",
   "execution_count": 3038,
   "metadata": {},
   "outputs": [
    {
     "data": {
      "text/plain": [
       "'Yes'"
      ]
     },
     "execution_count": 3038,
     "metadata": {},
     "output_type": "execute_result"
    }
   ],
   "source": [
    "df['isHeadOfFamily'].mode()[0]"
   ]
  },
  {
   "cell_type": "code",
   "execution_count": 3039,
   "metadata": {},
   "outputs": [],
   "source": [
    "#Imputation of \"isHeadOfFamily\"\n",
    "\n",
    "df['isHeadOfFamily']=df['isHeadOfFamily'].fillna(df['isHeadOfFamily'].mode()[0])"
   ]
  },
  {
   "cell_type": "markdown",
   "metadata": {},
   "source": [
    "#### “isHeadOfFamily”- Imputed it with mode i.e, ‘Yes’."
   ]
  },
  {
   "cell_type": "code",
   "execution_count": 3040,
   "metadata": {},
   "outputs": [
    {
     "data": {
      "text/plain": [
       "Yes    14564\n",
       "No      1436\n",
       "Name: isHeadOfFamily, dtype: int64"
      ]
     },
     "execution_count": 3040,
     "metadata": {},
     "output_type": "execute_result"
    }
   ],
   "source": [
    "df['isHeadOfFamily'].value_counts(dropna=False)"
   ]
  },
  {
   "cell_type": "code",
   "execution_count": 3041,
   "metadata": {},
   "outputs": [
    {
     "data": {
      "text/plain": [
       "NaN              14564\n",
       "बहु                303\n",
       "पत्नी              298\n",
       "पुत्र              216\n",
       "पति                154\n",
       "पुत्री             119\n",
       "माता                72\n",
       "पिता                68\n",
       "सास                 66\n",
       "Husband             51\n",
       "भाई                 28\n",
       "ससुर                10\n",
       "Father               9\n",
       "Grandson             6\n",
       "Wife                 6\n",
       "बहन                  5\n",
       "Half-sibling         5\n",
       "चाचा                 4\n",
       "Son                  3\n",
       "पोता                 3\n",
       "पोती                 2\n",
       "Mother               2\n",
       "भांजी                1\n",
       "दादी                 1\n",
       "Daughter             1\n",
       "नतिनी                1\n",
       "Grandmother          1\n",
       "--- चुनिए ---        1\n",
       "Name: relWithHeadOfFamily, dtype: int64"
      ]
     },
     "execution_count": 3041,
     "metadata": {},
     "output_type": "execute_result"
    }
   ],
   "source": [
    "#Value counts of \"relWithHeadOfFamily\"\n",
    "\n",
    "df['relWithHeadOfFamily'].value_counts(dropna=False)"
   ]
  },
  {
   "cell_type": "code",
   "execution_count": 3042,
   "metadata": {},
   "outputs": [],
   "source": [
    "#Imputation of \"relWithHeadOfFamily\"\n",
    "\n",
    "df['relWithHeadOfFamily']=df['relWithHeadOfFamily'].fillna('Self')"
   ]
  },
  {
   "cell_type": "markdown",
   "metadata": {},
   "source": [
    "#### “relWithHeadOfFamily”- imputed with ‘Self’ because I found out that null is present in this column where “isHeadOfFamily” is ‘Yes’."
   ]
  },
  {
   "cell_type": "code",
   "execution_count": 3043,
   "metadata": {},
   "outputs": [
    {
     "data": {
      "text/plain": [
       "Self             14564\n",
       "बहु                303\n",
       "पत्नी              298\n",
       "पुत्र              216\n",
       "पति                154\n",
       "पुत्री             119\n",
       "माता                72\n",
       "पिता                68\n",
       "सास                 66\n",
       "Husband             51\n",
       "भाई                 28\n",
       "ससुर                10\n",
       "Father               9\n",
       "Grandson             6\n",
       "Wife                 6\n",
       "बहन                  5\n",
       "Half-sibling         5\n",
       "चाचा                 4\n",
       "पोता                 3\n",
       "Son                  3\n",
       "Mother               2\n",
       "पोती                 2\n",
       "भांजी                1\n",
       "दादी                 1\n",
       "Daughter             1\n",
       "नतिनी                1\n",
       "--- चुनिए ---        1\n",
       "Grandmother          1\n",
       "Name: relWithHeadOfFamily, dtype: int64"
      ]
     },
     "execution_count": 3043,
     "metadata": {},
     "output_type": "execute_result"
    }
   ],
   "source": [
    "df['relWithHeadOfFamily'].value_counts(dropna=False)"
   ]
  },
  {
   "cell_type": "code",
   "execution_count": 3044,
   "metadata": {},
   "outputs": [
    {
     "data": {
      "text/plain": [
       "NaN       14564\n",
       "Female      801\n",
       "Male        631\n",
       "Others        4\n",
       "Name: genderHeadOfFamily, dtype: int64"
      ]
     },
     "execution_count": 3044,
     "metadata": {},
     "output_type": "execute_result"
    }
   ],
   "source": [
    "#Value counts of \"genderHeadOfFamily\"\n",
    "\n",
    "df['genderHeadOfFamily'].value_counts(dropna=False)"
   ]
  },
  {
   "cell_type": "code",
   "execution_count": 3045,
   "metadata": {},
   "outputs": [
    {
     "data": {
      "text/plain": [
       "NaN       0.910250\n",
       "Female    0.050063\n",
       "Male      0.039438\n",
       "Others    0.000250\n",
       "Name: genderHeadOfFamily, dtype: float64"
      ]
     },
     "execution_count": 3045,
     "metadata": {},
     "output_type": "execute_result"
    }
   ],
   "source": [
    "df['genderHeadOfFamily'].value_counts(normalize=True,dropna=False)"
   ]
  },
  {
   "cell_type": "code",
   "execution_count": 3046,
   "metadata": {},
   "outputs": [
    {
     "data": {
      "text/plain": [
       "Female    0.557799\n",
       "Male      0.439415\n",
       "Others    0.002786\n",
       "Name: genderHeadOfFamily, dtype: float64"
      ]
     },
     "execution_count": 3046,
     "metadata": {},
     "output_type": "execute_result"
    }
   ],
   "source": [
    "df['genderHeadOfFamily'].value_counts(normalize=True)"
   ]
  },
  {
   "cell_type": "code",
   "execution_count": 3047,
   "metadata": {},
   "outputs": [],
   "source": [
    "#Imputation of \"genderHeadOfFamily\"\n",
    "\n",
    "df['genderHeadOfFamily'] = df['genderHeadOfFamily'].fillna(pd.Series(np.random.choice\n",
    "                                                         (['Female', 'Male','Others'], \n",
    "                                                      p=[0.56, 0.43,0.01], size=len(df))))"
   ]
  },
  {
   "cell_type": "markdown",
   "metadata": {},
   "source": [
    "#### “genderHeadOfFamily”- imputed null values with other values present in column according to their probabilities in normalized column."
   ]
  },
  {
   "cell_type": "code",
   "execution_count": 3048,
   "metadata": {},
   "outputs": [
    {
     "data": {
      "text/plain": [
       "Female    9017\n",
       "Male      6830\n",
       "Others     153\n",
       "Name: genderHeadOfFamily, dtype: int64"
      ]
     },
     "execution_count": 3048,
     "metadata": {},
     "output_type": "execute_result"
    }
   ],
   "source": [
    "df['genderHeadOfFamily'].value_counts(dropna=False)"
   ]
  },
  {
   "cell_type": "code",
   "execution_count": 3049,
   "metadata": {},
   "outputs": [
    {
     "data": {
      "text/plain": [
       "No     14441\n",
       "Yes      799\n",
       "NaN      760\n",
       "Name: hasSECC, dtype: int64"
      ]
     },
     "execution_count": 3049,
     "metadata": {},
     "output_type": "execute_result"
    }
   ],
   "source": [
    "#Value counts of \"hasSECC\"\n",
    "\n",
    "df['hasSECC'].value_counts(dropna=False)"
   ]
  },
  {
   "cell_type": "code",
   "execution_count": 3050,
   "metadata": {},
   "outputs": [
    {
     "data": {
      "text/plain": [
       "'No'"
      ]
     },
     "execution_count": 3050,
     "metadata": {},
     "output_type": "execute_result"
    }
   ],
   "source": [
    "df['hasSECC'].mode()[0]"
   ]
  },
  {
   "cell_type": "code",
   "execution_count": 3051,
   "metadata": {},
   "outputs": [],
   "source": [
    "#Imputation of \"hasSECC\"\n",
    "\n",
    "df['hasSECC']=df['hasSECC'].fillna(df['hasSECC'].mode()[0])\n"
   ]
  },
  {
   "cell_type": "markdown",
   "metadata": {},
   "source": [
    "#### “hasSECC”- Imputed it with mode i.e, ‘No’."
   ]
  },
  {
   "cell_type": "code",
   "execution_count": 3052,
   "metadata": {},
   "outputs": [
    {
     "data": {
      "text/plain": [
       "Yes    11053\n",
       "No      4945\n",
       "NaN        2\n",
       "Name: hasLand, dtype: int64"
      ]
     },
     "execution_count": 3052,
     "metadata": {},
     "output_type": "execute_result"
    }
   ],
   "source": [
    "#Value counts of \"hasLand\"\n",
    "\n",
    "df['hasLand'].value_counts(dropna=False)"
   ]
  },
  {
   "cell_type": "code",
   "execution_count": 3053,
   "metadata": {},
   "outputs": [],
   "source": [
    "#Imputation of \"hasLand\"\n",
    "\n",
    "df['hasLand']=df['hasLand'].fillna('No')"
   ]
  },
  {
   "cell_type": "markdown",
   "metadata": {},
   "source": [
    "#### “hasLand”- Imputed with ‘No’ because if someone left that that means they don’t have or don’t know weather they have land or not which implies that they have no land. "
   ]
  },
  {
   "cell_type": "code",
   "execution_count": 3054,
   "metadata": {},
   "outputs": [
    {
     "data": {
      "text/plain": [
       "NaN                        13994\n",
       "No hereditary ownership     1159\n",
       "Others                       439\n",
       "Displaced                    315\n",
       "Sold out of distress          93\n",
       "Name: reasonLandless, dtype: int64"
      ]
     },
     "execution_count": 3054,
     "metadata": {},
     "output_type": "execute_result"
    }
   ],
   "source": [
    "#Value counts of \"reasonLandless\"\n",
    "\n",
    "df['reasonLandless'].value_counts(dropna=False)"
   ]
  },
  {
   "cell_type": "code",
   "execution_count": 3055,
   "metadata": {},
   "outputs": [],
   "source": [
    "#Imputation of \"reasonLandless\"\n",
    "\n",
    "df['reasonLandless'] = df['reasonLandless'].fillna('No hereditary ownership')"
   ]
  },
  {
   "cell_type": "markdown",
   "metadata": {},
   "source": [
    "#### “reasonLandless”-  Imputed it with ‘No hereditary ownership’ because I think if someone left the column blank that means he/she doesn’t know the reason of that means they have nothing to do with land. So,’ No hereditary ownership’."
   ]
  },
  {
   "cell_type": "code",
   "execution_count": 3056,
   "metadata": {},
   "outputs": [
    {
     "data": {
      "text/plain": [
       "No hereditary ownership    15153\n",
       "Others                       439\n",
       "Displaced                    315\n",
       "Sold out of distress          93\n",
       "Name: reasonLandless, dtype: int64"
      ]
     },
     "execution_count": 3056,
     "metadata": {},
     "output_type": "execute_result"
    }
   ],
   "source": [
    "df['reasonLandless'].value_counts(dropna=False)"
   ]
  },
  {
   "cell_type": "code",
   "execution_count": 3057,
   "metadata": {},
   "outputs": [
    {
     "data": {
      "text/plain": [
       "NaN              14374\n",
       "Self Employed     1491\n",
       "Salaried           135\n",
       "Name: employmentType, dtype: int64"
      ]
     },
     "execution_count": 3057,
     "metadata": {},
     "output_type": "execute_result"
    }
   ],
   "source": [
    "#Value counts of \"employmentType\"\n",
    "\n",
    "df['employmentType'].value_counts(dropna=False)"
   ]
  },
  {
   "cell_type": "code",
   "execution_count": 3058,
   "metadata": {},
   "outputs": [],
   "source": [
    "#Imputation of \"employmentType\"\n",
    "\n",
    "df['employmentType']=df['employmentType'].fillna('Jobless')"
   ]
  },
  {
   "cell_type": "markdown",
   "metadata": {},
   "source": [
    "#### “employmentType”- Imputed with ‘Jobless’ because if someone left it that means he has no job."
   ]
  },
  {
   "cell_type": "code",
   "execution_count": 3059,
   "metadata": {},
   "outputs": [
    {
     "data": {
      "text/plain": [
       "NaN    14376\n",
       "No      1338\n",
       "Yes      286\n",
       "Name: isWageEarner, dtype: int64"
      ]
     },
     "execution_count": 3059,
     "metadata": {},
     "output_type": "execute_result"
    }
   ],
   "source": [
    "#Value counts of \"isWageEarner\"\n",
    "\n",
    "df['isWageEarner'].value_counts(dropna=False)"
   ]
  },
  {
   "cell_type": "code",
   "execution_count": 3060,
   "metadata": {},
   "outputs": [
    {
     "data": {
      "text/plain": [
       "NaN    14371\n",
       "No         3\n",
       "Name: isWageEarner, dtype: int64"
      ]
     },
     "execution_count": 3060,
     "metadata": {},
     "output_type": "execute_result"
    }
   ],
   "source": [
    "df[df['employmentType']=='Jobless']['isWageEarner'].value_counts(dropna=False)"
   ]
  },
  {
   "cell_type": "code",
   "execution_count": 3061,
   "metadata": {},
   "outputs": [],
   "source": [
    "#Imputation of \"isWageEarner\"\n",
    "\n",
    "df['isWageEarner']=df['isWageEarner'].fillna('No')"
   ]
  },
  {
   "cell_type": "markdown",
   "metadata": {},
   "source": [
    "#### “isWageEarner”- Impute with ‘ No’ because all missing values had ‘Jobless’ in “employmentType” ."
   ]
  },
  {
   "cell_type": "code",
   "execution_count": 3062,
   "metadata": {},
   "outputs": [
    {
     "data": {
      "text/plain": [
       "NaN    14431\n",
       "No      1568\n",
       "Yes        1\n",
       "Name: isCooperativeMember, dtype: int64"
      ]
     },
     "execution_count": 3062,
     "metadata": {},
     "output_type": "execute_result"
    }
   ],
   "source": [
    "#Value counts of \"isCooperativeMember\"\n",
    "\n",
    "df['isCooperativeMember'].value_counts(dropna=False)\n"
   ]
  },
  {
   "cell_type": "code",
   "execution_count": 3063,
   "metadata": {},
   "outputs": [
    {
     "data": {
      "text/plain": [
       "NaN    14431\n",
       "No      1569\n",
       "Name: isFPOMember, dtype: int64"
      ]
     },
     "execution_count": 3063,
     "metadata": {},
     "output_type": "execute_result"
    }
   ],
   "source": [
    "#Value counts of \"isFPOMember\"\n",
    "\n",
    "df['isFPOMember'].value_counts(dropna=False)"
   ]
  },
  {
   "cell_type": "code",
   "execution_count": 3064,
   "metadata": {},
   "outputs": [
    {
     "data": {
      "text/plain": [
       "NaN    14431\n",
       "Yes      842\n",
       "No       727\n",
       "Name: noGroup, dtype: int64"
      ]
     },
     "execution_count": 3064,
     "metadata": {},
     "output_type": "execute_result"
    }
   ],
   "source": [
    "#Value counts of \"noGroup\"\n",
    "\n",
    "df['noGroup'].value_counts(dropna=False)"
   ]
  },
  {
   "cell_type": "code",
   "execution_count": 3065,
   "metadata": {},
   "outputs": [
    {
     "data": {
      "text/plain": [
       "NaN    0.901937\n",
       "Yes    0.052625\n",
       "No     0.045437\n",
       "Name: noGroup, dtype: float64"
      ]
     },
     "execution_count": 3065,
     "metadata": {},
     "output_type": "execute_result"
    }
   ],
   "source": [
    "df['noGroup'].value_counts(normalize=True,dropna=False)"
   ]
  },
  {
   "cell_type": "code",
   "execution_count": 3066,
   "metadata": {},
   "outputs": [
    {
     "data": {
      "text/plain": [
       "Yes    0.536648\n",
       "No     0.463352\n",
       "Name: noGroup, dtype: float64"
      ]
     },
     "execution_count": 3066,
     "metadata": {},
     "output_type": "execute_result"
    }
   ],
   "source": [
    "df['noGroup'].value_counts(normalize=True)"
   ]
  },
  {
   "cell_type": "code",
   "execution_count": 3067,
   "metadata": {},
   "outputs": [],
   "source": [
    "#Imputation od \"noGroup\"\n",
    "\n",
    "df['noGroup']=df['noGroup'].fillna(pd.Series(np.random.choice\n",
    "                                                         (['Yes','No'], \n",
    "                                                      p=[0.54, 0.46], size=len(df))))"
   ]
  },
  {
   "cell_type": "markdown",
   "metadata": {},
   "source": [
    "#### “noGroup”- Imputed null values with other values(’Yes’ & ’No’) present in column according to their probabilities in normalized column."
   ]
  },
  {
   "cell_type": "code",
   "execution_count": 3068,
   "metadata": {},
   "outputs": [
    {
     "data": {
      "text/plain": [
       "Yes    8611\n",
       "No     7389\n",
       "Name: noGroup, dtype: int64"
      ]
     },
     "execution_count": 3068,
     "metadata": {},
     "output_type": "execute_result"
    }
   ],
   "source": [
    "df['noGroup'].value_counts(dropna=False)"
   ]
  },
  {
   "cell_type": "code",
   "execution_count": 3069,
   "metadata": {},
   "outputs": [
    {
     "data": {
      "text/plain": [
       "NaN    14431\n",
       "No      1492\n",
       "Yes       77\n",
       "Name: isSHGMember, dtype: int64"
      ]
     },
     "execution_count": 3069,
     "metadata": {},
     "output_type": "execute_result"
    }
   ],
   "source": [
    "#Value counts of \"isSHGMember\"\n",
    "\n",
    "df['isSHGMember'].value_counts(dropna=False)"
   ]
  },
  {
   "cell_type": "code",
   "execution_count": 3070,
   "metadata": {},
   "outputs": [],
   "source": [
    "#Imputation of \"isSHGMember\" with 'No' where \"noGroup\" is 'Yes'\n",
    "\n",
    "df.loc[df['noGroup']=='Yes','isSHGMember']='No'"
   ]
  },
  {
   "cell_type": "code",
   "execution_count": 3071,
   "metadata": {},
   "outputs": [
    {
     "data": {
      "text/plain": [
       "No     9261\n",
       "NaN    6662\n",
       "Yes      77\n",
       "Name: isSHGMember, dtype: int64"
      ]
     },
     "execution_count": 3071,
     "metadata": {},
     "output_type": "execute_result"
    }
   ],
   "source": [
    "df['isSHGMember'].value_counts(dropna=False)"
   ]
  },
  {
   "cell_type": "code",
   "execution_count": 3072,
   "metadata": {},
   "outputs": [
    {
     "data": {
      "text/plain": [
       "NaN    6662\n",
       "No      650\n",
       "Yes      77\n",
       "Name: isSHGMember, dtype: int64"
      ]
     },
     "execution_count": 3072,
     "metadata": {},
     "output_type": "execute_result"
    }
   ],
   "source": [
    "df[df['noGroup']=='No']['isSHGMember'].value_counts(dropna=False)"
   ]
  },
  {
   "cell_type": "code",
   "execution_count": 3073,
   "metadata": {},
   "outputs": [
    {
     "data": {
      "text/plain": [
       "NaN    0.901611\n",
       "No     0.087969\n",
       "Yes    0.010421\n",
       "Name: isSHGMember, dtype: float64"
      ]
     },
     "execution_count": 3073,
     "metadata": {},
     "output_type": "execute_result"
    }
   ],
   "source": [
    "df[df['noGroup']=='No']['isSHGMember'].value_counts(normalize=True,dropna=False)"
   ]
  },
  {
   "cell_type": "code",
   "execution_count": 3074,
   "metadata": {},
   "outputs": [
    {
     "data": {
      "text/plain": [
       "No     0.894085\n",
       "Yes    0.105915\n",
       "Name: isSHGMember, dtype: float64"
      ]
     },
     "execution_count": 3074,
     "metadata": {},
     "output_type": "execute_result"
    }
   ],
   "source": [
    "df[df['noGroup']=='No']['isSHGMember'].value_counts(normalize=True)"
   ]
  },
  {
   "cell_type": "code",
   "execution_count": 3075,
   "metadata": {},
   "outputs": [],
   "source": [
    "#Imptation of \"isSHGMember\"(Rest)\n",
    "\n",
    "df.loc[df['noGroup']=='No','isSHGMember']=df.loc[df['noGroup']=='No','isSHGMember'].fillna(pd.Series(np.random.choice\n",
    "                                                         (['Yes','No'], \n",
    "                                                      p=[0.10, 0.90], size=len(df))))"
   ]
  },
  {
   "cell_type": "markdown",
   "metadata": {},
   "source": [
    "#### “isSHGMember”- Impute with ‘No’ where “noGroup” is ‘Yes’. Rest with other values(’Yes’ & ’No’) present in column according to their probabilities in normalized column where “noGroup” is ‘No’."
   ]
  },
  {
   "cell_type": "code",
   "execution_count": 3076,
   "metadata": {},
   "outputs": [
    {
     "data": {
      "text/plain": [
       "No     15268\n",
       "Yes      732\n",
       "Name: isSHGMember, dtype: int64"
      ]
     },
     "execution_count": 3076,
     "metadata": {},
     "output_type": "execute_result"
    }
   ],
   "source": [
    "df['isSHGMember'].value_counts(dropna=False)"
   ]
  },
  {
   "cell_type": "code",
   "execution_count": 3077,
   "metadata": {},
   "outputs": [
    {
     "data": {
      "text/plain": [
       "NaN    14780\n",
       "Yes     1220\n",
       "Name: interestedCertProgram, dtype: int64"
      ]
     },
     "execution_count": 3077,
     "metadata": {},
     "output_type": "execute_result"
    }
   ],
   "source": [
    "#Value counts of \"interestedCertProgram\"\n",
    "\n",
    "df['interestedCertProgram'].value_counts(dropna=False)"
   ]
  },
  {
   "cell_type": "code",
   "execution_count": 3078,
   "metadata": {},
   "outputs": [],
   "source": [
    "#Imputation of \"interestedCertProgram\"\n",
    "\n",
    "df['interestedCertProgram']=df['interestedCertProgram'].fillna('No')"
   ]
  },
  {
   "cell_type": "markdown",
   "metadata": {},
   "source": [
    "#### “interestedCertProgram”- Impute with ‘No’ because if it is null that means that person is not interested in program regardless of their edutype."
   ]
  },
  {
   "cell_type": "code",
   "execution_count": 3079,
   "metadata": {},
   "outputs": [
    {
     "data": {
      "text/plain": [
       "No     14780\n",
       "Yes     1220\n",
       "Name: interestedCertProgram, dtype: int64"
      ]
     },
     "execution_count": 3079,
     "metadata": {},
     "output_type": "execute_result"
    }
   ],
   "source": [
    "df['interestedCertProgram'].value_counts(dropna=False)"
   ]
  },
  {
   "cell_type": "code",
   "execution_count": 3080,
   "metadata": {},
   "outputs": [
    {
     "data": {
      "text/plain": [
       "NaN                          15075\n",
       "Did not request for wages      460\n",
       "Full                           350\n",
       "No                             101\n",
       "Partial - amount in INR         14\n",
       "Name: wageRecievedCOVID, dtype: int64"
      ]
     },
     "execution_count": 3080,
     "metadata": {},
     "output_type": "execute_result"
    }
   ],
   "source": [
    "#Value counts of \"wageRecievedCOVID\"\n",
    "\n",
    "df['wageRecievedCOVID'].value_counts(dropna=False)"
   ]
  },
  {
   "cell_type": "code",
   "execution_count": 3081,
   "metadata": {},
   "outputs": [
    {
     "data": {
      "text/plain": [
       "NaN                          0.942187\n",
       "Did not request for wages    0.028750\n",
       "Full                         0.021875\n",
       "No                           0.006313\n",
       "Partial - amount in INR      0.000875\n",
       "Name: wageRecievedCOVID, dtype: float64"
      ]
     },
     "execution_count": 3081,
     "metadata": {},
     "output_type": "execute_result"
    }
   ],
   "source": [
    "df['wageRecievedCOVID'].value_counts(normalize=True,dropna=False)"
   ]
  },
  {
   "cell_type": "code",
   "execution_count": 3082,
   "metadata": {},
   "outputs": [
    {
     "data": {
      "text/plain": [
       "Did not request for wages    0.497297\n",
       "Full                         0.378378\n",
       "No                           0.109189\n",
       "Partial - amount in INR      0.015135\n",
       "Name: wageRecievedCOVID, dtype: float64"
      ]
     },
     "execution_count": 3082,
     "metadata": {},
     "output_type": "execute_result"
    }
   ],
   "source": [
    "df['wageRecievedCOVID'].value_counts(normalize=True)"
   ]
  },
  {
   "cell_type": "code",
   "execution_count": 3083,
   "metadata": {},
   "outputs": [
    {
     "data": {
      "text/plain": [
       "Self Employed    353\n",
       "Salaried          11\n",
       "Name: employmentType, dtype: int64"
      ]
     },
     "execution_count": 3083,
     "metadata": {},
     "output_type": "execute_result"
    }
   ],
   "source": [
    "df[df['wageRecievedCOVID'].isin(['Full','Partial - amount in INR'])]['employmentType'].value_counts(dropna=False)"
   ]
  },
  {
   "cell_type": "code",
   "execution_count": 3084,
   "metadata": {},
   "outputs": [
    {
     "data": {
      "text/plain": [
       "No     235\n",
       "Yes    129\n",
       "Name: isWageEarner, dtype: int64"
      ]
     },
     "execution_count": 3084,
     "metadata": {},
     "output_type": "execute_result"
    }
   ],
   "source": [
    "df[df['wageRecievedCOVID'].isin(['Full','Partial - amount in INR'])]['isWageEarner'].value_counts(dropna=False)"
   ]
  },
  {
   "cell_type": "code",
   "execution_count": 3085,
   "metadata": {},
   "outputs": [
    {
     "data": {
      "text/plain": [
       "Self Employed    85\n",
       "Salaried         16\n",
       "Name: employmentType, dtype: int64"
      ]
     },
     "execution_count": 3085,
     "metadata": {},
     "output_type": "execute_result"
    }
   ],
   "source": [
    "df[df['wageRecievedCOVID'].isin(['No'])]['employmentType'].value_counts(dropna=False)"
   ]
  },
  {
   "cell_type": "code",
   "execution_count": 3086,
   "metadata": {},
   "outputs": [
    {
     "data": {
      "text/plain": [
       "Self Employed    367\n",
       "Salaried          93\n",
       "Name: employmentType, dtype: int64"
      ]
     },
     "execution_count": 3086,
     "metadata": {},
     "output_type": "execute_result"
    }
   ],
   "source": [
    "df[df['wageRecievedCOVID'].isin(['Did not request for wages'])]['employmentType'].value_counts(dropna=False)"
   ]
  },
  {
   "cell_type": "code",
   "execution_count": 3087,
   "metadata": {},
   "outputs": [
    {
     "data": {
      "text/plain": [
       "NaN    14374\n",
       "Name: wageRecievedCOVID, dtype: int64"
      ]
     },
     "execution_count": 3087,
     "metadata": {},
     "output_type": "execute_result"
    }
   ],
   "source": [
    "df[df['employmentType']=='Jobless']['wageRecievedCOVID'].value_counts(dropna=False)"
   ]
  },
  {
   "cell_type": "code",
   "execution_count": 3088,
   "metadata": {},
   "outputs": [],
   "source": [
    "#Imputation of \"wageRecievedCOVID\" with 'Not eligible or wages' where \"employmentType\" is 'Jobless'\n",
    "\n",
    "df.loc[df['employmentType']=='Jobless','wageRecievedCOVID']='Not eligible or wages'"
   ]
  },
  {
   "cell_type": "code",
   "execution_count": 3089,
   "metadata": {},
   "outputs": [
    {
     "data": {
      "text/plain": [
       "Not eligible or wages        14374\n",
       "NaN                            701\n",
       "Did not request for wages      460\n",
       "Full                           350\n",
       "No                             101\n",
       "Partial - amount in INR         14\n",
       "Name: wageRecievedCOVID, dtype: int64"
      ]
     },
     "execution_count": 3089,
     "metadata": {},
     "output_type": "execute_result"
    }
   ],
   "source": [
    "df['wageRecievedCOVID'].value_counts(dropna=False)"
   ]
  },
  {
   "cell_type": "code",
   "execution_count": 3090,
   "metadata": {},
   "outputs": [],
   "source": [
    "#Imputation of \"wageRecievedCOVID\"(Rest)\n",
    "\n",
    "df['wageRecievedCOVID']=df['wageRecievedCOVID'].fillna(pd.Series(np.random.choice\n",
    "                                                         (['Did not request for wages','Full','No','Partial - amount in INR'], \n",
    "                                                      p=[0.51, 0.37,0.10,0.02], size=len(df))))"
   ]
  },
  {
   "cell_type": "markdown",
   "metadata": {},
   "source": [
    "#### “wageRecievedCOVID”- Impute with ’Not eligible for wages’ where  “employmentType” is’Jobless. In rest, Imputed null values with other values presented in column according to their probabilities in normalized column."
   ]
  },
  {
   "cell_type": "code",
   "execution_count": 3091,
   "metadata": {},
   "outputs": [
    {
     "data": {
      "text/plain": [
       "Not eligible or wages        14374\n",
       "Did not request for wages      820\n",
       "Full                           611\n",
       "No                             167\n",
       "Partial - amount in INR         28\n",
       "Name: wageRecievedCOVID, dtype: int64"
      ]
     },
     "execution_count": 3091,
     "metadata": {},
     "output_type": "execute_result"
    }
   ],
   "source": [
    "df['wageRecievedCOVID'].value_counts(dropna=False)"
   ]
  },
  {
   "cell_type": "code",
   "execution_count": 3092,
   "metadata": {},
   "outputs": [
    {
     "data": {
      "text/plain": [
       "0.0    15851\n",
       "0         70\n",
       "NaN       47\n",
       "1.0       32\n",
       "Name: scholarshipAvailed, dtype: int64"
      ]
     },
     "execution_count": 3092,
     "metadata": {},
     "output_type": "execute_result"
    }
   ],
   "source": [
    "#Value counts of \"scholarshipAvailed\"\n",
    "\n",
    "df['scholarshipAvailed'].value_counts(dropna=False)"
   ]
  },
  {
   "cell_type": "markdown",
   "metadata": {},
   "source": [
    "#### \"scholarshipAvailed\" has only 47 NaN values left"
   ]
  },
  {
   "cell_type": "markdown",
   "metadata": {},
   "source": [
    "## New Feature Creation"
   ]
  },
  {
   "cell_type": "code",
   "execution_count": 3093,
   "metadata": {},
   "outputs": [],
   "source": [
    "#Created new column and fill it with Nan values\n",
    "\n",
    "df['Gender']=np.nan"
   ]
  },
  {
   "cell_type": "code",
   "execution_count": 3094,
   "metadata": {},
   "outputs": [],
   "source": [
    "dic=df['relWithHeadOfFamily'].value_counts(dropna=False).to_dict()"
   ]
  },
  {
   "cell_type": "code",
   "execution_count": 3095,
   "metadata": {},
   "outputs": [
    {
     "data": {
      "text/plain": [
       "dict_keys(['Self', 'बहु', 'पत्नी', 'पुत्र', 'पति', 'पुत्री', 'माता', 'पिता', 'सास', 'Husband', 'भाई', 'ससुर', 'Father', 'Grandson', 'Wife', 'बहन', 'Half-sibling', 'चाचा', 'पोता', 'Son', 'Mother', 'पोती', 'भांजी', 'दादी', 'Daughter', 'नतिनी', '--- चुनिए ---', 'Grandmother'])"
      ]
     },
     "execution_count": 3095,
     "metadata": {},
     "output_type": "execute_result"
    }
   ],
   "source": [
    "dic.keys()"
   ]
  },
  {
   "cell_type": "code",
   "execution_count": 3096,
   "metadata": {},
   "outputs": [],
   "source": [
    "#Creating two Lists-one formale and another one for female\n",
    "\n",
    "lis=['Self', 'बहु', 'पत्नी', 'पुत्र', 'पति', 'पुत्री', 'माता', 'पिता', 'सास', 'Husband', 'भाई', 'ससुर', 'Father', 'Wife', 'Grandson', 'Half-sibling', 'बहन', 'चाचा', 'Son', 'पोता', 'पोती', 'Mother', \n",
    " 'Grandmother', 'दादी', 'नतिनी', '--- चुनिए ---', 'भांजी', 'Daughter']\n",
    "\n",
    "lis1=['बहु', 'पत्नी','पुत्री', 'माता', 'सास',  'Wife', 'बहन', 'पोती', 'Mother', 'Grandmother', 'दादी', 'नतिनी', 'भांजी', 'Daughter']\n",
    "\n",
    "lis2=[]\n",
    "for i in lis :\n",
    "    if i not in lis1 and i!='Self':\n",
    "        lis2.append(i)"
   ]
  },
  {
   "cell_type": "code",
   "execution_count": 3097,
   "metadata": {},
   "outputs": [
    {
     "data": {
      "text/plain": [
       "['पुत्र',\n",
       " 'पति',\n",
       " 'पिता',\n",
       " 'Husband',\n",
       " 'भाई',\n",
       " 'ससुर',\n",
       " 'Father',\n",
       " 'Grandson',\n",
       " 'Half-sibling',\n",
       " 'चाचा',\n",
       " 'Son',\n",
       " 'पोता',\n",
       " '--- चुनिए ---']"
      ]
     },
     "execution_count": 3097,
     "metadata": {},
     "output_type": "execute_result"
    }
   ],
   "source": [
    "lis2"
   ]
  },
  {
   "cell_type": "code",
   "execution_count": 3098,
   "metadata": {},
   "outputs": [],
   "source": [
    "#Imputing \"Gender\" with 'Male' where value is in list2\n",
    "\n",
    "df.loc[df['relWithHeadOfFamily'].isin(lis2),'Gender']='Male'"
   ]
  },
  {
   "cell_type": "code",
   "execution_count": 3099,
   "metadata": {},
   "outputs": [],
   "source": [
    "#Imputing \"Gender\" with 'Female' where value is in list1\n",
    "\n",
    "df.loc[df['relWithHeadOfFamily'].isin(lis1),'Gender']='Female'"
   ]
  },
  {
   "cell_type": "code",
   "execution_count": 3100,
   "metadata": {},
   "outputs": [
    {
     "data": {
      "text/plain": [
       "NaN       0.910250\n",
       "Female    0.054875\n",
       "Male      0.034875\n",
       "Name: Gender, dtype: float64"
      ]
     },
     "execution_count": 3100,
     "metadata": {},
     "output_type": "execute_result"
    }
   ],
   "source": [
    "df['Gender'].value_counts(normalize=True,dropna=False)"
   ]
  },
  {
   "cell_type": "code",
   "execution_count": 3101,
   "metadata": {},
   "outputs": [
    {
     "data": {
      "text/plain": [
       "Female    0.611421\n",
       "Male      0.388579\n",
       "Name: Gender, dtype: float64"
      ]
     },
     "execution_count": 3101,
     "metadata": {},
     "output_type": "execute_result"
    }
   ],
   "source": [
    "df['Gender'].value_counts(normalize=True)"
   ]
  },
  {
   "cell_type": "code",
   "execution_count": 3102,
   "metadata": {},
   "outputs": [],
   "source": [
    "#Imputing the rest of \"Gender\" null values.\n",
    "\n",
    "df['Gender'] = df['Gender'].fillna(pd.Series(np.random.choice\n",
    "                                                         (['Female', 'Male'], \n",
    "                                                      p=[0.62, 0.38], size=len(df))))"
   ]
  },
  {
   "cell_type": "code",
   "execution_count": 3103,
   "metadata": {},
   "outputs": [
    {
     "data": {
      "text/plain": [
       "Female    9945\n",
       "Male      6055\n",
       "Name: Gender, dtype: int64"
      ]
     },
     "execution_count": 3103,
     "metadata": {},
     "output_type": "execute_result"
    }
   ],
   "source": [
    "#Final \"Gender\" value counts\n",
    "\n",
    "df['Gender'].value_counts(dropna=False)"
   ]
  },
  {
   "cell_type": "markdown",
   "metadata": {},
   "source": [
    "## Drop Tables"
   ]
  },
  {
   "cell_type": "code",
   "execution_count": 3104,
   "metadata": {},
   "outputs": [
    {
     "data": {
      "text/plain": [
       "scholarshipAvailed           0.29\n",
       "age                          0.00\n",
       "pincode                      0.00\n",
       "hasAdhar                     0.00\n",
       "literacy                     0.00\n",
       "hasEnrolledAdultLiteracy     0.00\n",
       "eduType                      0.00\n",
       "eduInformal                  0.00\n",
       "statusFormalEdu              0.00\n",
       "eduOther                    99.55\n",
       "typeOfSchool                 0.00\n",
       "noScholarshipReason         99.86\n",
       "eduTransport                 0.00\n",
       "isHeadOfFamily               0.00\n",
       "genderHeadOfFamily           0.00\n",
       "relWithHeadOfFamily          0.00\n",
       "hasPDS                       0.00\n",
       "hasSECC                      0.00\n",
       "hasAyushmanBharat            0.00\n",
       "hasLand                      0.00\n",
       "reasonLandless               0.00\n",
       "hasHealthCert                0.00\n",
       "employmentType               0.00\n",
       "isWageEarner                 0.00\n",
       "isSHGMember                  0.00\n",
       "isCooperativeMember         90.19\n",
       "isFPOMember                 90.19\n",
       "noGroup                      0.00\n",
       "wageRecievedCOVID            0.00\n",
       "liveLostCOVID               99.78\n",
       "disabledCOVID               99.78\n",
       "illnessCOVID                99.78\n",
       "injuryCOVID                 99.78\n",
       "movablePropLostCOVID        99.78\n",
       "immovablePropLostCOVID      99.78\n",
       "interestedCertProgram        0.00\n",
       "vocationCategory            99.99\n",
       "age_bins                     0.79\n",
       "Gender                       0.00\n",
       "dtype: float64"
      ]
     },
     "execution_count": 3104,
     "metadata": {},
     "output_type": "execute_result"
    }
   ],
   "source": [
    "round((df.isnull().sum()/df.shape[0])*100,2)"
   ]
  },
  {
   "cell_type": "code",
   "execution_count": 3105,
   "metadata": {},
   "outputs": [],
   "source": [
    "x=[]\n",
    "for i in df.columns:\n",
    "    if round((df[i].isnull().sum()/df.shape[0])*100,2)>1:\n",
    "        x.append(i)"
   ]
  },
  {
   "cell_type": "code",
   "execution_count": 3106,
   "metadata": {},
   "outputs": [
    {
     "data": {
      "text/plain": [
       "['eduOther',\n",
       " 'noScholarshipReason',\n",
       " 'isCooperativeMember',\n",
       " 'isFPOMember',\n",
       " 'liveLostCOVID',\n",
       " 'disabledCOVID',\n",
       " 'illnessCOVID',\n",
       " 'injuryCOVID',\n",
       " 'movablePropLostCOVID',\n",
       " 'immovablePropLostCOVID',\n",
       " 'vocationCategory']"
      ]
     },
     "execution_count": 3106,
     "metadata": {},
     "output_type": "execute_result"
    }
   ],
   "source": [
    "x"
   ]
  },
  {
   "cell_type": "code",
   "execution_count": 3107,
   "metadata": {},
   "outputs": [],
   "source": [
    "#Droping all columns present in list 'x'\n",
    "\n",
    "df.drop(x,axis=1,inplace=True)"
   ]
  },
  {
   "cell_type": "code",
   "execution_count": 3108,
   "metadata": {},
   "outputs": [],
   "source": [
    "#Dropping \"pincode\" and \"relWithHeadOfFamily\"\n",
    "\n",
    "df.drop(['pincode','relWithHeadOfFamily'],axis=1,inplace=True)"
   ]
  },
  {
   "cell_type": "markdown",
   "metadata": {},
   "source": [
    "#### Deleted 13 columns in total."
   ]
  },
  {
   "cell_type": "code",
   "execution_count": 3109,
   "metadata": {},
   "outputs": [
    {
     "data": {
      "text/plain": [
       "scholarshipAvailed          0.29\n",
       "age                         0.00\n",
       "hasAdhar                    0.00\n",
       "literacy                    0.00\n",
       "hasEnrolledAdultLiteracy    0.00\n",
       "eduType                     0.00\n",
       "eduInformal                 0.00\n",
       "statusFormalEdu             0.00\n",
       "typeOfSchool                0.00\n",
       "eduTransport                0.00\n",
       "isHeadOfFamily              0.00\n",
       "genderHeadOfFamily          0.00\n",
       "hasPDS                      0.00\n",
       "hasSECC                     0.00\n",
       "hasAyushmanBharat           0.00\n",
       "hasLand                     0.00\n",
       "reasonLandless              0.00\n",
       "hasHealthCert               0.00\n",
       "employmentType              0.00\n",
       "isWageEarner                0.00\n",
       "isSHGMember                 0.00\n",
       "noGroup                     0.00\n",
       "wageRecievedCOVID           0.00\n",
       "interestedCertProgram       0.00\n",
       "age_bins                    0.79\n",
       "Gender                      0.00\n",
       "dtype: float64"
      ]
     },
     "execution_count": 3109,
     "metadata": {},
     "output_type": "execute_result"
    }
   ],
   "source": [
    "round((df.isnull().sum()/df.shape[0])*100,2)"
   ]
  },
  {
   "cell_type": "code",
   "execution_count": 3110,
   "metadata": {},
   "outputs": [
    {
     "data": {
      "text/plain": [
       "(16000, 26)"
      ]
     },
     "execution_count": 3110,
     "metadata": {},
     "output_type": "execute_result"
    }
   ],
   "source": [
    "df.shape"
   ]
  },
  {
   "cell_type": "code",
   "execution_count": 3111,
   "metadata": {},
   "outputs": [],
   "source": [
    "#Deleting all rows with null values\n",
    "\n",
    "df=df.loc[df.isnull().sum(axis=1)/len(df.index)*100==0]"
   ]
  },
  {
   "cell_type": "code",
   "execution_count": 3112,
   "metadata": {},
   "outputs": [],
   "source": [
    "#Changing datatype of \"scholarshipAvailed\" to int.\n",
    "\n",
    "df = df.astype({\"scholarshipAvailed\": int})"
   ]
  },
  {
   "cell_type": "code",
   "execution_count": 3113,
   "metadata": {},
   "outputs": [
    {
     "data": {
      "text/plain": [
       "(15832, 26)"
      ]
     },
     "execution_count": 3113,
     "metadata": {},
     "output_type": "execute_result"
    }
   ],
   "source": [
    "df.shape"
   ]
  },
  {
   "cell_type": "code",
   "execution_count": 3114,
   "metadata": {},
   "outputs": [
    {
     "data": {
      "text/plain": [
       "scholarshipAvailed          0.0\n",
       "age                         0.0\n",
       "hasAdhar                    0.0\n",
       "literacy                    0.0\n",
       "hasEnrolledAdultLiteracy    0.0\n",
       "eduType                     0.0\n",
       "eduInformal                 0.0\n",
       "statusFormalEdu             0.0\n",
       "typeOfSchool                0.0\n",
       "eduTransport                0.0\n",
       "isHeadOfFamily              0.0\n",
       "genderHeadOfFamily          0.0\n",
       "hasPDS                      0.0\n",
       "hasSECC                     0.0\n",
       "hasAyushmanBharat           0.0\n",
       "hasLand                     0.0\n",
       "reasonLandless              0.0\n",
       "hasHealthCert               0.0\n",
       "employmentType              0.0\n",
       "isWageEarner                0.0\n",
       "isSHGMember                 0.0\n",
       "noGroup                     0.0\n",
       "wageRecievedCOVID           0.0\n",
       "interestedCertProgram       0.0\n",
       "age_bins                    0.0\n",
       "Gender                      0.0\n",
       "dtype: float64"
      ]
     },
     "execution_count": 3114,
     "metadata": {},
     "output_type": "execute_result"
    }
   ],
   "source": [
    "round((df.isnull().sum()/df.shape[0])*100,2)"
   ]
  },
  {
   "cell_type": "code",
   "execution_count": 3115,
   "metadata": {},
   "outputs": [
    {
     "name": "stdout",
     "output_type": "stream",
     "text": [
      "<class 'pandas.core.frame.DataFrame'>\n",
      "Int64Index: 15832 entries, 0 to 15999\n",
      "Data columns (total 26 columns):\n",
      " #   Column                    Non-Null Count  Dtype   \n",
      "---  ------                    --------------  -----   \n",
      " 0   scholarshipAvailed        15832 non-null  int32   \n",
      " 1   age                       15832 non-null  int64   \n",
      " 2   hasAdhar                  15832 non-null  object  \n",
      " 3   literacy                  15832 non-null  object  \n",
      " 4   hasEnrolledAdultLiteracy  15832 non-null  object  \n",
      " 5   eduType                   15832 non-null  object  \n",
      " 6   eduInformal               15832 non-null  object  \n",
      " 7   statusFormalEdu           15832 non-null  object  \n",
      " 8   typeOfSchool              15832 non-null  object  \n",
      " 9   eduTransport              15832 non-null  object  \n",
      " 10  isHeadOfFamily            15832 non-null  object  \n",
      " 11  genderHeadOfFamily        15832 non-null  object  \n",
      " 12  hasPDS                    15832 non-null  object  \n",
      " 13  hasSECC                   15832 non-null  object  \n",
      " 14  hasAyushmanBharat         15832 non-null  object  \n",
      " 15  hasLand                   15832 non-null  object  \n",
      " 16  reasonLandless            15832 non-null  object  \n",
      " 17  hasHealthCert             15832 non-null  object  \n",
      " 18  employmentType            15832 non-null  object  \n",
      " 19  isWageEarner              15832 non-null  object  \n",
      " 20  isSHGMember               15832 non-null  object  \n",
      " 21  noGroup                   15832 non-null  object  \n",
      " 22  wageRecievedCOVID         15832 non-null  object  \n",
      " 23  interestedCertProgram     15832 non-null  object  \n",
      " 24  age_bins                  15832 non-null  category\n",
      " 25  Gender                    15832 non-null  object  \n",
      "dtypes: category(1), int32(1), int64(1), object(23)\n",
      "memory usage: 3.1+ MB\n"
     ]
    }
   ],
   "source": [
    "df.info()"
   ]
  },
  {
   "cell_type": "markdown",
   "metadata": {},
   "source": [
    "## Outlier Detection"
   ]
  },
  {
   "cell_type": "code",
   "execution_count": 3116,
   "metadata": {},
   "outputs": [
    {
     "data": {
      "text/plain": [
       "<matplotlib.axes._subplots.AxesSubplot at 0x2a002743278>"
      ]
     },
     "execution_count": 3116,
     "metadata": {},
     "output_type": "execute_result"
    },
    {
     "data": {
      "image/png": "[encoded data removed]",
      "text/plain": [
       "<Figure size 432x288 with 1 Axes>"
      ]
     },
     "metadata": {
      "needs_background": "light"
     },
     "output_type": "display_data"
    }
   ],
   "source": [
    "sns.boxplot(x=df['literacy'],y=df['age'],palette=(\"cubehelix\"))"
   ]
  },
  {
   "cell_type": "code",
   "execution_count": 3117,
   "metadata": {},
   "outputs": [
    {
     "data": {
      "text/html": [
       "<div>\n",
       "<style scoped>\n",
       "    .dataframe tbody tr th:only-of-type {\n",
       "        vertical-align: middle;\n",
       "    }\n",
       "\n",
       "    .dataframe tbody tr th {\n",
       "        vertical-align: top;\n",
       "    }\n",
       "\n",
       "    .dataframe thead th {\n",
       "        text-align: right;\n",
       "    }\n",
       "</style>\n",
       "<table border=\"1\" class=\"dataframe\">\n",
       "  <thead>\n",
       "    <tr style=\"text-align: right;\">\n",
       "      <th></th>\n",
       "      <th>scholarshipAvailed</th>\n",
       "      <th>age</th>\n",
       "    </tr>\n",
       "  </thead>\n",
       "  <tbody>\n",
       "    <tr>\n",
       "      <th>count</th>\n",
       "      <td>15832.000000</td>\n",
       "      <td>15832.000000</td>\n",
       "    </tr>\n",
       "    <tr>\n",
       "      <th>mean</th>\n",
       "      <td>0.002021</td>\n",
       "      <td>40.596198</td>\n",
       "    </tr>\n",
       "    <tr>\n",
       "      <th>std</th>\n",
       "      <td>0.044914</td>\n",
       "      <td>12.755494</td>\n",
       "    </tr>\n",
       "    <tr>\n",
       "      <th>min</th>\n",
       "      <td>0.000000</td>\n",
       "      <td>6.000000</td>\n",
       "    </tr>\n",
       "    <tr>\n",
       "      <th>25%</th>\n",
       "      <td>0.000000</td>\n",
       "      <td>31.000000</td>\n",
       "    </tr>\n",
       "    <tr>\n",
       "      <th>50%</th>\n",
       "      <td>0.000000</td>\n",
       "      <td>39.000000</td>\n",
       "    </tr>\n",
       "    <tr>\n",
       "      <th>75%</th>\n",
       "      <td>0.000000</td>\n",
       "      <td>49.000000</td>\n",
       "    </tr>\n",
       "    <tr>\n",
       "      <th>max</th>\n",
       "      <td>1.000000</td>\n",
       "      <td>85.000000</td>\n",
       "    </tr>\n",
       "  </tbody>\n",
       "</table>\n",
       "</div>"
      ],
      "text/plain": [
       "       scholarshipAvailed           age\n",
       "count        15832.000000  15832.000000\n",
       "mean             0.002021     40.596198\n",
       "std              0.044914     12.755494\n",
       "min              0.000000      6.000000\n",
       "25%              0.000000     31.000000\n",
       "50%              0.000000     39.000000\n",
       "75%              0.000000     49.000000\n",
       "max              1.000000     85.000000"
      ]
     },
     "execution_count": 3117,
     "metadata": {},
     "output_type": "execute_result"
    }
   ],
   "source": [
    "df.describe()"
   ]
  },
  {
   "cell_type": "code",
   "execution_count": 3118,
   "metadata": {},
   "outputs": [],
   "source": [
    "df=df[(df['age']>=5) & (df['age']<=80)]\n",
    "#df['age'].value_counts()"
   ]
  },
  {
   "cell_type": "markdown",
   "metadata": {},
   "source": [
    "#### Deleted outliers from ‘Age’ column. Considered age between 5 and 80."
   ]
  },
  {
   "cell_type": "code",
   "execution_count": 3119,
   "metadata": {},
   "outputs": [
    {
     "data": {
      "text/plain": [
       "<matplotlib.axes._subplots.AxesSubplot at 0x2a0040e1fd0>"
      ]
     },
     "execution_count": 3119,
     "metadata": {},
     "output_type": "execute_result"
    },
    {
     "data": {
      "image/png": "[encoded data removed]",
      "text/plain": [
       "<Figure size 432x288 with 1 Axes>"
      ]
     },
     "metadata": {
      "needs_background": "light"
     },
     "output_type": "display_data"
    }
   ],
   "source": [
    "sns.boxplot(x=df['literacy'],y=df['age'],palette=(\"cubehelix\"))"
   ]
  },
  {
   "cell_type": "code",
   "execution_count": 3120,
   "metadata": {},
   "outputs": [
    {
     "data": {
      "text/plain": [
       "0        0\n",
       "1        0\n",
       "2        0\n",
       "3        0\n",
       "4        0\n",
       "        ..\n",
       "15995    0\n",
       "15996    0\n",
       "15997    0\n",
       "15998    0\n",
       "15999    0\n",
       "Name: scholarshipAvailed, Length: 15798, dtype: int32"
      ]
     },
     "execution_count": 3120,
     "metadata": {},
     "output_type": "execute_result"
    }
   ],
   "source": [
    "#Seperating value of Target variable from dataframe and saving it to 'y'.\n",
    "\n",
    "y=df.pop('scholarshipAvailed')\n",
    "y"
   ]
  },
  {
   "cell_type": "markdown",
   "metadata": {},
   "source": [
    "## Dummy Variables"
   ]
  },
  {
   "cell_type": "code",
   "execution_count": 3121,
   "metadata": {},
   "outputs": [
    {
     "name": "stdout",
     "output_type": "stream",
     "text": [
      "<class 'pandas.core.frame.DataFrame'>\n",
      "Int64Index: 15798 entries, 0 to 15999\n",
      "Data columns (total 25 columns):\n",
      " #   Column                    Non-Null Count  Dtype   \n",
      "---  ------                    --------------  -----   \n",
      " 0   age                       15798 non-null  int64   \n",
      " 1   hasAdhar                  15798 non-null  object  \n",
      " 2   literacy                  15798 non-null  object  \n",
      " 3   hasEnrolledAdultLiteracy  15798 non-null  object  \n",
      " 4   eduType                   15798 non-null  object  \n",
      " 5   eduInformal               15798 non-null  object  \n",
      " 6   statusFormalEdu           15798 non-null  object  \n",
      " 7   typeOfSchool              15798 non-null  object  \n",
      " 8   eduTransport              15798 non-null  object  \n",
      " 9   isHeadOfFamily            15798 non-null  object  \n",
      " 10  genderHeadOfFamily        15798 non-null  object  \n",
      " 11  hasPDS                    15798 non-null  object  \n",
      " 12  hasSECC                   15798 non-null  object  \n",
      " 13  hasAyushmanBharat         15798 non-null  object  \n",
      " 14  hasLand                   15798 non-null  object  \n",
      " 15  reasonLandless            15798 non-null  object  \n",
      " 16  hasHealthCert             15798 non-null  object  \n",
      " 17  employmentType            15798 non-null  object  \n",
      " 18  isWageEarner              15798 non-null  object  \n",
      " 19  isSHGMember               15798 non-null  object  \n",
      " 20  noGroup                   15798 non-null  object  \n",
      " 21  wageRecievedCOVID         15798 non-null  object  \n",
      " 22  interestedCertProgram     15798 non-null  object  \n",
      " 23  age_bins                  15798 non-null  category\n",
      " 24  Gender                    15798 non-null  object  \n",
      "dtypes: category(1), int64(1), object(23)\n",
      "memory usage: 3.5+ MB\n"
     ]
    }
   ],
   "source": [
    "df.info()"
   ]
  },
  {
   "cell_type": "code",
   "execution_count": 3122,
   "metadata": {},
   "outputs": [
    {
     "data": {
      "text/plain": [
       "Index(['hasAdhar', 'literacy', 'hasEnrolledAdultLiteracy', 'eduType',\n",
       "       'eduInformal', 'statusFormalEdu', 'typeOfSchool', 'eduTransport',\n",
       "       'isHeadOfFamily', 'genderHeadOfFamily', 'hasPDS', 'hasSECC',\n",
       "       'hasAyushmanBharat', 'hasLand', 'reasonLandless', 'hasHealthCert',\n",
       "       'employmentType', 'isWageEarner', 'isSHGMember', 'noGroup',\n",
       "       'wageRecievedCOVID', 'interestedCertProgram', 'Gender'],\n",
       "      dtype='object')"
      ]
     },
     "execution_count": 3122,
     "metadata": {},
     "output_type": "execute_result"
    }
   ],
   "source": [
    "col=df.select_dtypes(include=['object'])\n",
    "lst1=col.columns\n",
    "lst1"
   ]
  },
  {
   "cell_type": "code",
   "execution_count": 3123,
   "metadata": {},
   "outputs": [],
   "source": [
    "dummy1=pd.get_dummies(df[lst1])"
   ]
  },
  {
   "cell_type": "code",
   "execution_count": 3124,
   "metadata": {},
   "outputs": [
    {
     "data": {
      "text/plain": [
       "(15798, 60)"
      ]
     },
     "execution_count": 3124,
     "metadata": {},
     "output_type": "execute_result"
    }
   ],
   "source": [
    "dummy1.shape"
   ]
  },
  {
   "cell_type": "code",
   "execution_count": 3125,
   "metadata": {},
   "outputs": [],
   "source": [
    "dummy1['age']=df['age']"
   ]
  },
  {
   "cell_type": "code",
   "execution_count": 3126,
   "metadata": {},
   "outputs": [
    {
     "data": {
      "text/html": [
       "<div>\n",
       "<style scoped>\n",
       "    .dataframe tbody tr th:only-of-type {\n",
       "        vertical-align: middle;\n",
       "    }\n",
       "\n",
       "    .dataframe tbody tr th {\n",
       "        vertical-align: top;\n",
       "    }\n",
       "\n",
       "    .dataframe thead th {\n",
       "        text-align: right;\n",
       "    }\n",
       "</style>\n",
       "<table border=\"1\" class=\"dataframe\">\n",
       "  <thead>\n",
       "    <tr style=\"text-align: right;\">\n",
       "      <th></th>\n",
       "      <th>hasAdhar_No</th>\n",
       "      <th>hasAdhar_Yes</th>\n",
       "      <th>literacy_Illiterate</th>\n",
       "      <th>literacy_Literate</th>\n",
       "      <th>hasEnrolledAdultLiteracy_No</th>\n",
       "      <th>hasEnrolledAdultLiteracy_Yes</th>\n",
       "      <th>eduType_Formal</th>\n",
       "      <th>eduType_Informal</th>\n",
       "      <th>eduType_No_education</th>\n",
       "      <th>eduInformal_Adult literacy</th>\n",
       "      <th>eduInformal_Not Taken</th>\n",
       "      <th>eduInformal_Others</th>\n",
       "      <th>statusFormalEdu_Continuing</th>\n",
       "      <th>statusFormalEdu_Dropout</th>\n",
       "      <th>statusFormalEdu_Finished Education</th>\n",
       "      <th>statusFormalEdu_No education</th>\n",
       "      <th>typeOfSchool_Government</th>\n",
       "      <th>typeOfSchool_No School</th>\n",
       "      <th>typeOfSchool_Private</th>\n",
       "      <th>eduTransport_No School</th>\n",
       "      <th>eduTransport_Private Transport</th>\n",
       "      <th>eduTransport_Public Transport</th>\n",
       "      <th>eduTransport_Walking</th>\n",
       "      <th>isHeadOfFamily_No</th>\n",
       "      <th>isHeadOfFamily_Yes</th>\n",
       "      <th>genderHeadOfFamily_Female</th>\n",
       "      <th>genderHeadOfFamily_Male</th>\n",
       "      <th>genderHeadOfFamily_Others</th>\n",
       "      <th>hasPDS_No</th>\n",
       "      <th>hasPDS_Yes</th>\n",
       "      <th>hasSECC_No</th>\n",
       "      <th>hasSECC_Yes</th>\n",
       "      <th>hasAyushmanBharat_No</th>\n",
       "      <th>hasAyushmanBharat_Yes</th>\n",
       "      <th>hasLand_No</th>\n",
       "      <th>hasLand_Yes</th>\n",
       "      <th>reasonLandless_Displaced</th>\n",
       "      <th>reasonLandless_No hereditary ownership</th>\n",
       "      <th>reasonLandless_Others</th>\n",
       "      <th>reasonLandless_Sold out of distress</th>\n",
       "      <th>hasHealthCert_No</th>\n",
       "      <th>hasHealthCert_Yes</th>\n",
       "      <th>employmentType_Jobless</th>\n",
       "      <th>employmentType_Salaried</th>\n",
       "      <th>employmentType_Self Employed</th>\n",
       "      <th>isWageEarner_No</th>\n",
       "      <th>isWageEarner_Yes</th>\n",
       "      <th>isSHGMember_No</th>\n",
       "      <th>isSHGMember_Yes</th>\n",
       "      <th>noGroup_No</th>\n",
       "      <th>noGroup_Yes</th>\n",
       "      <th>wageRecievedCOVID_Did not request for wages</th>\n",
       "      <th>wageRecievedCOVID_Full</th>\n",
       "      <th>wageRecievedCOVID_No</th>\n",
       "      <th>wageRecievedCOVID_Not eligible or wages</th>\n",
       "      <th>wageRecievedCOVID_Partial - amount in INR</th>\n",
       "      <th>interestedCertProgram_No</th>\n",
       "      <th>interestedCertProgram_Yes</th>\n",
       "      <th>Gender_Female</th>\n",
       "      <th>Gender_Male</th>\n",
       "      <th>age</th>\n",
       "    </tr>\n",
       "  </thead>\n",
       "  <tbody>\n",
       "    <tr>\n",
       "      <th>0</th>\n",
       "      <td>0</td>\n",
       "      <td>1</td>\n",
       "      <td>0</td>\n",
       "      <td>1</td>\n",
       "      <td>1</td>\n",
       "      <td>0</td>\n",
       "      <td>1</td>\n",
       "      <td>0</td>\n",
       "      <td>0</td>\n",
       "      <td>0</td>\n",
       "      <td>1</td>\n",
       "      <td>0</td>\n",
       "      <td>1</td>\n",
       "      <td>0</td>\n",
       "      <td>0</td>\n",
       "      <td>0</td>\n",
       "      <td>0</td>\n",
       "      <td>0</td>\n",
       "      <td>1</td>\n",
       "      <td>0</td>\n",
       "      <td>0</td>\n",
       "      <td>0</td>\n",
       "      <td>1</td>\n",
       "      <td>0</td>\n",
       "      <td>1</td>\n",
       "      <td>1</td>\n",
       "      <td>0</td>\n",
       "      <td>0</td>\n",
       "      <td>1</td>\n",
       "      <td>0</td>\n",
       "      <td>1</td>\n",
       "      <td>0</td>\n",
       "      <td>1</td>\n",
       "      <td>0</td>\n",
       "      <td>0</td>\n",
       "      <td>1</td>\n",
       "      <td>0</td>\n",
       "      <td>1</td>\n",
       "      <td>0</td>\n",
       "      <td>0</td>\n",
       "      <td>1</td>\n",
       "      <td>0</td>\n",
       "      <td>1</td>\n",
       "      <td>0</td>\n",
       "      <td>0</td>\n",
       "      <td>1</td>\n",
       "      <td>0</td>\n",
       "      <td>1</td>\n",
       "      <td>0</td>\n",
       "      <td>0</td>\n",
       "      <td>1</td>\n",
       "      <td>0</td>\n",
       "      <td>0</td>\n",
       "      <td>0</td>\n",
       "      <td>1</td>\n",
       "      <td>0</td>\n",
       "      <td>1</td>\n",
       "      <td>0</td>\n",
       "      <td>1</td>\n",
       "      <td>0</td>\n",
       "      <td>28</td>\n",
       "    </tr>\n",
       "    <tr>\n",
       "      <th>1</th>\n",
       "      <td>0</td>\n",
       "      <td>1</td>\n",
       "      <td>0</td>\n",
       "      <td>1</td>\n",
       "      <td>1</td>\n",
       "      <td>0</td>\n",
       "      <td>1</td>\n",
       "      <td>0</td>\n",
       "      <td>0</td>\n",
       "      <td>0</td>\n",
       "      <td>1</td>\n",
       "      <td>0</td>\n",
       "      <td>1</td>\n",
       "      <td>0</td>\n",
       "      <td>0</td>\n",
       "      <td>0</td>\n",
       "      <td>0</td>\n",
       "      <td>0</td>\n",
       "      <td>1</td>\n",
       "      <td>0</td>\n",
       "      <td>0</td>\n",
       "      <td>0</td>\n",
       "      <td>1</td>\n",
       "      <td>0</td>\n",
       "      <td>1</td>\n",
       "      <td>0</td>\n",
       "      <td>0</td>\n",
       "      <td>1</td>\n",
       "      <td>1</td>\n",
       "      <td>0</td>\n",
       "      <td>1</td>\n",
       "      <td>0</td>\n",
       "      <td>1</td>\n",
       "      <td>0</td>\n",
       "      <td>0</td>\n",
       "      <td>1</td>\n",
       "      <td>0</td>\n",
       "      <td>1</td>\n",
       "      <td>0</td>\n",
       "      <td>0</td>\n",
       "      <td>1</td>\n",
       "      <td>0</td>\n",
       "      <td>1</td>\n",
       "      <td>0</td>\n",
       "      <td>0</td>\n",
       "      <td>1</td>\n",
       "      <td>0</td>\n",
       "      <td>1</td>\n",
       "      <td>0</td>\n",
       "      <td>1</td>\n",
       "      <td>0</td>\n",
       "      <td>0</td>\n",
       "      <td>0</td>\n",
       "      <td>0</td>\n",
       "      <td>1</td>\n",
       "      <td>0</td>\n",
       "      <td>1</td>\n",
       "      <td>0</td>\n",
       "      <td>1</td>\n",
       "      <td>0</td>\n",
       "      <td>28</td>\n",
       "    </tr>\n",
       "    <tr>\n",
       "      <th>2</th>\n",
       "      <td>0</td>\n",
       "      <td>1</td>\n",
       "      <td>0</td>\n",
       "      <td>1</td>\n",
       "      <td>1</td>\n",
       "      <td>0</td>\n",
       "      <td>1</td>\n",
       "      <td>0</td>\n",
       "      <td>0</td>\n",
       "      <td>0</td>\n",
       "      <td>1</td>\n",
       "      <td>0</td>\n",
       "      <td>1</td>\n",
       "      <td>0</td>\n",
       "      <td>0</td>\n",
       "      <td>0</td>\n",
       "      <td>0</td>\n",
       "      <td>0</td>\n",
       "      <td>1</td>\n",
       "      <td>0</td>\n",
       "      <td>0</td>\n",
       "      <td>0</td>\n",
       "      <td>1</td>\n",
       "      <td>0</td>\n",
       "      <td>1</td>\n",
       "      <td>0</td>\n",
       "      <td>1</td>\n",
       "      <td>0</td>\n",
       "      <td>1</td>\n",
       "      <td>0</td>\n",
       "      <td>1</td>\n",
       "      <td>0</td>\n",
       "      <td>1</td>\n",
       "      <td>0</td>\n",
       "      <td>0</td>\n",
       "      <td>1</td>\n",
       "      <td>0</td>\n",
       "      <td>1</td>\n",
       "      <td>0</td>\n",
       "      <td>0</td>\n",
       "      <td>1</td>\n",
       "      <td>0</td>\n",
       "      <td>1</td>\n",
       "      <td>0</td>\n",
       "      <td>0</td>\n",
       "      <td>1</td>\n",
       "      <td>0</td>\n",
       "      <td>1</td>\n",
       "      <td>0</td>\n",
       "      <td>1</td>\n",
       "      <td>0</td>\n",
       "      <td>0</td>\n",
       "      <td>0</td>\n",
       "      <td>0</td>\n",
       "      <td>1</td>\n",
       "      <td>0</td>\n",
       "      <td>1</td>\n",
       "      <td>0</td>\n",
       "      <td>0</td>\n",
       "      <td>1</td>\n",
       "      <td>28</td>\n",
       "    </tr>\n",
       "    <tr>\n",
       "      <th>3</th>\n",
       "      <td>0</td>\n",
       "      <td>1</td>\n",
       "      <td>0</td>\n",
       "      <td>1</td>\n",
       "      <td>1</td>\n",
       "      <td>0</td>\n",
       "      <td>1</td>\n",
       "      <td>0</td>\n",
       "      <td>0</td>\n",
       "      <td>0</td>\n",
       "      <td>1</td>\n",
       "      <td>0</td>\n",
       "      <td>1</td>\n",
       "      <td>0</td>\n",
       "      <td>0</td>\n",
       "      <td>0</td>\n",
       "      <td>0</td>\n",
       "      <td>0</td>\n",
       "      <td>1</td>\n",
       "      <td>0</td>\n",
       "      <td>0</td>\n",
       "      <td>0</td>\n",
       "      <td>1</td>\n",
       "      <td>0</td>\n",
       "      <td>1</td>\n",
       "      <td>1</td>\n",
       "      <td>0</td>\n",
       "      <td>0</td>\n",
       "      <td>1</td>\n",
       "      <td>0</td>\n",
       "      <td>1</td>\n",
       "      <td>0</td>\n",
       "      <td>1</td>\n",
       "      <td>0</td>\n",
       "      <td>0</td>\n",
       "      <td>1</td>\n",
       "      <td>0</td>\n",
       "      <td>1</td>\n",
       "      <td>0</td>\n",
       "      <td>0</td>\n",
       "      <td>1</td>\n",
       "      <td>0</td>\n",
       "      <td>1</td>\n",
       "      <td>0</td>\n",
       "      <td>0</td>\n",
       "      <td>1</td>\n",
       "      <td>0</td>\n",
       "      <td>1</td>\n",
       "      <td>0</td>\n",
       "      <td>1</td>\n",
       "      <td>0</td>\n",
       "      <td>0</td>\n",
       "      <td>0</td>\n",
       "      <td>0</td>\n",
       "      <td>1</td>\n",
       "      <td>0</td>\n",
       "      <td>1</td>\n",
       "      <td>0</td>\n",
       "      <td>0</td>\n",
       "      <td>1</td>\n",
       "      <td>28</td>\n",
       "    </tr>\n",
       "    <tr>\n",
       "      <th>4</th>\n",
       "      <td>0</td>\n",
       "      <td>1</td>\n",
       "      <td>0</td>\n",
       "      <td>1</td>\n",
       "      <td>1</td>\n",
       "      <td>0</td>\n",
       "      <td>1</td>\n",
       "      <td>0</td>\n",
       "      <td>0</td>\n",
       "      <td>0</td>\n",
       "      <td>1</td>\n",
       "      <td>0</td>\n",
       "      <td>1</td>\n",
       "      <td>0</td>\n",
       "      <td>0</td>\n",
       "      <td>0</td>\n",
       "      <td>0</td>\n",
       "      <td>0</td>\n",
       "      <td>1</td>\n",
       "      <td>0</td>\n",
       "      <td>0</td>\n",
       "      <td>0</td>\n",
       "      <td>1</td>\n",
       "      <td>0</td>\n",
       "      <td>1</td>\n",
       "      <td>0</td>\n",
       "      <td>1</td>\n",
       "      <td>0</td>\n",
       "      <td>1</td>\n",
       "      <td>0</td>\n",
       "      <td>1</td>\n",
       "      <td>0</td>\n",
       "      <td>1</td>\n",
       "      <td>0</td>\n",
       "      <td>0</td>\n",
       "      <td>1</td>\n",
       "      <td>0</td>\n",
       "      <td>1</td>\n",
       "      <td>0</td>\n",
       "      <td>0</td>\n",
       "      <td>1</td>\n",
       "      <td>0</td>\n",
       "      <td>1</td>\n",
       "      <td>0</td>\n",
       "      <td>0</td>\n",
       "      <td>1</td>\n",
       "      <td>0</td>\n",
       "      <td>1</td>\n",
       "      <td>0</td>\n",
       "      <td>1</td>\n",
       "      <td>0</td>\n",
       "      <td>0</td>\n",
       "      <td>0</td>\n",
       "      <td>0</td>\n",
       "      <td>1</td>\n",
       "      <td>0</td>\n",
       "      <td>1</td>\n",
       "      <td>0</td>\n",
       "      <td>1</td>\n",
       "      <td>0</td>\n",
       "      <td>28</td>\n",
       "    </tr>\n",
       "  </tbody>\n",
       "</table>\n",
       "</div>"
      ],
      "text/plain": [
       "   hasAdhar_No  hasAdhar_Yes  literacy_Illiterate  literacy_Literate  \\\n",
       "0            0             1                    0                  1   \n",
       "1            0             1                    0                  1   \n",
       "2            0             1                    0                  1   \n",
       "3            0             1                    0                  1   \n",
       "4            0             1                    0                  1   \n",
       "\n",
       "   hasEnrolledAdultLiteracy_No  hasEnrolledAdultLiteracy_Yes  eduType_Formal  \\\n",
       "0                            1                             0               1   \n",
       "1                            1                             0               1   \n",
       "2                            1                             0               1   \n",
       "3                            1                             0               1   \n",
       "4                            1                             0               1   \n",
       "\n",
       "   eduType_Informal  eduType_No_education  eduInformal_Adult literacy  \\\n",
       "0                 0                     0                           0   \n",
       "1                 0                     0                           0   \n",
       "2                 0                     0                           0   \n",
       "3                 0                     0                           0   \n",
       "4                 0                     0                           0   \n",
       "\n",
       "   eduInformal_Not Taken  eduInformal_Others  statusFormalEdu_Continuing  \\\n",
       "0                      1                   0                           1   \n",
       "1                      1                   0                           1   \n",
       "2                      1                   0                           1   \n",
       "3                      1                   0                           1   \n",
       "4                      1                   0                           1   \n",
       "\n",
       "   statusFormalEdu_Dropout  statusFormalEdu_Finished Education  \\\n",
       "0                        0                                   0   \n",
       "1                        0                                   0   \n",
       "2                        0                                   0   \n",
       "3                        0                                   0   \n",
       "4                        0                                   0   \n",
       "\n",
       "   statusFormalEdu_No education  typeOfSchool_Government  \\\n",
       "0                             0                        0   \n",
       "1                             0                        0   \n",
       "2                             0                        0   \n",
       "3                             0                        0   \n",
       "4                             0                        0   \n",
       "\n",
       "   typeOfSchool_No School  typeOfSchool_Private  eduTransport_No School  \\\n",
       "0                       0                     1                       0   \n",
       "1                       0                     1                       0   \n",
       "2                       0                     1                       0   \n",
       "3                       0                     1                       0   \n",
       "4                       0                     1                       0   \n",
       "\n",
       "   eduTransport_Private Transport  eduTransport_Public Transport  \\\n",
       "0                               0                              0   \n",
       "1                               0                              0   \n",
       "2                               0                              0   \n",
       "3                               0                              0   \n",
       "4                               0                              0   \n",
       "\n",
       "   eduTransport_Walking  isHeadOfFamily_No  isHeadOfFamily_Yes  \\\n",
       "0                     1                  0                   1   \n",
       "1                     1                  0                   1   \n",
       "2                     1                  0                   1   \n",
       "3                     1                  0                   1   \n",
       "4                     1                  0                   1   \n",
       "\n",
       "   genderHeadOfFamily_Female  genderHeadOfFamily_Male  \\\n",
       "0                          1                        0   \n",
       "1                          0                        0   \n",
       "2                          0                        1   \n",
       "3                          1                        0   \n",
       "4                          0                        1   \n",
       "\n",
       "   genderHeadOfFamily_Others  hasPDS_No  hasPDS_Yes  hasSECC_No  hasSECC_Yes  \\\n",
       "0                          0          1           0           1            0   \n",
       "1                          1          1           0           1            0   \n",
       "2                          0          1           0           1            0   \n",
       "3                          0          1           0           1            0   \n",
       "4                          0          1           0           1            0   \n",
       "\n",
       "   hasAyushmanBharat_No  hasAyushmanBharat_Yes  hasLand_No  hasLand_Yes  \\\n",
       "0                     1                      0           0            1   \n",
       "1                     1                      0           0            1   \n",
       "2                     1                      0           0            1   \n",
       "3                     1                      0           0            1   \n",
       "4                     1                      0           0            1   \n",
       "\n",
       "   reasonLandless_Displaced  reasonLandless_No hereditary ownership  \\\n",
       "0                         0                                       1   \n",
       "1                         0                                       1   \n",
       "2                         0                                       1   \n",
       "3                         0                                       1   \n",
       "4                         0                                       1   \n",
       "\n",
       "   reasonLandless_Others  reasonLandless_Sold out of distress  \\\n",
       "0                      0                                    0   \n",
       "1                      0                                    0   \n",
       "2                      0                                    0   \n",
       "3                      0                                    0   \n",
       "4                      0                                    0   \n",
       "\n",
       "   hasHealthCert_No  hasHealthCert_Yes  employmentType_Jobless  \\\n",
       "0                 1                  0                       1   \n",
       "1                 1                  0                       1   \n",
       "2                 1                  0                       1   \n",
       "3                 1                  0                       1   \n",
       "4                 1                  0                       1   \n",
       "\n",
       "   employmentType_Salaried  employmentType_Self Employed  isWageEarner_No  \\\n",
       "0                        0                             0                1   \n",
       "1                        0                             0                1   \n",
       "2                        0                             0                1   \n",
       "3                        0                             0                1   \n",
       "4                        0                             0                1   \n",
       "\n",
       "   isWageEarner_Yes  isSHGMember_No  isSHGMember_Yes  noGroup_No  noGroup_Yes  \\\n",
       "0                 0               1                0           0            1   \n",
       "1                 0               1                0           1            0   \n",
       "2                 0               1                0           1            0   \n",
       "3                 0               1                0           1            0   \n",
       "4                 0               1                0           1            0   \n",
       "\n",
       "   wageRecievedCOVID_Did not request for wages  wageRecievedCOVID_Full  \\\n",
       "0                                            0                       0   \n",
       "1                                            0                       0   \n",
       "2                                            0                       0   \n",
       "3                                            0                       0   \n",
       "4                                            0                       0   \n",
       "\n",
       "   wageRecievedCOVID_No  wageRecievedCOVID_Not eligible or wages  \\\n",
       "0                     0                                        1   \n",
       "1                     0                                        1   \n",
       "2                     0                                        1   \n",
       "3                     0                                        1   \n",
       "4                     0                                        1   \n",
       "\n",
       "   wageRecievedCOVID_Partial - amount in INR  interestedCertProgram_No  \\\n",
       "0                                          0                         1   \n",
       "1                                          0                         1   \n",
       "2                                          0                         1   \n",
       "3                                          0                         1   \n",
       "4                                          0                         1   \n",
       "\n",
       "   interestedCertProgram_Yes  Gender_Female  Gender_Male  age  \n",
       "0                          0              1            0   28  \n",
       "1                          0              1            0   28  \n",
       "2                          0              0            1   28  \n",
       "3                          0              0            1   28  \n",
       "4                          0              1            0   28  "
      ]
     },
     "execution_count": 3126,
     "metadata": {},
     "output_type": "execute_result"
    }
   ],
   "source": [
    "dummy1.head()"
   ]
  },
  {
   "cell_type": "markdown",
   "metadata": {},
   "source": [
    "#### Created dummy variables from all categorical variables and put these into new dataframe “dummy1”."
   ]
  },
  {
   "cell_type": "markdown",
   "metadata": {},
   "source": [
    "#### New dataset “dummy1” now have 60 variables Including ‘age’ which is a continuous variable."
   ]
  },
  {
   "cell_type": "code",
   "execution_count": 3127,
   "metadata": {
    "scrolled": true
   },
   "outputs": [
    {
     "name": "stdout",
     "output_type": "stream",
     "text": [
      "<class 'pandas.core.frame.DataFrame'>\n",
      "Int64Index: 15798 entries, 0 to 15999\n",
      "Data columns (total 61 columns):\n",
      " #   Column                                       Non-Null Count  Dtype\n",
      "---  ------                                       --------------  -----\n",
      " 0   hasAdhar_No                                  15798 non-null  uint8\n",
      " 1   hasAdhar_Yes                                 15798 non-null  uint8\n",
      " 2   literacy_Illiterate                          15798 non-null  uint8\n",
      " 3   literacy_Literate                            15798 non-null  uint8\n",
      " 4   hasEnrolledAdultLiteracy_No                  15798 non-null  uint8\n",
      " 5   hasEnrolledAdultLiteracy_Yes                 15798 non-null  uint8\n",
      " 6   eduType_Formal                               15798 non-null  uint8\n",
      " 7   eduType_Informal                             15798 non-null  uint8\n",
      " 8   eduType_No_education                         15798 non-null  uint8\n",
      " 9   eduInformal_Adult literacy                   15798 non-null  uint8\n",
      " 10  eduInformal_Not Taken                        15798 non-null  uint8\n",
      " 11  eduInformal_Others                           15798 non-null  uint8\n",
      " 12  statusFormalEdu_Continuing                   15798 non-null  uint8\n",
      " 13  statusFormalEdu_Dropout                      15798 non-null  uint8\n",
      " 14  statusFormalEdu_Finished Education           15798 non-null  uint8\n",
      " 15  statusFormalEdu_No education                 15798 non-null  uint8\n",
      " 16  typeOfSchool_Government                      15798 non-null  uint8\n",
      " 17  typeOfSchool_No School                       15798 non-null  uint8\n",
      " 18  typeOfSchool_Private                         15798 non-null  uint8\n",
      " 19  eduTransport_No School                       15798 non-null  uint8\n",
      " 20  eduTransport_Private Transport               15798 non-null  uint8\n",
      " 21  eduTransport_Public Transport                15798 non-null  uint8\n",
      " 22  eduTransport_Walking                         15798 non-null  uint8\n",
      " 23  isHeadOfFamily_No                            15798 non-null  uint8\n",
      " 24  isHeadOfFamily_Yes                           15798 non-null  uint8\n",
      " 25  genderHeadOfFamily_Female                    15798 non-null  uint8\n",
      " 26  genderHeadOfFamily_Male                      15798 non-null  uint8\n",
      " 27  genderHeadOfFamily_Others                    15798 non-null  uint8\n",
      " 28  hasPDS_No                                    15798 non-null  uint8\n",
      " 29  hasPDS_Yes                                   15798 non-null  uint8\n",
      " 30  hasSECC_No                                   15798 non-null  uint8\n",
      " 31  hasSECC_Yes                                  15798 non-null  uint8\n",
      " 32  hasAyushmanBharat_No                         15798 non-null  uint8\n",
      " 33  hasAyushmanBharat_Yes                        15798 non-null  uint8\n",
      " 34  hasLand_No                                   15798 non-null  uint8\n",
      " 35  hasLand_Yes                                  15798 non-null  uint8\n",
      " 36  reasonLandless_Displaced                     15798 non-null  uint8\n",
      " 37  reasonLandless_No hereditary ownership       15798 non-null  uint8\n",
      " 38  reasonLandless_Others                        15798 non-null  uint8\n",
      " 39  reasonLandless_Sold out of distress          15798 non-null  uint8\n",
      " 40  hasHealthCert_No                             15798 non-null  uint8\n",
      " 41  hasHealthCert_Yes                            15798 non-null  uint8\n",
      " 42  employmentType_Jobless                       15798 non-null  uint8\n",
      " 43  employmentType_Salaried                      15798 non-null  uint8\n",
      " 44  employmentType_Self Employed                 15798 non-null  uint8\n",
      " 45  isWageEarner_No                              15798 non-null  uint8\n",
      " 46  isWageEarner_Yes                             15798 non-null  uint8\n",
      " 47  isSHGMember_No                               15798 non-null  uint8\n",
      " 48  isSHGMember_Yes                              15798 non-null  uint8\n",
      " 49  noGroup_No                                   15798 non-null  uint8\n",
      " 50  noGroup_Yes                                  15798 non-null  uint8\n",
      " 51  wageRecievedCOVID_Did not request for wages  15798 non-null  uint8\n",
      " 52  wageRecievedCOVID_Full                       15798 non-null  uint8\n",
      " 53  wageRecievedCOVID_No                         15798 non-null  uint8\n",
      " 54  wageRecievedCOVID_Not eligible or wages      15798 non-null  uint8\n",
      " 55  wageRecievedCOVID_Partial - amount in INR    15798 non-null  uint8\n",
      " 56  interestedCertProgram_No                     15798 non-null  uint8\n",
      " 57  interestedCertProgram_Yes                    15798 non-null  uint8\n",
      " 58  Gender_Female                                15798 non-null  uint8\n",
      " 59  Gender_Male                                  15798 non-null  uint8\n",
      " 60  age                                          15798 non-null  int64\n",
      "dtypes: int64(1), uint8(60)\n",
      "memory usage: 1.6 MB\n"
     ]
    }
   ],
   "source": [
    "dummy1.info()"
   ]
  },
  {
   "cell_type": "markdown",
   "metadata": {},
   "source": [
    "## Spliting dataframe into train and test\n"
   ]
  },
  {
   "cell_type": "code",
   "execution_count": 3128,
   "metadata": {},
   "outputs": [],
   "source": [
    "from sklearn.model_selection import train_test_split"
   ]
  },
  {
   "cell_type": "code",
   "execution_count": 3129,
   "metadata": {},
   "outputs": [],
   "source": [
    "dummy1['scholarshipAvailed']=y"
   ]
  },
  {
   "cell_type": "code",
   "execution_count": 3130,
   "metadata": {},
   "outputs": [
    {
     "data": {
      "text/plain": [
       "0    15766\n",
       "1       32\n",
       "Name: scholarshipAvailed, dtype: int64"
      ]
     },
     "execution_count": 3130,
     "metadata": {},
     "output_type": "execute_result"
    }
   ],
   "source": [
    "dummy1['scholarshipAvailed'].value_counts(dropna=False)"
   ]
  },
  {
   "cell_type": "code",
   "execution_count": 3131,
   "metadata": {},
   "outputs": [],
   "source": [
    "train, validate, test = \\\n",
    "              np.split(dummy1.sample(frac=1, random_state=39), \n",
    "                       [int(.6*len(dummy1)), int(.8*len(dummy1))])"
   ]
  },
  {
   "cell_type": "code",
   "execution_count": 3132,
   "metadata": {},
   "outputs": [
    {
     "data": {
      "text/plain": [
       "(3160, 62)"
      ]
     },
     "execution_count": 3132,
     "metadata": {},
     "output_type": "execute_result"
    }
   ],
   "source": [
    "test.shape"
   ]
  },
  {
   "cell_type": "code",
   "execution_count": 3133,
   "metadata": {},
   "outputs": [],
   "source": [
    "y_train=train.pop('scholarshipAvailed')\n",
    "y_validate=validate.pop('scholarshipAvailed')\n",
    "y_test=test.pop('scholarshipAvailed')\n",
    "X_train=train.copy()\n",
    "X_validate=validate.copy()\n",
    "X_test=test.copy()"
   ]
  },
  {
   "cell_type": "code",
   "execution_count": 3134,
   "metadata": {},
   "outputs": [
    {
     "name": "stdout",
     "output_type": "stream",
     "text": [
      "(9478, 61)\n",
      "(3160, 61)\n",
      "(3160, 61)\n"
     ]
    }
   ],
   "source": [
    "print(X_train.shape)\n",
    "print(X_validate.shape)\n",
    "print(X_test.shape)"
   ]
  },
  {
   "cell_type": "code",
   "execution_count": 3135,
   "metadata": {},
   "outputs": [
    {
     "name": "stdout",
     "output_type": "stream",
     "text": [
      "(9478,)\n",
      "(3160,)\n",
      "(3160,)\n"
     ]
    }
   ],
   "source": [
    "print(y_train.shape)\n",
    "print(y_validate.shape)\n",
    "print(y_test.shape)"
   ]
  },
  {
   "cell_type": "markdown",
   "metadata": {},
   "source": [
    "## Scaling"
   ]
  },
  {
   "cell_type": "code",
   "execution_count": 3136,
   "metadata": {},
   "outputs": [],
   "source": [
    "from sklearn.preprocessing import StandardScaler"
   ]
  },
  {
   "cell_type": "code",
   "execution_count": 3137,
   "metadata": {},
   "outputs": [
    {
     "data": {
      "text/html": [
       "<div>\n",
       "<style scoped>\n",
       "    .dataframe tbody tr th:only-of-type {\n",
       "        vertical-align: middle;\n",
       "    }\n",
       "\n",
       "    .dataframe tbody tr th {\n",
       "        vertical-align: top;\n",
       "    }\n",
       "\n",
       "    .dataframe thead th {\n",
       "        text-align: right;\n",
       "    }\n",
       "</style>\n",
       "<table border=\"1\" class=\"dataframe\">\n",
       "  <thead>\n",
       "    <tr style=\"text-align: right;\">\n",
       "      <th></th>\n",
       "      <th>hasAdhar_No</th>\n",
       "      <th>hasAdhar_Yes</th>\n",
       "      <th>literacy_Illiterate</th>\n",
       "      <th>literacy_Literate</th>\n",
       "      <th>hasEnrolledAdultLiteracy_No</th>\n",
       "      <th>hasEnrolledAdultLiteracy_Yes</th>\n",
       "      <th>eduType_Formal</th>\n",
       "      <th>eduType_Informal</th>\n",
       "      <th>eduType_No_education</th>\n",
       "      <th>eduInformal_Adult literacy</th>\n",
       "      <th>eduInformal_Not Taken</th>\n",
       "      <th>eduInformal_Others</th>\n",
       "      <th>statusFormalEdu_Continuing</th>\n",
       "      <th>statusFormalEdu_Dropout</th>\n",
       "      <th>statusFormalEdu_Finished Education</th>\n",
       "      <th>statusFormalEdu_No education</th>\n",
       "      <th>typeOfSchool_Government</th>\n",
       "      <th>typeOfSchool_No School</th>\n",
       "      <th>typeOfSchool_Private</th>\n",
       "      <th>eduTransport_No School</th>\n",
       "      <th>eduTransport_Private Transport</th>\n",
       "      <th>eduTransport_Public Transport</th>\n",
       "      <th>eduTransport_Walking</th>\n",
       "      <th>isHeadOfFamily_No</th>\n",
       "      <th>isHeadOfFamily_Yes</th>\n",
       "      <th>genderHeadOfFamily_Female</th>\n",
       "      <th>genderHeadOfFamily_Male</th>\n",
       "      <th>genderHeadOfFamily_Others</th>\n",
       "      <th>hasPDS_No</th>\n",
       "      <th>hasPDS_Yes</th>\n",
       "      <th>hasSECC_No</th>\n",
       "      <th>hasSECC_Yes</th>\n",
       "      <th>hasAyushmanBharat_No</th>\n",
       "      <th>hasAyushmanBharat_Yes</th>\n",
       "      <th>hasLand_No</th>\n",
       "      <th>hasLand_Yes</th>\n",
       "      <th>reasonLandless_Displaced</th>\n",
       "      <th>reasonLandless_No hereditary ownership</th>\n",
       "      <th>reasonLandless_Others</th>\n",
       "      <th>reasonLandless_Sold out of distress</th>\n",
       "      <th>hasHealthCert_No</th>\n",
       "      <th>hasHealthCert_Yes</th>\n",
       "      <th>employmentType_Jobless</th>\n",
       "      <th>employmentType_Salaried</th>\n",
       "      <th>employmentType_Self Employed</th>\n",
       "      <th>isWageEarner_No</th>\n",
       "      <th>isWageEarner_Yes</th>\n",
       "      <th>isSHGMember_No</th>\n",
       "      <th>isSHGMember_Yes</th>\n",
       "      <th>noGroup_No</th>\n",
       "      <th>noGroup_Yes</th>\n",
       "      <th>wageRecievedCOVID_Did not request for wages</th>\n",
       "      <th>wageRecievedCOVID_Full</th>\n",
       "      <th>wageRecievedCOVID_No</th>\n",
       "      <th>wageRecievedCOVID_Not eligible or wages</th>\n",
       "      <th>wageRecievedCOVID_Partial - amount in INR</th>\n",
       "      <th>interestedCertProgram_No</th>\n",
       "      <th>interestedCertProgram_Yes</th>\n",
       "      <th>Gender_Female</th>\n",
       "      <th>Gender_Male</th>\n",
       "      <th>age</th>\n",
       "    </tr>\n",
       "  </thead>\n",
       "  <tbody>\n",
       "    <tr>\n",
       "      <th>1833</th>\n",
       "      <td>0</td>\n",
       "      <td>1</td>\n",
       "      <td>0</td>\n",
       "      <td>1</td>\n",
       "      <td>1</td>\n",
       "      <td>0</td>\n",
       "      <td>1</td>\n",
       "      <td>0</td>\n",
       "      <td>0</td>\n",
       "      <td>0</td>\n",
       "      <td>1</td>\n",
       "      <td>0</td>\n",
       "      <td>0</td>\n",
       "      <td>0</td>\n",
       "      <td>1</td>\n",
       "      <td>0</td>\n",
       "      <td>1</td>\n",
       "      <td>0</td>\n",
       "      <td>0</td>\n",
       "      <td>0</td>\n",
       "      <td>0</td>\n",
       "      <td>1</td>\n",
       "      <td>0</td>\n",
       "      <td>0</td>\n",
       "      <td>1</td>\n",
       "      <td>0</td>\n",
       "      <td>1</td>\n",
       "      <td>0</td>\n",
       "      <td>1</td>\n",
       "      <td>0</td>\n",
       "      <td>1</td>\n",
       "      <td>0</td>\n",
       "      <td>1</td>\n",
       "      <td>0</td>\n",
       "      <td>1</td>\n",
       "      <td>0</td>\n",
       "      <td>0</td>\n",
       "      <td>1</td>\n",
       "      <td>0</td>\n",
       "      <td>0</td>\n",
       "      <td>1</td>\n",
       "      <td>0</td>\n",
       "      <td>1</td>\n",
       "      <td>0</td>\n",
       "      <td>0</td>\n",
       "      <td>1</td>\n",
       "      <td>0</td>\n",
       "      <td>0</td>\n",
       "      <td>1</td>\n",
       "      <td>1</td>\n",
       "      <td>0</td>\n",
       "      <td>0</td>\n",
       "      <td>0</td>\n",
       "      <td>0</td>\n",
       "      <td>1</td>\n",
       "      <td>0</td>\n",
       "      <td>1</td>\n",
       "      <td>0</td>\n",
       "      <td>1</td>\n",
       "      <td>0</td>\n",
       "      <td>-0.985869</td>\n",
       "    </tr>\n",
       "    <tr>\n",
       "      <th>4662</th>\n",
       "      <td>0</td>\n",
       "      <td>1</td>\n",
       "      <td>0</td>\n",
       "      <td>1</td>\n",
       "      <td>1</td>\n",
       "      <td>0</td>\n",
       "      <td>1</td>\n",
       "      <td>0</td>\n",
       "      <td>0</td>\n",
       "      <td>0</td>\n",
       "      <td>1</td>\n",
       "      <td>0</td>\n",
       "      <td>0</td>\n",
       "      <td>0</td>\n",
       "      <td>1</td>\n",
       "      <td>0</td>\n",
       "      <td>1</td>\n",
       "      <td>0</td>\n",
       "      <td>0</td>\n",
       "      <td>0</td>\n",
       "      <td>0</td>\n",
       "      <td>1</td>\n",
       "      <td>0</td>\n",
       "      <td>0</td>\n",
       "      <td>1</td>\n",
       "      <td>0</td>\n",
       "      <td>1</td>\n",
       "      <td>0</td>\n",
       "      <td>0</td>\n",
       "      <td>1</td>\n",
       "      <td>1</td>\n",
       "      <td>0</td>\n",
       "      <td>1</td>\n",
       "      <td>0</td>\n",
       "      <td>1</td>\n",
       "      <td>0</td>\n",
       "      <td>0</td>\n",
       "      <td>0</td>\n",
       "      <td>1</td>\n",
       "      <td>0</td>\n",
       "      <td>1</td>\n",
       "      <td>0</td>\n",
       "      <td>0</td>\n",
       "      <td>0</td>\n",
       "      <td>1</td>\n",
       "      <td>1</td>\n",
       "      <td>0</td>\n",
       "      <td>1</td>\n",
       "      <td>0</td>\n",
       "      <td>0</td>\n",
       "      <td>1</td>\n",
       "      <td>0</td>\n",
       "      <td>1</td>\n",
       "      <td>0</td>\n",
       "      <td>0</td>\n",
       "      <td>0</td>\n",
       "      <td>0</td>\n",
       "      <td>1</td>\n",
       "      <td>1</td>\n",
       "      <td>0</td>\n",
       "      <td>-1.065374</td>\n",
       "    </tr>\n",
       "    <tr>\n",
       "      <th>14657</th>\n",
       "      <td>0</td>\n",
       "      <td>1</td>\n",
       "      <td>0</td>\n",
       "      <td>1</td>\n",
       "      <td>1</td>\n",
       "      <td>0</td>\n",
       "      <td>1</td>\n",
       "      <td>0</td>\n",
       "      <td>0</td>\n",
       "      <td>0</td>\n",
       "      <td>1</td>\n",
       "      <td>0</td>\n",
       "      <td>0</td>\n",
       "      <td>0</td>\n",
       "      <td>1</td>\n",
       "      <td>0</td>\n",
       "      <td>1</td>\n",
       "      <td>0</td>\n",
       "      <td>0</td>\n",
       "      <td>0</td>\n",
       "      <td>0</td>\n",
       "      <td>1</td>\n",
       "      <td>0</td>\n",
       "      <td>0</td>\n",
       "      <td>1</td>\n",
       "      <td>1</td>\n",
       "      <td>0</td>\n",
       "      <td>0</td>\n",
       "      <td>0</td>\n",
       "      <td>1</td>\n",
       "      <td>1</td>\n",
       "      <td>0</td>\n",
       "      <td>1</td>\n",
       "      <td>0</td>\n",
       "      <td>0</td>\n",
       "      <td>1</td>\n",
       "      <td>0</td>\n",
       "      <td>1</td>\n",
       "      <td>0</td>\n",
       "      <td>0</td>\n",
       "      <td>1</td>\n",
       "      <td>0</td>\n",
       "      <td>1</td>\n",
       "      <td>0</td>\n",
       "      <td>0</td>\n",
       "      <td>1</td>\n",
       "      <td>0</td>\n",
       "      <td>1</td>\n",
       "      <td>0</td>\n",
       "      <td>0</td>\n",
       "      <td>1</td>\n",
       "      <td>0</td>\n",
       "      <td>0</td>\n",
       "      <td>0</td>\n",
       "      <td>1</td>\n",
       "      <td>0</td>\n",
       "      <td>1</td>\n",
       "      <td>0</td>\n",
       "      <td>0</td>\n",
       "      <td>1</td>\n",
       "      <td>-0.667846</td>\n",
       "    </tr>\n",
       "    <tr>\n",
       "      <th>5042</th>\n",
       "      <td>0</td>\n",
       "      <td>1</td>\n",
       "      <td>0</td>\n",
       "      <td>1</td>\n",
       "      <td>1</td>\n",
       "      <td>0</td>\n",
       "      <td>1</td>\n",
       "      <td>0</td>\n",
       "      <td>0</td>\n",
       "      <td>0</td>\n",
       "      <td>1</td>\n",
       "      <td>0</td>\n",
       "      <td>0</td>\n",
       "      <td>0</td>\n",
       "      <td>1</td>\n",
       "      <td>0</td>\n",
       "      <td>1</td>\n",
       "      <td>0</td>\n",
       "      <td>0</td>\n",
       "      <td>0</td>\n",
       "      <td>0</td>\n",
       "      <td>1</td>\n",
       "      <td>0</td>\n",
       "      <td>0</td>\n",
       "      <td>1</td>\n",
       "      <td>1</td>\n",
       "      <td>0</td>\n",
       "      <td>0</td>\n",
       "      <td>0</td>\n",
       "      <td>1</td>\n",
       "      <td>1</td>\n",
       "      <td>0</td>\n",
       "      <td>1</td>\n",
       "      <td>0</td>\n",
       "      <td>0</td>\n",
       "      <td>1</td>\n",
       "      <td>0</td>\n",
       "      <td>1</td>\n",
       "      <td>0</td>\n",
       "      <td>0</td>\n",
       "      <td>1</td>\n",
       "      <td>0</td>\n",
       "      <td>0</td>\n",
       "      <td>1</td>\n",
       "      <td>0</td>\n",
       "      <td>1</td>\n",
       "      <td>0</td>\n",
       "      <td>1</td>\n",
       "      <td>0</td>\n",
       "      <td>0</td>\n",
       "      <td>1</td>\n",
       "      <td>1</td>\n",
       "      <td>0</td>\n",
       "      <td>0</td>\n",
       "      <td>0</td>\n",
       "      <td>0</td>\n",
       "      <td>1</td>\n",
       "      <td>0</td>\n",
       "      <td>1</td>\n",
       "      <td>0</td>\n",
       "      <td>-1.144880</td>\n",
       "    </tr>\n",
       "    <tr>\n",
       "      <th>15281</th>\n",
       "      <td>0</td>\n",
       "      <td>1</td>\n",
       "      <td>1</td>\n",
       "      <td>0</td>\n",
       "      <td>1</td>\n",
       "      <td>0</td>\n",
       "      <td>0</td>\n",
       "      <td>0</td>\n",
       "      <td>1</td>\n",
       "      <td>0</td>\n",
       "      <td>1</td>\n",
       "      <td>0</td>\n",
       "      <td>0</td>\n",
       "      <td>0</td>\n",
       "      <td>0</td>\n",
       "      <td>1</td>\n",
       "      <td>0</td>\n",
       "      <td>1</td>\n",
       "      <td>0</td>\n",
       "      <td>1</td>\n",
       "      <td>0</td>\n",
       "      <td>0</td>\n",
       "      <td>0</td>\n",
       "      <td>0</td>\n",
       "      <td>1</td>\n",
       "      <td>1</td>\n",
       "      <td>0</td>\n",
       "      <td>0</td>\n",
       "      <td>0</td>\n",
       "      <td>1</td>\n",
       "      <td>1</td>\n",
       "      <td>0</td>\n",
       "      <td>1</td>\n",
       "      <td>0</td>\n",
       "      <td>1</td>\n",
       "      <td>0</td>\n",
       "      <td>0</td>\n",
       "      <td>1</td>\n",
       "      <td>0</td>\n",
       "      <td>0</td>\n",
       "      <td>1</td>\n",
       "      <td>0</td>\n",
       "      <td>1</td>\n",
       "      <td>0</td>\n",
       "      <td>0</td>\n",
       "      <td>1</td>\n",
       "      <td>0</td>\n",
       "      <td>1</td>\n",
       "      <td>0</td>\n",
       "      <td>0</td>\n",
       "      <td>1</td>\n",
       "      <td>0</td>\n",
       "      <td>0</td>\n",
       "      <td>0</td>\n",
       "      <td>1</td>\n",
       "      <td>0</td>\n",
       "      <td>1</td>\n",
       "      <td>0</td>\n",
       "      <td>0</td>\n",
       "      <td>1</td>\n",
       "      <td>1.160784</td>\n",
       "    </tr>\n",
       "  </tbody>\n",
       "</table>\n",
       "</div>"
      ],
      "text/plain": [
       "       hasAdhar_No  hasAdhar_Yes  literacy_Illiterate  literacy_Literate  \\\n",
       "1833             0             1                    0                  1   \n",
       "4662             0             1                    0                  1   \n",
       "14657            0             1                    0                  1   \n",
       "5042             0             1                    0                  1   \n",
       "15281            0             1                    1                  0   \n",
       "\n",
       "       hasEnrolledAdultLiteracy_No  hasEnrolledAdultLiteracy_Yes  \\\n",
       "1833                             1                             0   \n",
       "4662                             1                             0   \n",
       "14657                            1                             0   \n",
       "5042                             1                             0   \n",
       "15281                            1                             0   \n",
       "\n",
       "       eduType_Formal  eduType_Informal  eduType_No_education  \\\n",
       "1833                1                 0                     0   \n",
       "4662                1                 0                     0   \n",
       "14657               1                 0                     0   \n",
       "5042                1                 0                     0   \n",
       "15281               0                 0                     1   \n",
       "\n",
       "       eduInformal_Adult literacy  eduInformal_Not Taken  eduInformal_Others  \\\n",
       "1833                            0                      1                   0   \n",
       "4662                            0                      1                   0   \n",
       "14657                           0                      1                   0   \n",
       "5042                            0                      1                   0   \n",
       "15281                           0                      1                   0   \n",
       "\n",
       "       statusFormalEdu_Continuing  statusFormalEdu_Dropout  \\\n",
       "1833                            0                        0   \n",
       "4662                            0                        0   \n",
       "14657                           0                        0   \n",
       "5042                            0                        0   \n",
       "15281                           0                        0   \n",
       "\n",
       "       statusFormalEdu_Finished Education  statusFormalEdu_No education  \\\n",
       "1833                                    1                             0   \n",
       "4662                                    1                             0   \n",
       "14657                                   1                             0   \n",
       "5042                                    1                             0   \n",
       "15281                                   0                             1   \n",
       "\n",
       "       typeOfSchool_Government  typeOfSchool_No School  typeOfSchool_Private  \\\n",
       "1833                         1                       0                     0   \n",
       "4662                         1                       0                     0   \n",
       "14657                        1                       0                     0   \n",
       "5042                         1                       0                     0   \n",
       "15281                        0                       1                     0   \n",
       "\n",
       "       eduTransport_No School  eduTransport_Private Transport  \\\n",
       "1833                        0                               0   \n",
       "4662                        0                               0   \n",
       "14657                       0                               0   \n",
       "5042                        0                               0   \n",
       "15281                       1                               0   \n",
       "\n",
       "       eduTransport_Public Transport  eduTransport_Walking  isHeadOfFamily_No  \\\n",
       "1833                               1                     0                  0   \n",
       "4662                               1                     0                  0   \n",
       "14657                              1                     0                  0   \n",
       "5042                               1                     0                  0   \n",
       "15281                              0                     0                  0   \n",
       "\n",
       "       isHeadOfFamily_Yes  genderHeadOfFamily_Female  genderHeadOfFamily_Male  \\\n",
       "1833                    1                          0                        1   \n",
       "4662                    1                          0                        1   \n",
       "14657                   1                          1                        0   \n",
       "5042                    1                          1                        0   \n",
       "15281                   1                          1                        0   \n",
       "\n",
       "       genderHeadOfFamily_Others  hasPDS_No  hasPDS_Yes  hasSECC_No  \\\n",
       "1833                           0          1           0           1   \n",
       "4662                           0          0           1           1   \n",
       "14657                          0          0           1           1   \n",
       "5042                           0          0           1           1   \n",
       "15281                          0          0           1           1   \n",
       "\n",
       "       hasSECC_Yes  hasAyushmanBharat_No  hasAyushmanBharat_Yes  hasLand_No  \\\n",
       "1833             0                     1                      0           1   \n",
       "4662             0                     1                      0           1   \n",
       "14657            0                     1                      0           0   \n",
       "5042             0                     1                      0           0   \n",
       "15281            0                     1                      0           1   \n",
       "\n",
       "       hasLand_Yes  reasonLandless_Displaced  \\\n",
       "1833             0                         0   \n",
       "4662             0                         0   \n",
       "14657            1                         0   \n",
       "5042             1                         0   \n",
       "15281            0                         0   \n",
       "\n",
       "       reasonLandless_No hereditary ownership  reasonLandless_Others  \\\n",
       "1833                                        1                      0   \n",
       "4662                                        0                      1   \n",
       "14657                                       1                      0   \n",
       "5042                                        1                      0   \n",
       "15281                                       1                      0   \n",
       "\n",
       "       reasonLandless_Sold out of distress  hasHealthCert_No  \\\n",
       "1833                                     0                 1   \n",
       "4662                                     0                 1   \n",
       "14657                                    0                 1   \n",
       "5042                                     0                 1   \n",
       "15281                                    0                 1   \n",
       "\n",
       "       hasHealthCert_Yes  employmentType_Jobless  employmentType_Salaried  \\\n",
       "1833                   0                       1                        0   \n",
       "4662                   0                       0                        0   \n",
       "14657                  0                       1                        0   \n",
       "5042                   0                       0                        1   \n",
       "15281                  0                       1                        0   \n",
       "\n",
       "       employmentType_Self Employed  isWageEarner_No  isWageEarner_Yes  \\\n",
       "1833                              0                1                 0   \n",
       "4662                              1                1                 0   \n",
       "14657                             0                1                 0   \n",
       "5042                              0                1                 0   \n",
       "15281                             0                1                 0   \n",
       "\n",
       "       isSHGMember_No  isSHGMember_Yes  noGroup_No  noGroup_Yes  \\\n",
       "1833                0                1           1            0   \n",
       "4662                1                0           0            1   \n",
       "14657               1                0           0            1   \n",
       "5042                1                0           0            1   \n",
       "15281               1                0           0            1   \n",
       "\n",
       "       wageRecievedCOVID_Did not request for wages  wageRecievedCOVID_Full  \\\n",
       "1833                                             0                       0   \n",
       "4662                                             0                       1   \n",
       "14657                                            0                       0   \n",
       "5042                                             1                       0   \n",
       "15281                                            0                       0   \n",
       "\n",
       "       wageRecievedCOVID_No  wageRecievedCOVID_Not eligible or wages  \\\n",
       "1833                      0                                        1   \n",
       "4662                      0                                        0   \n",
       "14657                     0                                        1   \n",
       "5042                      0                                        0   \n",
       "15281                     0                                        1   \n",
       "\n",
       "       wageRecievedCOVID_Partial - amount in INR  interestedCertProgram_No  \\\n",
       "1833                                           0                         1   \n",
       "4662                                           0                         0   \n",
       "14657                                          0                         1   \n",
       "5042                                           0                         1   \n",
       "15281                                          0                         1   \n",
       "\n",
       "       interestedCertProgram_Yes  Gender_Female  Gender_Male       age  \n",
       "1833                           0              1            0 -0.985869  \n",
       "4662                           1              1            0 -1.065374  \n",
       "14657                          0              0            1 -0.667846  \n",
       "5042                           0              1            0 -1.144880  \n",
       "15281                          0              0            1  1.160784  "
      ]
     },
     "execution_count": 3137,
     "metadata": {},
     "output_type": "execute_result"
    }
   ],
   "source": [
    "scaler=StandardScaler()\n",
    "X_train['age']=scaler.fit_transform(X_train['age'].values.reshape(-1,1))\n",
    "X_train.head()"
   ]
  },
  {
   "cell_type": "code",
   "execution_count": 3138,
   "metadata": {},
   "outputs": [],
   "source": [
    "#Transforming 'Age' variable in Test dataset.\n",
    "\n",
    "X_validate['age']=scaler.transform(X_validate['age'].values.reshape(-1,1))\n",
    "X_test['age']=scaler.transform(X_test['age'].values.reshape(-1,1))"
   ]
  },
  {
   "cell_type": "code",
   "execution_count": 3139,
   "metadata": {},
   "outputs": [
    {
     "data": {
      "text/html": [
       "<div>\n",
       "<style scoped>\n",
       "    .dataframe tbody tr th:only-of-type {\n",
       "        vertical-align: middle;\n",
       "    }\n",
       "\n",
       "    .dataframe tbody tr th {\n",
       "        vertical-align: top;\n",
       "    }\n",
       "\n",
       "    .dataframe thead th {\n",
       "        text-align: right;\n",
       "    }\n",
       "</style>\n",
       "<table border=\"1\" class=\"dataframe\">\n",
       "  <thead>\n",
       "    <tr style=\"text-align: right;\">\n",
       "      <th></th>\n",
       "      <th>hasAdhar_No</th>\n",
       "      <th>hasAdhar_Yes</th>\n",
       "      <th>literacy_Illiterate</th>\n",
       "      <th>literacy_Literate</th>\n",
       "      <th>hasEnrolledAdultLiteracy_No</th>\n",
       "      <th>hasEnrolledAdultLiteracy_Yes</th>\n",
       "      <th>eduType_Formal</th>\n",
       "      <th>eduType_Informal</th>\n",
       "      <th>eduType_No_education</th>\n",
       "      <th>eduInformal_Adult literacy</th>\n",
       "      <th>eduInformal_Not Taken</th>\n",
       "      <th>eduInformal_Others</th>\n",
       "      <th>statusFormalEdu_Continuing</th>\n",
       "      <th>statusFormalEdu_Dropout</th>\n",
       "      <th>statusFormalEdu_Finished Education</th>\n",
       "      <th>statusFormalEdu_No education</th>\n",
       "      <th>typeOfSchool_Government</th>\n",
       "      <th>typeOfSchool_No School</th>\n",
       "      <th>typeOfSchool_Private</th>\n",
       "      <th>eduTransport_No School</th>\n",
       "      <th>eduTransport_Private Transport</th>\n",
       "      <th>eduTransport_Public Transport</th>\n",
       "      <th>eduTransport_Walking</th>\n",
       "      <th>isHeadOfFamily_No</th>\n",
       "      <th>isHeadOfFamily_Yes</th>\n",
       "      <th>genderHeadOfFamily_Female</th>\n",
       "      <th>genderHeadOfFamily_Male</th>\n",
       "      <th>genderHeadOfFamily_Others</th>\n",
       "      <th>hasPDS_No</th>\n",
       "      <th>hasPDS_Yes</th>\n",
       "      <th>hasSECC_No</th>\n",
       "      <th>hasSECC_Yes</th>\n",
       "      <th>hasAyushmanBharat_No</th>\n",
       "      <th>hasAyushmanBharat_Yes</th>\n",
       "      <th>hasLand_No</th>\n",
       "      <th>hasLand_Yes</th>\n",
       "      <th>reasonLandless_Displaced</th>\n",
       "      <th>reasonLandless_No hereditary ownership</th>\n",
       "      <th>reasonLandless_Others</th>\n",
       "      <th>reasonLandless_Sold out of distress</th>\n",
       "      <th>hasHealthCert_No</th>\n",
       "      <th>hasHealthCert_Yes</th>\n",
       "      <th>employmentType_Jobless</th>\n",
       "      <th>employmentType_Salaried</th>\n",
       "      <th>employmentType_Self Employed</th>\n",
       "      <th>isWageEarner_No</th>\n",
       "      <th>isWageEarner_Yes</th>\n",
       "      <th>isSHGMember_No</th>\n",
       "      <th>isSHGMember_Yes</th>\n",
       "      <th>noGroup_No</th>\n",
       "      <th>noGroup_Yes</th>\n",
       "      <th>wageRecievedCOVID_Did not request for wages</th>\n",
       "      <th>wageRecievedCOVID_Full</th>\n",
       "      <th>wageRecievedCOVID_No</th>\n",
       "      <th>wageRecievedCOVID_Not eligible or wages</th>\n",
       "      <th>wageRecievedCOVID_Partial - amount in INR</th>\n",
       "      <th>interestedCertProgram_No</th>\n",
       "      <th>interestedCertProgram_Yes</th>\n",
       "      <th>Gender_Female</th>\n",
       "      <th>Gender_Male</th>\n",
       "      <th>age</th>\n",
       "    </tr>\n",
       "  </thead>\n",
       "  <tbody>\n",
       "    <tr>\n",
       "      <th>6867</th>\n",
       "      <td>0</td>\n",
       "      <td>1</td>\n",
       "      <td>0</td>\n",
       "      <td>1</td>\n",
       "      <td>1</td>\n",
       "      <td>0</td>\n",
       "      <td>1</td>\n",
       "      <td>0</td>\n",
       "      <td>0</td>\n",
       "      <td>0</td>\n",
       "      <td>1</td>\n",
       "      <td>0</td>\n",
       "      <td>0</td>\n",
       "      <td>0</td>\n",
       "      <td>1</td>\n",
       "      <td>0</td>\n",
       "      <td>1</td>\n",
       "      <td>0</td>\n",
       "      <td>0</td>\n",
       "      <td>0</td>\n",
       "      <td>0</td>\n",
       "      <td>0</td>\n",
       "      <td>1</td>\n",
       "      <td>0</td>\n",
       "      <td>1</td>\n",
       "      <td>0</td>\n",
       "      <td>1</td>\n",
       "      <td>0</td>\n",
       "      <td>0</td>\n",
       "      <td>1</td>\n",
       "      <td>1</td>\n",
       "      <td>0</td>\n",
       "      <td>1</td>\n",
       "      <td>0</td>\n",
       "      <td>0</td>\n",
       "      <td>1</td>\n",
       "      <td>0</td>\n",
       "      <td>1</td>\n",
       "      <td>0</td>\n",
       "      <td>0</td>\n",
       "      <td>1</td>\n",
       "      <td>0</td>\n",
       "      <td>1</td>\n",
       "      <td>0</td>\n",
       "      <td>0</td>\n",
       "      <td>1</td>\n",
       "      <td>0</td>\n",
       "      <td>1</td>\n",
       "      <td>0</td>\n",
       "      <td>0</td>\n",
       "      <td>1</td>\n",
       "      <td>0</td>\n",
       "      <td>0</td>\n",
       "      <td>0</td>\n",
       "      <td>1</td>\n",
       "      <td>0</td>\n",
       "      <td>1</td>\n",
       "      <td>0</td>\n",
       "      <td>0</td>\n",
       "      <td>1</td>\n",
       "      <td>0.763256</td>\n",
       "    </tr>\n",
       "    <tr>\n",
       "      <th>14686</th>\n",
       "      <td>0</td>\n",
       "      <td>1</td>\n",
       "      <td>1</td>\n",
       "      <td>0</td>\n",
       "      <td>1</td>\n",
       "      <td>0</td>\n",
       "      <td>0</td>\n",
       "      <td>0</td>\n",
       "      <td>1</td>\n",
       "      <td>0</td>\n",
       "      <td>1</td>\n",
       "      <td>0</td>\n",
       "      <td>0</td>\n",
       "      <td>0</td>\n",
       "      <td>0</td>\n",
       "      <td>1</td>\n",
       "      <td>0</td>\n",
       "      <td>1</td>\n",
       "      <td>0</td>\n",
       "      <td>1</td>\n",
       "      <td>0</td>\n",
       "      <td>0</td>\n",
       "      <td>0</td>\n",
       "      <td>0</td>\n",
       "      <td>1</td>\n",
       "      <td>0</td>\n",
       "      <td>1</td>\n",
       "      <td>0</td>\n",
       "      <td>0</td>\n",
       "      <td>1</td>\n",
       "      <td>1</td>\n",
       "      <td>0</td>\n",
       "      <td>1</td>\n",
       "      <td>0</td>\n",
       "      <td>0</td>\n",
       "      <td>1</td>\n",
       "      <td>0</td>\n",
       "      <td>1</td>\n",
       "      <td>0</td>\n",
       "      <td>0</td>\n",
       "      <td>1</td>\n",
       "      <td>0</td>\n",
       "      <td>1</td>\n",
       "      <td>0</td>\n",
       "      <td>0</td>\n",
       "      <td>1</td>\n",
       "      <td>0</td>\n",
       "      <td>1</td>\n",
       "      <td>0</td>\n",
       "      <td>0</td>\n",
       "      <td>1</td>\n",
       "      <td>0</td>\n",
       "      <td>0</td>\n",
       "      <td>0</td>\n",
       "      <td>1</td>\n",
       "      <td>0</td>\n",
       "      <td>1</td>\n",
       "      <td>0</td>\n",
       "      <td>1</td>\n",
       "      <td>0</td>\n",
       "      <td>-0.270318</td>\n",
       "    </tr>\n",
       "    <tr>\n",
       "      <th>4114</th>\n",
       "      <td>0</td>\n",
       "      <td>1</td>\n",
       "      <td>0</td>\n",
       "      <td>1</td>\n",
       "      <td>1</td>\n",
       "      <td>0</td>\n",
       "      <td>1</td>\n",
       "      <td>0</td>\n",
       "      <td>0</td>\n",
       "      <td>0</td>\n",
       "      <td>1</td>\n",
       "      <td>0</td>\n",
       "      <td>0</td>\n",
       "      <td>0</td>\n",
       "      <td>1</td>\n",
       "      <td>0</td>\n",
       "      <td>1</td>\n",
       "      <td>0</td>\n",
       "      <td>0</td>\n",
       "      <td>0</td>\n",
       "      <td>0</td>\n",
       "      <td>0</td>\n",
       "      <td>1</td>\n",
       "      <td>1</td>\n",
       "      <td>0</td>\n",
       "      <td>1</td>\n",
       "      <td>0</td>\n",
       "      <td>0</td>\n",
       "      <td>0</td>\n",
       "      <td>1</td>\n",
       "      <td>1</td>\n",
       "      <td>0</td>\n",
       "      <td>1</td>\n",
       "      <td>0</td>\n",
       "      <td>0</td>\n",
       "      <td>1</td>\n",
       "      <td>0</td>\n",
       "      <td>1</td>\n",
       "      <td>0</td>\n",
       "      <td>0</td>\n",
       "      <td>0</td>\n",
       "      <td>1</td>\n",
       "      <td>1</td>\n",
       "      <td>0</td>\n",
       "      <td>0</td>\n",
       "      <td>1</td>\n",
       "      <td>0</td>\n",
       "      <td>1</td>\n",
       "      <td>0</td>\n",
       "      <td>0</td>\n",
       "      <td>1</td>\n",
       "      <td>0</td>\n",
       "      <td>0</td>\n",
       "      <td>0</td>\n",
       "      <td>1</td>\n",
       "      <td>0</td>\n",
       "      <td>1</td>\n",
       "      <td>0</td>\n",
       "      <td>0</td>\n",
       "      <td>1</td>\n",
       "      <td>-0.588340</td>\n",
       "    </tr>\n",
       "    <tr>\n",
       "      <th>10172</th>\n",
       "      <td>0</td>\n",
       "      <td>1</td>\n",
       "      <td>0</td>\n",
       "      <td>1</td>\n",
       "      <td>1</td>\n",
       "      <td>0</td>\n",
       "      <td>1</td>\n",
       "      <td>0</td>\n",
       "      <td>0</td>\n",
       "      <td>0</td>\n",
       "      <td>1</td>\n",
       "      <td>0</td>\n",
       "      <td>0</td>\n",
       "      <td>0</td>\n",
       "      <td>1</td>\n",
       "      <td>0</td>\n",
       "      <td>1</td>\n",
       "      <td>0</td>\n",
       "      <td>0</td>\n",
       "      <td>0</td>\n",
       "      <td>0</td>\n",
       "      <td>0</td>\n",
       "      <td>1</td>\n",
       "      <td>0</td>\n",
       "      <td>1</td>\n",
       "      <td>1</td>\n",
       "      <td>0</td>\n",
       "      <td>0</td>\n",
       "      <td>0</td>\n",
       "      <td>1</td>\n",
       "      <td>1</td>\n",
       "      <td>0</td>\n",
       "      <td>1</td>\n",
       "      <td>0</td>\n",
       "      <td>0</td>\n",
       "      <td>1</td>\n",
       "      <td>0</td>\n",
       "      <td>1</td>\n",
       "      <td>0</td>\n",
       "      <td>0</td>\n",
       "      <td>1</td>\n",
       "      <td>0</td>\n",
       "      <td>1</td>\n",
       "      <td>0</td>\n",
       "      <td>0</td>\n",
       "      <td>1</td>\n",
       "      <td>0</td>\n",
       "      <td>1</td>\n",
       "      <td>0</td>\n",
       "      <td>1</td>\n",
       "      <td>0</td>\n",
       "      <td>0</td>\n",
       "      <td>0</td>\n",
       "      <td>0</td>\n",
       "      <td>1</td>\n",
       "      <td>0</td>\n",
       "      <td>1</td>\n",
       "      <td>0</td>\n",
       "      <td>1</td>\n",
       "      <td>0</td>\n",
       "      <td>0.763256</td>\n",
       "    </tr>\n",
       "    <tr>\n",
       "      <th>3830</th>\n",
       "      <td>0</td>\n",
       "      <td>1</td>\n",
       "      <td>1</td>\n",
       "      <td>0</td>\n",
       "      <td>0</td>\n",
       "      <td>1</td>\n",
       "      <td>0</td>\n",
       "      <td>0</td>\n",
       "      <td>1</td>\n",
       "      <td>0</td>\n",
       "      <td>1</td>\n",
       "      <td>0</td>\n",
       "      <td>0</td>\n",
       "      <td>0</td>\n",
       "      <td>0</td>\n",
       "      <td>1</td>\n",
       "      <td>0</td>\n",
       "      <td>1</td>\n",
       "      <td>0</td>\n",
       "      <td>1</td>\n",
       "      <td>0</td>\n",
       "      <td>0</td>\n",
       "      <td>0</td>\n",
       "      <td>0</td>\n",
       "      <td>1</td>\n",
       "      <td>0</td>\n",
       "      <td>1</td>\n",
       "      <td>0</td>\n",
       "      <td>0</td>\n",
       "      <td>1</td>\n",
       "      <td>1</td>\n",
       "      <td>0</td>\n",
       "      <td>1</td>\n",
       "      <td>0</td>\n",
       "      <td>1</td>\n",
       "      <td>0</td>\n",
       "      <td>0</td>\n",
       "      <td>1</td>\n",
       "      <td>0</td>\n",
       "      <td>0</td>\n",
       "      <td>1</td>\n",
       "      <td>0</td>\n",
       "      <td>1</td>\n",
       "      <td>0</td>\n",
       "      <td>0</td>\n",
       "      <td>1</td>\n",
       "      <td>0</td>\n",
       "      <td>1</td>\n",
       "      <td>0</td>\n",
       "      <td>1</td>\n",
       "      <td>0</td>\n",
       "      <td>0</td>\n",
       "      <td>0</td>\n",
       "      <td>0</td>\n",
       "      <td>1</td>\n",
       "      <td>0</td>\n",
       "      <td>1</td>\n",
       "      <td>0</td>\n",
       "      <td>1</td>\n",
       "      <td>0</td>\n",
       "      <td>-0.588340</td>\n",
       "    </tr>\n",
       "  </tbody>\n",
       "</table>\n",
       "</div>"
      ],
      "text/plain": [
       "       hasAdhar_No  hasAdhar_Yes  literacy_Illiterate  literacy_Literate  \\\n",
       "6867             0             1                    0                  1   \n",
       "14686            0             1                    1                  0   \n",
       "4114             0             1                    0                  1   \n",
       "10172            0             1                    0                  1   \n",
       "3830             0             1                    1                  0   \n",
       "\n",
       "       hasEnrolledAdultLiteracy_No  hasEnrolledAdultLiteracy_Yes  \\\n",
       "6867                             1                             0   \n",
       "14686                            1                             0   \n",
       "4114                             1                             0   \n",
       "10172                            1                             0   \n",
       "3830                             0                             1   \n",
       "\n",
       "       eduType_Formal  eduType_Informal  eduType_No_education  \\\n",
       "6867                1                 0                     0   \n",
       "14686               0                 0                     1   \n",
       "4114                1                 0                     0   \n",
       "10172               1                 0                     0   \n",
       "3830                0                 0                     1   \n",
       "\n",
       "       eduInformal_Adult literacy  eduInformal_Not Taken  eduInformal_Others  \\\n",
       "6867                            0                      1                   0   \n",
       "14686                           0                      1                   0   \n",
       "4114                            0                      1                   0   \n",
       "10172                           0                      1                   0   \n",
       "3830                            0                      1                   0   \n",
       "\n",
       "       statusFormalEdu_Continuing  statusFormalEdu_Dropout  \\\n",
       "6867                            0                        0   \n",
       "14686                           0                        0   \n",
       "4114                            0                        0   \n",
       "10172                           0                        0   \n",
       "3830                            0                        0   \n",
       "\n",
       "       statusFormalEdu_Finished Education  statusFormalEdu_No education  \\\n",
       "6867                                    1                             0   \n",
       "14686                                   0                             1   \n",
       "4114                                    1                             0   \n",
       "10172                                   1                             0   \n",
       "3830                                    0                             1   \n",
       "\n",
       "       typeOfSchool_Government  typeOfSchool_No School  typeOfSchool_Private  \\\n",
       "6867                         1                       0                     0   \n",
       "14686                        0                       1                     0   \n",
       "4114                         1                       0                     0   \n",
       "10172                        1                       0                     0   \n",
       "3830                         0                       1                     0   \n",
       "\n",
       "       eduTransport_No School  eduTransport_Private Transport  \\\n",
       "6867                        0                               0   \n",
       "14686                       1                               0   \n",
       "4114                        0                               0   \n",
       "10172                       0                               0   \n",
       "3830                        1                               0   \n",
       "\n",
       "       eduTransport_Public Transport  eduTransport_Walking  isHeadOfFamily_No  \\\n",
       "6867                               0                     1                  0   \n",
       "14686                              0                     0                  0   \n",
       "4114                               0                     1                  1   \n",
       "10172                              0                     1                  0   \n",
       "3830                               0                     0                  0   \n",
       "\n",
       "       isHeadOfFamily_Yes  genderHeadOfFamily_Female  genderHeadOfFamily_Male  \\\n",
       "6867                    1                          0                        1   \n",
       "14686                   1                          0                        1   \n",
       "4114                    0                          1                        0   \n",
       "10172                   1                          1                        0   \n",
       "3830                    1                          0                        1   \n",
       "\n",
       "       genderHeadOfFamily_Others  hasPDS_No  hasPDS_Yes  hasSECC_No  \\\n",
       "6867                           0          0           1           1   \n",
       "14686                          0          0           1           1   \n",
       "4114                           0          0           1           1   \n",
       "10172                          0          0           1           1   \n",
       "3830                           0          0           1           1   \n",
       "\n",
       "       hasSECC_Yes  hasAyushmanBharat_No  hasAyushmanBharat_Yes  hasLand_No  \\\n",
       "6867             0                     1                      0           0   \n",
       "14686            0                     1                      0           0   \n",
       "4114             0                     1                      0           0   \n",
       "10172            0                     1                      0           0   \n",
       "3830             0                     1                      0           1   \n",
       "\n",
       "       hasLand_Yes  reasonLandless_Displaced  \\\n",
       "6867             1                         0   \n",
       "14686            1                         0   \n",
       "4114             1                         0   \n",
       "10172            1                         0   \n",
       "3830             0                         0   \n",
       "\n",
       "       reasonLandless_No hereditary ownership  reasonLandless_Others  \\\n",
       "6867                                        1                      0   \n",
       "14686                                       1                      0   \n",
       "4114                                        1                      0   \n",
       "10172                                       1                      0   \n",
       "3830                                        1                      0   \n",
       "\n",
       "       reasonLandless_Sold out of distress  hasHealthCert_No  \\\n",
       "6867                                     0                 1   \n",
       "14686                                    0                 1   \n",
       "4114                                     0                 0   \n",
       "10172                                    0                 1   \n",
       "3830                                     0                 1   \n",
       "\n",
       "       hasHealthCert_Yes  employmentType_Jobless  employmentType_Salaried  \\\n",
       "6867                   0                       1                        0   \n",
       "14686                  0                       1                        0   \n",
       "4114                   1                       1                        0   \n",
       "10172                  0                       1                        0   \n",
       "3830                   0                       1                        0   \n",
       "\n",
       "       employmentType_Self Employed  isWageEarner_No  isWageEarner_Yes  \\\n",
       "6867                              0                1                 0   \n",
       "14686                             0                1                 0   \n",
       "4114                              0                1                 0   \n",
       "10172                             0                1                 0   \n",
       "3830                              0                1                 0   \n",
       "\n",
       "       isSHGMember_No  isSHGMember_Yes  noGroup_No  noGroup_Yes  \\\n",
       "6867                1                0           0            1   \n",
       "14686               1                0           0            1   \n",
       "4114                1                0           0            1   \n",
       "10172               1                0           1            0   \n",
       "3830                1                0           1            0   \n",
       "\n",
       "       wageRecievedCOVID_Did not request for wages  wageRecievedCOVID_Full  \\\n",
       "6867                                             0                       0   \n",
       "14686                                            0                       0   \n",
       "4114                                             0                       0   \n",
       "10172                                            0                       0   \n",
       "3830                                             0                       0   \n",
       "\n",
       "       wageRecievedCOVID_No  wageRecievedCOVID_Not eligible or wages  \\\n",
       "6867                      0                                        1   \n",
       "14686                     0                                        1   \n",
       "4114                      0                                        1   \n",
       "10172                     0                                        1   \n",
       "3830                      0                                        1   \n",
       "\n",
       "       wageRecievedCOVID_Partial - amount in INR  interestedCertProgram_No  \\\n",
       "6867                                           0                         1   \n",
       "14686                                          0                         1   \n",
       "4114                                           0                         1   \n",
       "10172                                          0                         1   \n",
       "3830                                           0                         1   \n",
       "\n",
       "       interestedCertProgram_Yes  Gender_Female  Gender_Male       age  \n",
       "6867                           0              0            1  0.763256  \n",
       "14686                          0              1            0 -0.270318  \n",
       "4114                           0              0            1 -0.588340  \n",
       "10172                          0              1            0  0.763256  \n",
       "3830                           0              1            0 -0.588340  "
      ]
     },
     "execution_count": 3139,
     "metadata": {},
     "output_type": "execute_result"
    }
   ],
   "source": [
    "X_test.head()"
   ]
  },
  {
   "cell_type": "markdown",
   "metadata": {},
   "source": [
    "## Finding out Important features"
   ]
  },
  {
   "cell_type": "code",
   "execution_count": 3140,
   "metadata": {},
   "outputs": [
    {
     "name": "stdout",
     "output_type": "stream",
     "text": [
      "[2.09801461e-02 1.85878543e-02 7.00151359e-03 1.48087918e-03\n",
      " 8.05242301e-06 0.00000000e+00 1.00780711e-02 6.19512346e-07\n",
      " 5.50269425e-03 1.09363789e-06 2.51129992e-07 2.78738363e-07\n",
      " 1.91391054e-01 2.45812722e-03 1.05971897e-01 3.32826675e-03\n",
      " 2.22474128e-02 2.79385598e-03 2.22142542e-02 6.69337270e-03\n",
      " 3.66314537e-02 1.17530876e-02 2.33774887e-02 1.77463312e-02\n",
      " 1.78705747e-02 1.80863971e-02 1.74461036e-02 4.05394122e-04\n",
      " 2.11231944e-02 1.65083889e-02 9.20705688e-03 1.08914419e-02\n",
      " 1.21766902e-02 1.41739191e-02 4.42122652e-02 5.15652041e-02\n",
      " 3.72295215e-04 7.85149300e-03 7.50443008e-03 0.00000000e+00\n",
      " 1.12455111e-02 1.42974999e-02 1.08127746e-02 0.00000000e+00\n",
      " 1.65034685e-02 0.00000000e+00 2.00193351e-07 5.69407036e-03\n",
      " 4.35810198e-03 1.16666490e-02 1.10855989e-02 4.05260374e-03\n",
      " 2.57056880e-03 1.25544662e-06 1.17398881e-02 0.00000000e+00\n",
      " 3.42909621e-03 5.02035734e-03 2.60770945e-02 2.83182559e-02\n",
      " 7.34841009e-02]\n"
     ]
    },
    {
     "data": {
      "image/png": "[encoded data removed]",
      "text/plain": [
       "<Figure size 432x288 with 1 Axes>"
      ]
     },
     "metadata": {
      "needs_background": "light"
     },
     "output_type": "display_data"
    }
   ],
   "source": [
    "#Feature Graph\n",
    "X = X_train  #independent columns\n",
    "y = y_train   #target column \n",
    "from sklearn.ensemble import ExtraTreesClassifier\n",
    "import matplotlib.pyplot as plt\n",
    "model = ExtraTreesClassifier(random_state=80)\n",
    "model.fit(X_train,y_train)\n",
    "print(model.feature_importances_) \n",
    "\n",
    "#Using inbuilt class feature_importances of tree based classifiers\n",
    "#ploting graph of feature importances for better visualization\n",
    "\n",
    "feat_importances = pd.Series(model.feature_importances_, index=X_train.columns)\n",
    "feat_importances.nlargest(20).plot(kind='barh')\n",
    "plt.show()"
   ]
  },
  {
   "cell_type": "markdown",
   "metadata": {},
   "source": [
    "## Top 20 Features"
   ]
  },
  {
   "cell_type": "code",
   "execution_count": 3141,
   "metadata": {},
   "outputs": [],
   "source": [
    "features=feat_importances.nlargest(20)\n",
    "features=features.to_dict()"
   ]
  },
  {
   "cell_type": "code",
   "execution_count": 3142,
   "metadata": {},
   "outputs": [],
   "source": [
    "def getList(dict):\n",
    "      return [*dict]"
   ]
  },
  {
   "cell_type": "code",
   "execution_count": 3143,
   "metadata": {},
   "outputs": [
    {
     "data": {
      "text/plain": [
       "['statusFormalEdu_Continuing',\n",
       " 'statusFormalEdu_Finished Education',\n",
       " 'age',\n",
       " 'hasLand_Yes',\n",
       " 'hasLand_No',\n",
       " 'eduTransport_Private Transport',\n",
       " 'Gender_Male',\n",
       " 'Gender_Female',\n",
       " 'eduTransport_Walking',\n",
       " 'typeOfSchool_Government',\n",
       " 'typeOfSchool_Private',\n",
       " 'hasPDS_No',\n",
       " 'hasAdhar_No',\n",
       " 'hasAdhar_Yes',\n",
       " 'genderHeadOfFamily_Female',\n",
       " 'isHeadOfFamily_Yes',\n",
       " 'isHeadOfFamily_No',\n",
       " 'genderHeadOfFamily_Male',\n",
       " 'hasPDS_Yes',\n",
       " 'employmentType_Self Employed']"
      ]
     },
     "execution_count": 3143,
     "metadata": {},
     "output_type": "execute_result"
    }
   ],
   "source": [
    "lis=getList(features)\n",
    "lis"
   ]
  },
  {
   "cell_type": "code",
   "execution_count": 3144,
   "metadata": {},
   "outputs": [],
   "source": [
    "l=['statusFormalEdu_Continuing',\n",
    " 'statusFormalEdu_Finished Education',\n",
    " 'age',\n",
    " 'hasLand_Yes',\n",
    " 'hasLand_No',\n",
    " 'eduTransport_Private Transport',\n",
    " 'Gender_Male',\n",
    " 'Gender_Female',\n",
    " 'eduTransport_Walking',\n",
    " 'typeOfSchool_Government',\n",
    " 'typeOfSchool_Private',\n",
    " 'hasPDS_No',\n",
    " 'hasAdhar_No',\n",
    " 'hasAdhar_Yes',\n",
    " 'genderHeadOfFamily_Female',\n",
    " 'isHeadOfFamily_Yes',\n",
    " 'isHeadOfFamily_No',\n",
    " 'genderHeadOfFamily_Male',\n",
    " 'hasPDS_Yes',\n",
    " 'employmentType_Self Employed']"
   ]
  },
  {
   "cell_type": "code",
   "execution_count": 3145,
   "metadata": {},
   "outputs": [],
   "source": [
    "X_train=X_train[l]"
   ]
  },
  {
   "cell_type": "code",
   "execution_count": 3146,
   "metadata": {},
   "outputs": [
    {
     "data": {
      "text/plain": [
       "(9478, 20)"
      ]
     },
     "execution_count": 3146,
     "metadata": {},
     "output_type": "execute_result"
    }
   ],
   "source": [
    "X_train.shape"
   ]
  },
  {
   "cell_type": "code",
   "execution_count": 3147,
   "metadata": {},
   "outputs": [],
   "source": [
    "X_validate=X_validate[l]\n",
    "X_test=X_test[l]\n"
   ]
  },
  {
   "cell_type": "code",
   "execution_count": 3148,
   "metadata": {},
   "outputs": [
    {
     "name": "stdout",
     "output_type": "stream",
     "text": [
      "(9478, 20)\n",
      "(3160, 20)\n",
      "(3160, 20)\n"
     ]
    }
   ],
   "source": [
    "print(X_train.shape)\n",
    "print(X_validate.shape)\n",
    "print(X_test.shape)"
   ]
  },
  {
   "cell_type": "code",
   "execution_count": 3149,
   "metadata": {},
   "outputs": [
    {
     "name": "stdout",
     "output_type": "stream",
     "text": [
      "19\n",
      "8\n",
      "5\n"
     ]
    }
   ],
   "source": [
    "print(sum(y_train))\n",
    "print(sum(y_validate))\n",
    "print(sum(y_test))"
   ]
  },
  {
   "cell_type": "code",
   "execution_count": 3150,
   "metadata": {},
   "outputs": [
    {
     "data": {
      "text/plain": [
       "(9478,)"
      ]
     },
     "execution_count": 3150,
     "metadata": {},
     "output_type": "execute_result"
    }
   ],
   "source": [
    "y.shape"
   ]
  },
  {
   "cell_type": "markdown",
   "metadata": {},
   "source": [
    "# Model Building"
   ]
  },
  {
   "cell_type": "markdown",
   "metadata": {},
   "source": [
    "## Logistic Regression without setting Class Weight"
   ]
  },
  {
   "cell_type": "code",
   "execution_count": 3151,
   "metadata": {},
   "outputs": [],
   "source": [
    "# Logistic Regression\n",
    "from sklearn.linear_model import LogisticRegression\n",
    "from sklearn.metrics import accuracy_score\n",
    "from sklearn.metrics import precision_score, recall_score, confusion_matrix\n",
    "from sklearn.metrics import f1_score, roc_auc_score, roc_curve\n",
    "from sklearn.model_selection import train_test_split\n",
    "from sklearn.model_selection import GridSearchCV"
   ]
  },
  {
   "cell_type": "markdown",
   "metadata": {},
   "source": [
    "### Model1"
   ]
  },
  {
   "cell_type": "code",
   "execution_count": 3152,
   "metadata": {},
   "outputs": [],
   "source": [
    "mod1 = LogisticRegression(random_state=81).fit(X_train, y_train)\n",
    "y_pred1 = mod1.predict(X_validate)\n"
   ]
  },
  {
   "cell_type": "code",
   "execution_count": 3153,
   "metadata": {},
   "outputs": [],
   "source": [
    "def generate_model_report(y_actual, y_predicted):\n",
    "    print(\"Accuracy = \" , accuracy_score(y_actual, y_predicted))\n",
    "    print(\"Precision = \" ,precision_score(y_actual, y_predicted))\n",
    "    print(\"Recall = \" ,recall_score(y_actual, y_predicted))\n",
    "    print(\"F1 Score = \" ,f1_score(y_actual, y_predicted))\n",
    "    pass"
   ]
  },
  {
   "cell_type": "code",
   "execution_count": 3154,
   "metadata": {},
   "outputs": [
    {
     "name": "stdout",
     "output_type": "stream",
     "text": [
      "[[3152    0]\n",
      " [   5    3]]\n"
     ]
    }
   ],
   "source": [
    "from sklearn.metrics import confusion_matrix\n",
    "confusion_matrix = confusion_matrix(y_validate, y_pred1)\n",
    "print(confusion_matrix)"
   ]
  },
  {
   "cell_type": "code",
   "execution_count": 3155,
   "metadata": {},
   "outputs": [
    {
     "name": "stdout",
     "output_type": "stream",
     "text": [
      "Accuracy =  0.9984177215189873\n",
      "Precision =  1.0\n",
      "Recall =  0.375\n",
      "F1 Score =  0.5454545454545454\n"
     ]
    }
   ],
   "source": [
    "generate_model_report(y_validate, y_pred1)"
   ]
  },
  {
   "cell_type": "markdown",
   "metadata": {},
   "source": [
    "#### Recall is low lets try class weight"
   ]
  },
  {
   "cell_type": "markdown",
   "metadata": {},
   "source": [
    "## Model 2- With class weight - \"Balanced\""
   ]
  },
  {
   "cell_type": "code",
   "execution_count": 3156,
   "metadata": {},
   "outputs": [],
   "source": [
    "mod2 = LogisticRegression(class_weight='balanced',random_state=82).fit(X_train, y_train)"
   ]
  },
  {
   "cell_type": "code",
   "execution_count": 3157,
   "metadata": {},
   "outputs": [],
   "source": [
    "from sklearn.utils import class_weight"
   ]
  },
  {
   "cell_type": "code",
   "execution_count": 3158,
   "metadata": {},
   "outputs": [
    {
     "data": {
      "text/plain": [
       "array([  0.50100433, 249.42105263])"
      ]
     },
     "execution_count": 3158,
     "metadata": {},
     "output_type": "execute_result"
    }
   ],
   "source": [
    "class_weight.compute_class_weight('balanced', np.unique(y_train), y_train)"
   ]
  },
  {
   "cell_type": "code",
   "execution_count": 3159,
   "metadata": {},
   "outputs": [],
   "source": [
    "y_pred2 = mod2.predict(X_validate)"
   ]
  },
  {
   "cell_type": "code",
   "execution_count": 3160,
   "metadata": {},
   "outputs": [
    {
     "name": "stdout",
     "output_type": "stream",
     "text": [
      "[[3139   13]\n",
      " [   0    8]]\n"
     ]
    }
   ],
   "source": [
    "from sklearn.metrics import confusion_matrix\n",
    "confusion_matrix = confusion_matrix(y_validate, y_pred2)\n",
    "print(confusion_matrix)"
   ]
  },
  {
   "cell_type": "code",
   "execution_count": 3161,
   "metadata": {},
   "outputs": [
    {
     "name": "stdout",
     "output_type": "stream",
     "text": [
      "Accuracy =  0.9958860759493671\n",
      "Precision =  0.38095238095238093\n",
      "Recall =  1.0\n",
      "F1 Score =  0.5517241379310345\n"
     ]
    }
   ],
   "source": [
    "generate_model_report(y_validate, y_pred2)"
   ]
  },
  {
   "cell_type": "markdown",
   "metadata": {},
   "source": [
    "#### This model did not do that well!! The F1 score is quite low."
   ]
  },
  {
   "cell_type": "markdown",
   "metadata": {},
   "source": [
    "### We will generate Range of weights with GridSearchCV\n"
   ]
  },
  {
   "cell_type": "markdown",
   "metadata": {},
   "source": [
    "## Model 3- \"with GridSearchCV\""
   ]
  },
  {
   "cell_type": "code",
   "execution_count": 3162,
   "metadata": {},
   "outputs": [
    {
     "name": "stdout",
     "output_type": "stream",
     "text": [
      "Best parameters : {'class_weight': {0: 0.19210526315789472, 1: 0.8078947368421052}}\n"
     ]
    }
   ],
   "source": [
    "weights = np.linspace(0.05, 0.95, 20)\n",
    "gsc = GridSearchCV(\n",
    "    estimator=LogisticRegression(random_state=83),\n",
    "    param_grid={\n",
    "        'class_weight': [{0: x, 1: 1.0-x} for x in weights]\n",
    "    },\n",
    "    scoring='f1',\n",
    "    cv=5\n",
    ")\n",
    "\n",
    "grid_result = gsc.fit(X_train, y_train)\n",
    "print(\"Best parameters : %s\" % grid_result.best_params_)"
   ]
  },
  {
   "cell_type": "code",
   "execution_count": 3163,
   "metadata": {},
   "outputs": [],
   "source": [
    "mod3 = LogisticRegression(**grid_result.best_params_, random_state=84).fit(X_train, y_train)"
   ]
  },
  {
   "cell_type": "code",
   "execution_count": 3164,
   "metadata": {},
   "outputs": [],
   "source": [
    "y_pred3 = mod3.predict(X_validate)"
   ]
  },
  {
   "cell_type": "code",
   "execution_count": 3165,
   "metadata": {},
   "outputs": [
    {
     "name": "stdout",
     "output_type": "stream",
     "text": [
      "[[3151    1]\n",
      " [   4    4]]\n"
     ]
    }
   ],
   "source": [
    "from sklearn.metrics import confusion_matrix\n",
    "confusion_matrix = confusion_matrix(y_validate, y_pred3)\n",
    "print(confusion_matrix)"
   ]
  },
  {
   "cell_type": "markdown",
   "metadata": {},
   "source": [
    "#### The False positive has reduced."
   ]
  },
  {
   "cell_type": "code",
   "execution_count": 3166,
   "metadata": {},
   "outputs": [
    {
     "name": "stdout",
     "output_type": "stream",
     "text": [
      "Accuracy =  0.9984177215189873\n",
      "Precision =  0.8\n",
      "Recall =  0.5\n",
      "F1 Score =  0.6153846153846154\n"
     ]
    }
   ],
   "source": [
    "generate_model_report(y_validate, y_pred3)"
   ]
  },
  {
   "cell_type": "markdown",
   "metadata": {},
   "source": [
    "#### F1 Score has increased but  Recall is still low."
   ]
  },
  {
   "cell_type": "markdown",
   "metadata": {},
   "source": [
    "# Model building with balancing Class\n",
    "\n"
   ]
  },
  {
   "cell_type": "markdown",
   "metadata": {},
   "source": [
    "#### Perform class balancing with :\n",
    "- SMOTE"
   ]
  },
  {
   "cell_type": "markdown",
   "metadata": {},
   "source": [
    "## SMOTE + RandomForestClassifier"
   ]
  },
  {
   "cell_type": "markdown",
   "metadata": {},
   "source": [
    "### Model4"
   ]
  },
  {
   "cell_type": "code",
   "execution_count": 3167,
   "metadata": {},
   "outputs": [],
   "source": [
    "from imblearn.over_sampling import SMOTE\n",
    "from sklearn.pipeline import make_pipeline\n",
    "from imblearn.pipeline import make_pipeline as make_pipeline_imb\n",
    "from sklearn.ensemble import RandomForestClassifier\n",
    "\n",
    "RMC = RandomForestClassifier"
   ]
  },
  {
   "cell_type": "code",
   "execution_count": 3168,
   "metadata": {},
   "outputs": [],
   "source": [
    "smote_pipeline = make_pipeline_imb(SMOTE(random_state=4), \\\n",
    "                                   RMC(random_state=42))\n",
    "\n",
    "mod4= smote_pipeline.fit(X_train, y_train)\n",
    "y_pred4  = mod4.predict(X_validate)"
   ]
  },
  {
   "cell_type": "code",
   "execution_count": 3169,
   "metadata": {},
   "outputs": [
    {
     "name": "stdout",
     "output_type": "stream",
     "text": [
      "[[3151    1]\n",
      " [   3    5]]\n"
     ]
    }
   ],
   "source": [
    "from sklearn.metrics import confusion_matrix\n",
    "confusion_matrix = confusion_matrix(y_validate, y_pred4)\n",
    "print(confusion_matrix)"
   ]
  },
  {
   "cell_type": "code",
   "execution_count": 3170,
   "metadata": {},
   "outputs": [
    {
     "name": "stdout",
     "output_type": "stream",
     "text": [
      "Accuracy =  0.9987341772151899\n",
      "Precision =  0.8333333333333334\n",
      "Recall =  0.625\n",
      "F1 Score =  0.7142857142857143\n"
     ]
    }
   ],
   "source": [
    "generate_model_report(y_validate, y_pred4)"
   ]
  },
  {
   "cell_type": "markdown",
   "metadata": {},
   "source": [
    "#### Scores have increased. Decent Model"
   ]
  },
  {
   "cell_type": "markdown",
   "metadata": {},
   "source": [
    "## Hyper Parameter Tuning(RandomForestClassifier)\n",
    "\n",
    "GridSearchCV"
   ]
  },
  {
   "cell_type": "code",
   "execution_count": 3171,
   "metadata": {},
   "outputs": [],
   "source": [
    "from sklearn.ensemble import RandomForestClassifier\n",
    "from sklearn.model_selection import GridSearchCV, cross_val_score"
   ]
  },
  {
   "cell_type": "markdown",
   "metadata": {},
   "source": [
    "### Model 5"
   ]
  },
  {
   "cell_type": "code",
   "execution_count": 3172,
   "metadata": {},
   "outputs": [],
   "source": [
    "param_grid = {\"max_depth\": [5,6, 2,None],\n",
    "              \"n_estimators\":[8,10,12],\n",
    "              \"max_features\": [6,7,8]}"
   ]
  },
  {
   "cell_type": "code",
   "execution_count": 3173,
   "metadata": {},
   "outputs": [
    {
     "name": "stderr",
     "output_type": "stream",
     "text": [
      "[Parallel(n_jobs=1)]: Using backend SequentialBackend with 1 concurrent workers.\n",
      "[Parallel(n_jobs=1)]: Done   8 out of   8 | elapsed:    0.0s finished\n",
      "[Parallel(n_jobs=1)]: Using backend SequentialBackend with 1 concurrent workers.\n",
      "[Parallel(n_jobs=1)]: Done   8 out of   8 | elapsed:    0.0s finished\n",
      "[Parallel(n_jobs=1)]: Using backend SequentialBackend with 1 concurrent workers.\n",
      "[Parallel(n_jobs=1)]: Done   8 out of   8 | elapsed:    0.0s finished\n",
      "[Parallel(n_jobs=1)]: Using backend SequentialBackend with 1 concurrent workers.\n",
      "[Parallel(n_jobs=1)]: Done   8 out of   8 | elapsed:    0.0s finished\n",
      "[Parallel(n_jobs=1)]: Using backend SequentialBackend with 1 concurrent workers.\n",
      "[Parallel(n_jobs=1)]: Done   8 out of   8 | elapsed:    0.0s finished\n",
      "[Parallel(n_jobs=1)]: Using backend SequentialBackend with 1 concurrent workers.\n",
      "[Parallel(n_jobs=1)]: Done   8 out of   8 | elapsed:    0.0s finished\n",
      "[Parallel(n_jobs=1)]: Using backend SequentialBackend with 1 concurrent workers.\n",
      "[Parallel(n_jobs=1)]: Done   8 out of   8 | elapsed:    0.0s finished\n",
      "[Parallel(n_jobs=1)]: Using backend SequentialBackend with 1 concurrent workers.\n",
      "[Parallel(n_jobs=1)]: Done   8 out of   8 | elapsed:    0.0s finished\n",
      "[Parallel(n_jobs=1)]: Using backend SequentialBackend with 1 concurrent workers.\n",
      "[Parallel(n_jobs=1)]: Done   8 out of   8 | elapsed:    0.0s finished\n",
      "[Parallel(n_jobs=1)]: Using backend SequentialBackend with 1 concurrent workers.\n",
      "[Parallel(n_jobs=1)]: Done   8 out of   8 | elapsed:    0.0s finished\n",
      "[Parallel(n_jobs=1)]: Using backend SequentialBackend with 1 concurrent workers.\n",
      "[Parallel(n_jobs=1)]: Done  10 out of  10 | elapsed:    0.0s finished\n",
      "[Parallel(n_jobs=1)]: Using backend SequentialBackend with 1 concurrent workers.\n",
      "[Parallel(n_jobs=1)]: Done  10 out of  10 | elapsed:    0.0s finished\n",
      "[Parallel(n_jobs=1)]: Using backend SequentialBackend with 1 concurrent workers.\n",
      "[Parallel(n_jobs=1)]: Done  10 out of  10 | elapsed:    0.0s finished\n",
      "[Parallel(n_jobs=1)]: Using backend SequentialBackend with 1 concurrent workers.\n",
      "[Parallel(n_jobs=1)]: Done  10 out of  10 | elapsed:    0.0s finished\n",
      "[Parallel(n_jobs=1)]: Using backend SequentialBackend with 1 concurrent workers.\n",
      "[Parallel(n_jobs=1)]: Done  10 out of  10 | elapsed:    0.0s finished\n",
      "[Parallel(n_jobs=1)]: Using backend SequentialBackend with 1 concurrent workers.\n",
      "[Parallel(n_jobs=1)]: Done  10 out of  10 | elapsed:    0.0s finished\n",
      "[Parallel(n_jobs=1)]: Using backend SequentialBackend with 1 concurrent workers.\n",
      "[Parallel(n_jobs=1)]: Done  10 out of  10 | elapsed:    0.0s finished\n",
      "[Parallel(n_jobs=1)]: Using backend SequentialBackend with 1 concurrent workers.\n",
      "[Parallel(n_jobs=1)]: Done  10 out of  10 | elapsed:    0.0s finished\n",
      "[Parallel(n_jobs=1)]: Using backend SequentialBackend with 1 concurrent workers.\n",
      "[Parallel(n_jobs=1)]: Done  10 out of  10 | elapsed:    0.0s finished\n",
      "[Parallel(n_jobs=1)]: Using backend SequentialBackend with 1 concurrent workers.\n",
      "[Parallel(n_jobs=1)]: Done  10 out of  10 | elapsed:    0.0s finished\n",
      "[Parallel(n_jobs=1)]: Using backend SequentialBackend with 1 concurrent workers.\n",
      "[Parallel(n_jobs=1)]: Done  12 out of  12 | elapsed:    0.0s finished\n",
      "[Parallel(n_jobs=1)]: Using backend SequentialBackend with 1 concurrent workers.\n",
      "[Parallel(n_jobs=1)]: Done  12 out of  12 | elapsed:    0.0s finished\n",
      "[Parallel(n_jobs=1)]: Using backend SequentialBackend with 1 concurrent workers.\n",
      "[Parallel(n_jobs=1)]: Done  12 out of  12 | elapsed:    0.0s finished\n",
      "[Parallel(n_jobs=1)]: Using backend SequentialBackend with 1 concurrent workers.\n",
      "[Parallel(n_jobs=1)]: Done  12 out of  12 | elapsed:    0.0s finished\n",
      "[Parallel(n_jobs=1)]: Using backend SequentialBackend with 1 concurrent workers.\n",
      "[Parallel(n_jobs=1)]: Done  12 out of  12 | elapsed:    0.0s finished\n",
      "[Parallel(n_jobs=1)]: Using backend SequentialBackend with 1 concurrent workers.\n",
      "[Parallel(n_jobs=1)]: Done  12 out of  12 | elapsed:    0.0s finished\n",
      "[Parallel(n_jobs=1)]: Using backend SequentialBackend with 1 concurrent workers.\n",
      "[Parallel(n_jobs=1)]: Done  12 out of  12 | elapsed:    0.0s finished\n",
      "[Parallel(n_jobs=1)]: Using backend SequentialBackend with 1 concurrent workers.\n",
      "[Parallel(n_jobs=1)]: Done  12 out of  12 | elapsed:    0.0s finished\n",
      "[Parallel(n_jobs=1)]: Using backend SequentialBackend with 1 concurrent workers.\n",
      "[Parallel(n_jobs=1)]: Done  12 out of  12 | elapsed:    0.0s finished\n",
      "[Parallel(n_jobs=1)]: Using backend SequentialBackend with 1 concurrent workers.\n",
      "[Parallel(n_jobs=1)]: Done  12 out of  12 | elapsed:    0.0s finished\n",
      "[Parallel(n_jobs=1)]: Using backend SequentialBackend with 1 concurrent workers.\n",
      "[Parallel(n_jobs=1)]: Done   8 out of   8 | elapsed:    0.0s finished\n",
      "[Parallel(n_jobs=1)]: Using backend SequentialBackend with 1 concurrent workers.\n",
      "[Parallel(n_jobs=1)]: Done   8 out of   8 | elapsed:    0.0s finished\n",
      "[Parallel(n_jobs=1)]: Using backend SequentialBackend with 1 concurrent workers.\n",
      "[Parallel(n_jobs=1)]: Done   8 out of   8 | elapsed:    0.0s finished\n",
      "[Parallel(n_jobs=1)]: Using backend SequentialBackend with 1 concurrent workers.\n",
      "[Parallel(n_jobs=1)]: Done   8 out of   8 | elapsed:    0.0s finished\n",
      "[Parallel(n_jobs=1)]: Using backend SequentialBackend with 1 concurrent workers.\n",
      "[Parallel(n_jobs=1)]: Done   8 out of   8 | elapsed:    0.0s finished\n",
      "[Parallel(n_jobs=1)]: Using backend SequentialBackend with 1 concurrent workers.\n",
      "[Parallel(n_jobs=1)]: Done   8 out of   8 | elapsed:    0.0s finished\n",
      "[Parallel(n_jobs=1)]: Using backend SequentialBackend with 1 concurrent workers.\n",
      "[Parallel(n_jobs=1)]: Done   8 out of   8 | elapsed:    0.0s finished\n",
      "[Parallel(n_jobs=1)]: Using backend SequentialBackend with 1 concurrent workers.\n",
      "[Parallel(n_jobs=1)]: Done   8 out of   8 | elapsed:    0.0s finished\n",
      "[Parallel(n_jobs=1)]: Using backend SequentialBackend with 1 concurrent workers.\n",
      "[Parallel(n_jobs=1)]: Done   8 out of   8 | elapsed:    0.0s finished\n",
      "[Parallel(n_jobs=1)]: Using backend SequentialBackend with 1 concurrent workers.\n",
      "[Parallel(n_jobs=1)]: Done   8 out of   8 | elapsed:    0.0s finished\n",
      "[Parallel(n_jobs=1)]: Using backend SequentialBackend with 1 concurrent workers.\n",
      "[Parallel(n_jobs=1)]: Done  10 out of  10 | elapsed:    0.0s finished\n",
      "[Parallel(n_jobs=1)]: Using backend SequentialBackend with 1 concurrent workers.\n",
      "[Parallel(n_jobs=1)]: Done  10 out of  10 | elapsed:    0.0s finished\n",
      "[Parallel(n_jobs=1)]: Using backend SequentialBackend with 1 concurrent workers.\n",
      "[Parallel(n_jobs=1)]: Done  10 out of  10 | elapsed:    0.0s finished\n",
      "[Parallel(n_jobs=1)]: Using backend SequentialBackend with 1 concurrent workers.\n",
      "[Parallel(n_jobs=1)]: Done  10 out of  10 | elapsed:    0.0s finished\n",
      "[Parallel(n_jobs=1)]: Using backend SequentialBackend with 1 concurrent workers.\n",
      "[Parallel(n_jobs=1)]: Done  10 out of  10 | elapsed:    0.0s finished\n",
      "[Parallel(n_jobs=1)]: Using backend SequentialBackend with 1 concurrent workers.\n",
      "[Parallel(n_jobs=1)]: Done  10 out of  10 | elapsed:    0.0s finished\n",
      "[Parallel(n_jobs=1)]: Using backend SequentialBackend with 1 concurrent workers.\n",
      "[Parallel(n_jobs=1)]: Done  10 out of  10 | elapsed:    0.0s finished\n",
      "[Parallel(n_jobs=1)]: Using backend SequentialBackend with 1 concurrent workers.\n",
      "[Parallel(n_jobs=1)]: Done  10 out of  10 | elapsed:    0.0s finished\n",
      "[Parallel(n_jobs=1)]: Using backend SequentialBackend with 1 concurrent workers.\n",
      "[Parallel(n_jobs=1)]: Done  10 out of  10 | elapsed:    0.0s finished\n",
      "[Parallel(n_jobs=1)]: Using backend SequentialBackend with 1 concurrent workers.\n",
      "[Parallel(n_jobs=1)]: Done  10 out of  10 | elapsed:    0.0s finished\n",
      "[Parallel(n_jobs=1)]: Using backend SequentialBackend with 1 concurrent workers.\n",
      "[Parallel(n_jobs=1)]: Done  12 out of  12 | elapsed:    0.0s finished\n",
      "[Parallel(n_jobs=1)]: Using backend SequentialBackend with 1 concurrent workers.\n",
      "[Parallel(n_jobs=1)]: Done  12 out of  12 | elapsed:    0.0s finished\n",
      "[Parallel(n_jobs=1)]: Using backend SequentialBackend with 1 concurrent workers.\n",
      "[Parallel(n_jobs=1)]: Done  12 out of  12 | elapsed:    0.0s finished\n",
      "[Parallel(n_jobs=1)]: Using backend SequentialBackend with 1 concurrent workers.\n",
      "[Parallel(n_jobs=1)]: Done  12 out of  12 | elapsed:    0.0s finished\n",
      "[Parallel(n_jobs=1)]: Using backend SequentialBackend with 1 concurrent workers.\n"
     ]
    },
    {
     "name": "stderr",
     "output_type": "stream",
     "text": [
      "[Parallel(n_jobs=1)]: Done  12 out of  12 | elapsed:    0.0s finished\n",
      "[Parallel(n_jobs=1)]: Using backend SequentialBackend with 1 concurrent workers.\n",
      "[Parallel(n_jobs=1)]: Done  12 out of  12 | elapsed:    0.0s finished\n",
      "[Parallel(n_jobs=1)]: Using backend SequentialBackend with 1 concurrent workers.\n",
      "[Parallel(n_jobs=1)]: Done  12 out of  12 | elapsed:    0.0s finished\n",
      "[Parallel(n_jobs=1)]: Using backend SequentialBackend with 1 concurrent workers.\n",
      "[Parallel(n_jobs=1)]: Done  12 out of  12 | elapsed:    0.0s finished\n",
      "[Parallel(n_jobs=1)]: Using backend SequentialBackend with 1 concurrent workers.\n",
      "[Parallel(n_jobs=1)]: Done  12 out of  12 | elapsed:    0.0s finished\n",
      "[Parallel(n_jobs=1)]: Using backend SequentialBackend with 1 concurrent workers.\n",
      "[Parallel(n_jobs=1)]: Done  12 out of  12 | elapsed:    0.0s finished\n",
      "[Parallel(n_jobs=1)]: Using backend SequentialBackend with 1 concurrent workers.\n",
      "[Parallel(n_jobs=1)]: Done   8 out of   8 | elapsed:    0.0s finished\n",
      "[Parallel(n_jobs=1)]: Using backend SequentialBackend with 1 concurrent workers.\n",
      "[Parallel(n_jobs=1)]: Done   8 out of   8 | elapsed:    0.0s finished\n",
      "[Parallel(n_jobs=1)]: Using backend SequentialBackend with 1 concurrent workers.\n",
      "[Parallel(n_jobs=1)]: Done   8 out of   8 | elapsed:    0.0s finished\n",
      "[Parallel(n_jobs=1)]: Using backend SequentialBackend with 1 concurrent workers.\n",
      "[Parallel(n_jobs=1)]: Done   8 out of   8 | elapsed:    0.0s finished\n",
      "[Parallel(n_jobs=1)]: Using backend SequentialBackend with 1 concurrent workers.\n",
      "[Parallel(n_jobs=1)]: Done   8 out of   8 | elapsed:    0.0s finished\n",
      "[Parallel(n_jobs=1)]: Using backend SequentialBackend with 1 concurrent workers.\n",
      "[Parallel(n_jobs=1)]: Done   8 out of   8 | elapsed:    0.0s finished\n",
      "[Parallel(n_jobs=1)]: Using backend SequentialBackend with 1 concurrent workers.\n",
      "[Parallel(n_jobs=1)]: Done   8 out of   8 | elapsed:    0.0s finished\n",
      "[Parallel(n_jobs=1)]: Using backend SequentialBackend with 1 concurrent workers.\n",
      "[Parallel(n_jobs=1)]: Done   8 out of   8 | elapsed:    0.0s finished\n",
      "[Parallel(n_jobs=1)]: Using backend SequentialBackend with 1 concurrent workers.\n",
      "[Parallel(n_jobs=1)]: Done   8 out of   8 | elapsed:    0.0s finished\n",
      "[Parallel(n_jobs=1)]: Using backend SequentialBackend with 1 concurrent workers.\n",
      "[Parallel(n_jobs=1)]: Done   8 out of   8 | elapsed:    0.0s finished\n",
      "[Parallel(n_jobs=1)]: Using backend SequentialBackend with 1 concurrent workers.\n",
      "[Parallel(n_jobs=1)]: Done  10 out of  10 | elapsed:    0.0s finished\n",
      "[Parallel(n_jobs=1)]: Using backend SequentialBackend with 1 concurrent workers.\n",
      "[Parallel(n_jobs=1)]: Done  10 out of  10 | elapsed:    0.0s finished\n",
      "[Parallel(n_jobs=1)]: Using backend SequentialBackend with 1 concurrent workers.\n",
      "[Parallel(n_jobs=1)]: Done  10 out of  10 | elapsed:    0.0s finished\n",
      "[Parallel(n_jobs=1)]: Using backend SequentialBackend with 1 concurrent workers.\n",
      "[Parallel(n_jobs=1)]: Done  10 out of  10 | elapsed:    0.0s finished\n",
      "[Parallel(n_jobs=1)]: Using backend SequentialBackend with 1 concurrent workers.\n",
      "[Parallel(n_jobs=1)]: Done  10 out of  10 | elapsed:    0.0s finished\n",
      "[Parallel(n_jobs=1)]: Using backend SequentialBackend with 1 concurrent workers.\n",
      "[Parallel(n_jobs=1)]: Done  10 out of  10 | elapsed:    0.0s finished\n",
      "[Parallel(n_jobs=1)]: Using backend SequentialBackend with 1 concurrent workers.\n",
      "[Parallel(n_jobs=1)]: Done  10 out of  10 | elapsed:    0.0s finished\n",
      "[Parallel(n_jobs=1)]: Using backend SequentialBackend with 1 concurrent workers.\n",
      "[Parallel(n_jobs=1)]: Done  10 out of  10 | elapsed:    0.0s finished\n",
      "[Parallel(n_jobs=1)]: Using backend SequentialBackend with 1 concurrent workers.\n",
      "[Parallel(n_jobs=1)]: Done  10 out of  10 | elapsed:    0.0s finished\n",
      "[Parallel(n_jobs=1)]: Using backend SequentialBackend with 1 concurrent workers.\n",
      "[Parallel(n_jobs=1)]: Done  10 out of  10 | elapsed:    0.0s finished\n",
      "[Parallel(n_jobs=1)]: Using backend SequentialBackend with 1 concurrent workers.\n",
      "[Parallel(n_jobs=1)]: Done  12 out of  12 | elapsed:    0.0s finished\n",
      "[Parallel(n_jobs=1)]: Using backend SequentialBackend with 1 concurrent workers.\n",
      "[Parallel(n_jobs=1)]: Done  12 out of  12 | elapsed:    0.0s finished\n",
      "[Parallel(n_jobs=1)]: Using backend SequentialBackend with 1 concurrent workers.\n",
      "[Parallel(n_jobs=1)]: Done  12 out of  12 | elapsed:    0.0s finished\n",
      "[Parallel(n_jobs=1)]: Using backend SequentialBackend with 1 concurrent workers.\n",
      "[Parallel(n_jobs=1)]: Done  12 out of  12 | elapsed:    0.0s finished\n",
      "[Parallel(n_jobs=1)]: Using backend SequentialBackend with 1 concurrent workers.\n",
      "[Parallel(n_jobs=1)]: Done  12 out of  12 | elapsed:    0.0s finished\n",
      "[Parallel(n_jobs=1)]: Using backend SequentialBackend with 1 concurrent workers.\n",
      "[Parallel(n_jobs=1)]: Done  12 out of  12 | elapsed:    0.0s finished\n",
      "[Parallel(n_jobs=1)]: Using backend SequentialBackend with 1 concurrent workers.\n",
      "[Parallel(n_jobs=1)]: Done  12 out of  12 | elapsed:    0.0s finished\n",
      "[Parallel(n_jobs=1)]: Using backend SequentialBackend with 1 concurrent workers.\n",
      "[Parallel(n_jobs=1)]: Done  12 out of  12 | elapsed:    0.0s finished\n",
      "[Parallel(n_jobs=1)]: Using backend SequentialBackend with 1 concurrent workers.\n",
      "[Parallel(n_jobs=1)]: Done  12 out of  12 | elapsed:    0.0s finished\n",
      "[Parallel(n_jobs=1)]: Using backend SequentialBackend with 1 concurrent workers.\n",
      "[Parallel(n_jobs=1)]: Done  12 out of  12 | elapsed:    0.0s finished\n",
      "[Parallel(n_jobs=1)]: Using backend SequentialBackend with 1 concurrent workers.\n",
      "[Parallel(n_jobs=1)]: Done   8 out of   8 | elapsed:    0.0s finished\n",
      "[Parallel(n_jobs=1)]: Using backend SequentialBackend with 1 concurrent workers.\n",
      "[Parallel(n_jobs=1)]: Done   8 out of   8 | elapsed:    0.0s finished\n",
      "[Parallel(n_jobs=1)]: Using backend SequentialBackend with 1 concurrent workers.\n",
      "[Parallel(n_jobs=1)]: Done   8 out of   8 | elapsed:    0.0s finished\n",
      "[Parallel(n_jobs=1)]: Using backend SequentialBackend with 1 concurrent workers.\n",
      "[Parallel(n_jobs=1)]: Done   8 out of   8 | elapsed:    0.0s finished\n",
      "[Parallel(n_jobs=1)]: Using backend SequentialBackend with 1 concurrent workers.\n",
      "[Parallel(n_jobs=1)]: Done   8 out of   8 | elapsed:    0.0s finished\n",
      "[Parallel(n_jobs=1)]: Using backend SequentialBackend with 1 concurrent workers.\n",
      "[Parallel(n_jobs=1)]: Done   8 out of   8 | elapsed:    0.0s finished\n",
      "[Parallel(n_jobs=1)]: Using backend SequentialBackend with 1 concurrent workers.\n",
      "[Parallel(n_jobs=1)]: Done   8 out of   8 | elapsed:    0.0s finished\n",
      "[Parallel(n_jobs=1)]: Using backend SequentialBackend with 1 concurrent workers.\n",
      "[Parallel(n_jobs=1)]: Done   8 out of   8 | elapsed:    0.0s finished\n",
      "[Parallel(n_jobs=1)]: Using backend SequentialBackend with 1 concurrent workers.\n",
      "[Parallel(n_jobs=1)]: Done   8 out of   8 | elapsed:    0.0s finished\n",
      "[Parallel(n_jobs=1)]: Using backend SequentialBackend with 1 concurrent workers.\n",
      "[Parallel(n_jobs=1)]: Done   8 out of   8 | elapsed:    0.0s finished\n",
      "[Parallel(n_jobs=1)]: Using backend SequentialBackend with 1 concurrent workers.\n",
      "[Parallel(n_jobs=1)]: Done  10 out of  10 | elapsed:    0.0s finished\n",
      "[Parallel(n_jobs=1)]: Using backend SequentialBackend with 1 concurrent workers.\n",
      "[Parallel(n_jobs=1)]: Done  10 out of  10 | elapsed:    0.0s finished\n",
      "[Parallel(n_jobs=1)]: Using backend SequentialBackend with 1 concurrent workers.\n",
      "[Parallel(n_jobs=1)]: Done  10 out of  10 | elapsed:    0.0s finished\n",
      "[Parallel(n_jobs=1)]: Using backend SequentialBackend with 1 concurrent workers.\n",
      "[Parallel(n_jobs=1)]: Done  10 out of  10 | elapsed:    0.0s finished\n",
      "[Parallel(n_jobs=1)]: Using backend SequentialBackend with 1 concurrent workers.\n",
      "[Parallel(n_jobs=1)]: Done  10 out of  10 | elapsed:    0.0s finished\n",
      "[Parallel(n_jobs=1)]: Using backend SequentialBackend with 1 concurrent workers.\n",
      "[Parallel(n_jobs=1)]: Done  10 out of  10 | elapsed:    0.0s finished\n",
      "[Parallel(n_jobs=1)]: Using backend SequentialBackend with 1 concurrent workers.\n",
      "[Parallel(n_jobs=1)]: Done  10 out of  10 | elapsed:    0.0s finished\n",
      "[Parallel(n_jobs=1)]: Using backend SequentialBackend with 1 concurrent workers.\n",
      "[Parallel(n_jobs=1)]: Done  10 out of  10 | elapsed:    0.0s finished\n",
      "[Parallel(n_jobs=1)]: Using backend SequentialBackend with 1 concurrent workers.\n",
      "[Parallel(n_jobs=1)]: Done  10 out of  10 | elapsed:    0.0s finished\n",
      "[Parallel(n_jobs=1)]: Using backend SequentialBackend with 1 concurrent workers.\n",
      "[Parallel(n_jobs=1)]: Done  10 out of  10 | elapsed:    0.0s finished\n",
      "[Parallel(n_jobs=1)]: Using backend SequentialBackend with 1 concurrent workers.\n",
      "[Parallel(n_jobs=1)]: Done  12 out of  12 | elapsed:    0.0s finished\n",
      "[Parallel(n_jobs=1)]: Using backend SequentialBackend with 1 concurrent workers.\n",
      "[Parallel(n_jobs=1)]: Done  12 out of  12 | elapsed:    0.0s finished\n",
      "[Parallel(n_jobs=1)]: Using backend SequentialBackend with 1 concurrent workers.\n",
      "[Parallel(n_jobs=1)]: Done  12 out of  12 | elapsed:    0.0s finished\n",
      "[Parallel(n_jobs=1)]: Using backend SequentialBackend with 1 concurrent workers.\n",
      "[Parallel(n_jobs=1)]: Done  12 out of  12 | elapsed:    0.0s finished\n",
      "[Parallel(n_jobs=1)]: Using backend SequentialBackend with 1 concurrent workers.\n",
      "[Parallel(n_jobs=1)]: Done  12 out of  12 | elapsed:    0.0s finished\n",
      "[Parallel(n_jobs=1)]: Using backend SequentialBackend with 1 concurrent workers.\n",
      "[Parallel(n_jobs=1)]: Done  12 out of  12 | elapsed:    0.0s finished\n"
     ]
    },
    {
     "name": "stderr",
     "output_type": "stream",
     "text": [
      "[Parallel(n_jobs=1)]: Using backend SequentialBackend with 1 concurrent workers.\n",
      "[Parallel(n_jobs=1)]: Done  12 out of  12 | elapsed:    0.0s finished\n",
      "[Parallel(n_jobs=1)]: Using backend SequentialBackend with 1 concurrent workers.\n",
      "[Parallel(n_jobs=1)]: Done  12 out of  12 | elapsed:    0.0s finished\n",
      "[Parallel(n_jobs=1)]: Using backend SequentialBackend with 1 concurrent workers.\n",
      "[Parallel(n_jobs=1)]: Done  12 out of  12 | elapsed:    0.0s finished\n",
      "[Parallel(n_jobs=1)]: Using backend SequentialBackend with 1 concurrent workers.\n",
      "[Parallel(n_jobs=1)]: Done  12 out of  12 | elapsed:    0.0s finished\n",
      "[Parallel(n_jobs=1)]: Using backend SequentialBackend with 1 concurrent workers.\n",
      "[Parallel(n_jobs=1)]: Done   8 out of   8 | elapsed:    0.0s finished\n",
      "[Parallel(n_jobs=1)]: Using backend SequentialBackend with 1 concurrent workers.\n",
      "[Parallel(n_jobs=1)]: Done   8 out of   8 | elapsed:    0.0s finished\n",
      "[Parallel(n_jobs=1)]: Using backend SequentialBackend with 1 concurrent workers.\n",
      "[Parallel(n_jobs=1)]: Done   8 out of   8 | elapsed:    0.0s finished\n",
      "[Parallel(n_jobs=1)]: Using backend SequentialBackend with 1 concurrent workers.\n",
      "[Parallel(n_jobs=1)]: Done   8 out of   8 | elapsed:    0.0s finished\n",
      "[Parallel(n_jobs=1)]: Using backend SequentialBackend with 1 concurrent workers.\n",
      "[Parallel(n_jobs=1)]: Done   8 out of   8 | elapsed:    0.0s finished\n",
      "[Parallel(n_jobs=1)]: Using backend SequentialBackend with 1 concurrent workers.\n",
      "[Parallel(n_jobs=1)]: Done   8 out of   8 | elapsed:    0.0s finished\n",
      "[Parallel(n_jobs=1)]: Using backend SequentialBackend with 1 concurrent workers.\n",
      "[Parallel(n_jobs=1)]: Done   8 out of   8 | elapsed:    0.0s finished\n",
      "[Parallel(n_jobs=1)]: Using backend SequentialBackend with 1 concurrent workers.\n",
      "[Parallel(n_jobs=1)]: Done   8 out of   8 | elapsed:    0.0s finished\n",
      "[Parallel(n_jobs=1)]: Using backend SequentialBackend with 1 concurrent workers.\n",
      "[Parallel(n_jobs=1)]: Done   8 out of   8 | elapsed:    0.0s finished\n",
      "[Parallel(n_jobs=1)]: Using backend SequentialBackend with 1 concurrent workers.\n",
      "[Parallel(n_jobs=1)]: Done   8 out of   8 | elapsed:    0.0s finished\n",
      "[Parallel(n_jobs=1)]: Using backend SequentialBackend with 1 concurrent workers.\n",
      "[Parallel(n_jobs=1)]: Done  10 out of  10 | elapsed:    0.0s finished\n",
      "[Parallel(n_jobs=1)]: Using backend SequentialBackend with 1 concurrent workers.\n",
      "[Parallel(n_jobs=1)]: Done  10 out of  10 | elapsed:    0.0s finished\n",
      "[Parallel(n_jobs=1)]: Using backend SequentialBackend with 1 concurrent workers.\n",
      "[Parallel(n_jobs=1)]: Done  10 out of  10 | elapsed:    0.0s finished\n",
      "[Parallel(n_jobs=1)]: Using backend SequentialBackend with 1 concurrent workers.\n",
      "[Parallel(n_jobs=1)]: Done  10 out of  10 | elapsed:    0.0s finished\n",
      "[Parallel(n_jobs=1)]: Using backend SequentialBackend with 1 concurrent workers.\n",
      "[Parallel(n_jobs=1)]: Done  10 out of  10 | elapsed:    0.0s finished\n",
      "[Parallel(n_jobs=1)]: Using backend SequentialBackend with 1 concurrent workers.\n",
      "[Parallel(n_jobs=1)]: Done  10 out of  10 | elapsed:    0.0s finished\n",
      "[Parallel(n_jobs=1)]: Using backend SequentialBackend with 1 concurrent workers.\n",
      "[Parallel(n_jobs=1)]: Done  10 out of  10 | elapsed:    0.0s finished\n",
      "[Parallel(n_jobs=1)]: Using backend SequentialBackend with 1 concurrent workers.\n",
      "[Parallel(n_jobs=1)]: Done  10 out of  10 | elapsed:    0.0s finished\n",
      "[Parallel(n_jobs=1)]: Using backend SequentialBackend with 1 concurrent workers.\n",
      "[Parallel(n_jobs=1)]: Done  10 out of  10 | elapsed:    0.0s finished\n",
      "[Parallel(n_jobs=1)]: Using backend SequentialBackend with 1 concurrent workers.\n",
      "[Parallel(n_jobs=1)]: Done  10 out of  10 | elapsed:    0.0s finished\n",
      "[Parallel(n_jobs=1)]: Using backend SequentialBackend with 1 concurrent workers.\n",
      "[Parallel(n_jobs=1)]: Done  12 out of  12 | elapsed:    0.0s finished\n",
      "[Parallel(n_jobs=1)]: Using backend SequentialBackend with 1 concurrent workers.\n",
      "[Parallel(n_jobs=1)]: Done  12 out of  12 | elapsed:    0.0s finished\n",
      "[Parallel(n_jobs=1)]: Using backend SequentialBackend with 1 concurrent workers.\n",
      "[Parallel(n_jobs=1)]: Done  12 out of  12 | elapsed:    0.0s finished\n",
      "[Parallel(n_jobs=1)]: Using backend SequentialBackend with 1 concurrent workers.\n",
      "[Parallel(n_jobs=1)]: Done  12 out of  12 | elapsed:    0.0s finished\n",
      "[Parallel(n_jobs=1)]: Using backend SequentialBackend with 1 concurrent workers.\n",
      "[Parallel(n_jobs=1)]: Done  12 out of  12 | elapsed:    0.0s finished\n",
      "[Parallel(n_jobs=1)]: Using backend SequentialBackend with 1 concurrent workers.\n",
      "[Parallel(n_jobs=1)]: Done  12 out of  12 | elapsed:    0.0s finished\n",
      "[Parallel(n_jobs=1)]: Using backend SequentialBackend with 1 concurrent workers.\n",
      "[Parallel(n_jobs=1)]: Done  12 out of  12 | elapsed:    0.0s finished\n",
      "[Parallel(n_jobs=1)]: Using backend SequentialBackend with 1 concurrent workers.\n",
      "[Parallel(n_jobs=1)]: Done  12 out of  12 | elapsed:    0.0s finished\n",
      "[Parallel(n_jobs=1)]: Using backend SequentialBackend with 1 concurrent workers.\n",
      "[Parallel(n_jobs=1)]: Done  12 out of  12 | elapsed:    0.0s finished\n",
      "[Parallel(n_jobs=1)]: Using backend SequentialBackend with 1 concurrent workers.\n",
      "[Parallel(n_jobs=1)]: Done  12 out of  12 | elapsed:    0.0s finished\n",
      "[Parallel(n_jobs=1)]: Using backend SequentialBackend with 1 concurrent workers.\n",
      "[Parallel(n_jobs=1)]: Done   8 out of   8 | elapsed:    0.0s finished\n",
      "[Parallel(n_jobs=1)]: Using backend SequentialBackend with 1 concurrent workers.\n",
      "[Parallel(n_jobs=1)]: Done   8 out of   8 | elapsed:    0.0s finished\n",
      "[Parallel(n_jobs=1)]: Using backend SequentialBackend with 1 concurrent workers.\n",
      "[Parallel(n_jobs=1)]: Done   8 out of   8 | elapsed:    0.0s finished\n",
      "[Parallel(n_jobs=1)]: Using backend SequentialBackend with 1 concurrent workers.\n",
      "[Parallel(n_jobs=1)]: Done   8 out of   8 | elapsed:    0.0s finished\n",
      "[Parallel(n_jobs=1)]: Using backend SequentialBackend with 1 concurrent workers.\n",
      "[Parallel(n_jobs=1)]: Done   8 out of   8 | elapsed:    0.0s finished\n",
      "[Parallel(n_jobs=1)]: Using backend SequentialBackend with 1 concurrent workers.\n",
      "[Parallel(n_jobs=1)]: Done   8 out of   8 | elapsed:    0.0s finished\n",
      "[Parallel(n_jobs=1)]: Using backend SequentialBackend with 1 concurrent workers.\n",
      "[Parallel(n_jobs=1)]: Done   8 out of   8 | elapsed:    0.0s finished\n",
      "[Parallel(n_jobs=1)]: Using backend SequentialBackend with 1 concurrent workers.\n",
      "[Parallel(n_jobs=1)]: Done   8 out of   8 | elapsed:    0.0s finished\n",
      "[Parallel(n_jobs=1)]: Using backend SequentialBackend with 1 concurrent workers.\n",
      "[Parallel(n_jobs=1)]: Done   8 out of   8 | elapsed:    0.0s finished\n",
      "[Parallel(n_jobs=1)]: Using backend SequentialBackend with 1 concurrent workers.\n",
      "[Parallel(n_jobs=1)]: Done   8 out of   8 | elapsed:    0.0s finished\n",
      "[Parallel(n_jobs=1)]: Using backend SequentialBackend with 1 concurrent workers.\n",
      "[Parallel(n_jobs=1)]: Done  10 out of  10 | elapsed:    0.0s finished\n",
      "[Parallel(n_jobs=1)]: Using backend SequentialBackend with 1 concurrent workers.\n",
      "[Parallel(n_jobs=1)]: Done  10 out of  10 | elapsed:    0.0s finished\n",
      "[Parallel(n_jobs=1)]: Using backend SequentialBackend with 1 concurrent workers.\n",
      "[Parallel(n_jobs=1)]: Done  10 out of  10 | elapsed:    0.0s finished\n",
      "[Parallel(n_jobs=1)]: Using backend SequentialBackend with 1 concurrent workers.\n",
      "[Parallel(n_jobs=1)]: Done  10 out of  10 | elapsed:    0.0s finished\n",
      "[Parallel(n_jobs=1)]: Using backend SequentialBackend with 1 concurrent workers.\n",
      "[Parallel(n_jobs=1)]: Done  10 out of  10 | elapsed:    0.0s finished\n",
      "[Parallel(n_jobs=1)]: Using backend SequentialBackend with 1 concurrent workers.\n",
      "[Parallel(n_jobs=1)]: Done  10 out of  10 | elapsed:    0.0s finished\n",
      "[Parallel(n_jobs=1)]: Using backend SequentialBackend with 1 concurrent workers.\n",
      "[Parallel(n_jobs=1)]: Done  10 out of  10 | elapsed:    0.0s finished\n",
      "[Parallel(n_jobs=1)]: Using backend SequentialBackend with 1 concurrent workers.\n",
      "[Parallel(n_jobs=1)]: Done  10 out of  10 | elapsed:    0.0s finished\n",
      "[Parallel(n_jobs=1)]: Using backend SequentialBackend with 1 concurrent workers.\n",
      "[Parallel(n_jobs=1)]: Done  10 out of  10 | elapsed:    0.0s finished\n",
      "[Parallel(n_jobs=1)]: Using backend SequentialBackend with 1 concurrent workers.\n",
      "[Parallel(n_jobs=1)]: Done  10 out of  10 | elapsed:    0.0s finished\n",
      "[Parallel(n_jobs=1)]: Using backend SequentialBackend with 1 concurrent workers.\n"
     ]
    },
    {
     "name": "stderr",
     "output_type": "stream",
     "text": [
      "[Parallel(n_jobs=1)]: Done  12 out of  12 | elapsed:    0.0s finished\n",
      "[Parallel(n_jobs=1)]: Using backend SequentialBackend with 1 concurrent workers.\n",
      "[Parallel(n_jobs=1)]: Done  12 out of  12 | elapsed:    0.0s finished\n",
      "[Parallel(n_jobs=1)]: Using backend SequentialBackend with 1 concurrent workers.\n",
      "[Parallel(n_jobs=1)]: Done  12 out of  12 | elapsed:    0.0s finished\n",
      "[Parallel(n_jobs=1)]: Using backend SequentialBackend with 1 concurrent workers.\n",
      "[Parallel(n_jobs=1)]: Done  12 out of  12 | elapsed:    0.0s finished\n",
      "[Parallel(n_jobs=1)]: Using backend SequentialBackend with 1 concurrent workers.\n",
      "[Parallel(n_jobs=1)]: Done  12 out of  12 | elapsed:    0.0s finished\n",
      "[Parallel(n_jobs=1)]: Using backend SequentialBackend with 1 concurrent workers.\n",
      "[Parallel(n_jobs=1)]: Done  12 out of  12 | elapsed:    0.0s finished\n",
      "[Parallel(n_jobs=1)]: Using backend SequentialBackend with 1 concurrent workers.\n",
      "[Parallel(n_jobs=1)]: Done  12 out of  12 | elapsed:    0.0s finished\n",
      "[Parallel(n_jobs=1)]: Using backend SequentialBackend with 1 concurrent workers.\n",
      "[Parallel(n_jobs=1)]: Done  12 out of  12 | elapsed:    0.0s finished\n",
      "[Parallel(n_jobs=1)]: Using backend SequentialBackend with 1 concurrent workers.\n",
      "[Parallel(n_jobs=1)]: Done  12 out of  12 | elapsed:    0.0s finished\n",
      "[Parallel(n_jobs=1)]: Using backend SequentialBackend with 1 concurrent workers.\n",
      "[Parallel(n_jobs=1)]: Done  12 out of  12 | elapsed:    0.0s finished\n",
      "[Parallel(n_jobs=1)]: Using backend SequentialBackend with 1 concurrent workers.\n",
      "[Parallel(n_jobs=1)]: Done   8 out of   8 | elapsed:    0.0s finished\n",
      "[Parallel(n_jobs=1)]: Using backend SequentialBackend with 1 concurrent workers.\n",
      "[Parallel(n_jobs=1)]: Done   8 out of   8 | elapsed:    0.0s finished\n",
      "[Parallel(n_jobs=1)]: Using backend SequentialBackend with 1 concurrent workers.\n",
      "[Parallel(n_jobs=1)]: Done   8 out of   8 | elapsed:    0.0s finished\n",
      "[Parallel(n_jobs=1)]: Using backend SequentialBackend with 1 concurrent workers.\n",
      "[Parallel(n_jobs=1)]: Done   8 out of   8 | elapsed:    0.0s finished\n",
      "[Parallel(n_jobs=1)]: Using backend SequentialBackend with 1 concurrent workers.\n",
      "[Parallel(n_jobs=1)]: Done   8 out of   8 | elapsed:    0.0s finished\n",
      "[Parallel(n_jobs=1)]: Using backend SequentialBackend with 1 concurrent workers.\n",
      "[Parallel(n_jobs=1)]: Done   8 out of   8 | elapsed:    0.0s finished\n",
      "[Parallel(n_jobs=1)]: Using backend SequentialBackend with 1 concurrent workers.\n",
      "[Parallel(n_jobs=1)]: Done   8 out of   8 | elapsed:    0.0s finished\n",
      "[Parallel(n_jobs=1)]: Using backend SequentialBackend with 1 concurrent workers.\n",
      "[Parallel(n_jobs=1)]: Done   8 out of   8 | elapsed:    0.0s finished\n",
      "[Parallel(n_jobs=1)]: Using backend SequentialBackend with 1 concurrent workers.\n",
      "[Parallel(n_jobs=1)]: Done   8 out of   8 | elapsed:    0.0s finished\n",
      "[Parallel(n_jobs=1)]: Using backend SequentialBackend with 1 concurrent workers.\n",
      "[Parallel(n_jobs=1)]: Done   8 out of   8 | elapsed:    0.0s finished\n",
      "[Parallel(n_jobs=1)]: Using backend SequentialBackend with 1 concurrent workers.\n",
      "[Parallel(n_jobs=1)]: Done  10 out of  10 | elapsed:    0.0s finished\n",
      "[Parallel(n_jobs=1)]: Using backend SequentialBackend with 1 concurrent workers.\n",
      "[Parallel(n_jobs=1)]: Done  10 out of  10 | elapsed:    0.0s finished\n",
      "[Parallel(n_jobs=1)]: Using backend SequentialBackend with 1 concurrent workers.\n",
      "[Parallel(n_jobs=1)]: Done  10 out of  10 | elapsed:    0.0s finished\n",
      "[Parallel(n_jobs=1)]: Using backend SequentialBackend with 1 concurrent workers.\n",
      "[Parallel(n_jobs=1)]: Done  10 out of  10 | elapsed:    0.0s finished\n",
      "[Parallel(n_jobs=1)]: Using backend SequentialBackend with 1 concurrent workers.\n",
      "[Parallel(n_jobs=1)]: Done  10 out of  10 | elapsed:    0.0s finished\n",
      "[Parallel(n_jobs=1)]: Using backend SequentialBackend with 1 concurrent workers.\n",
      "[Parallel(n_jobs=1)]: Done  10 out of  10 | elapsed:    0.0s finished\n",
      "[Parallel(n_jobs=1)]: Using backend SequentialBackend with 1 concurrent workers.\n",
      "[Parallel(n_jobs=1)]: Done  10 out of  10 | elapsed:    0.0s finished\n",
      "[Parallel(n_jobs=1)]: Using backend SequentialBackend with 1 concurrent workers.\n",
      "[Parallel(n_jobs=1)]: Done  10 out of  10 | elapsed:    0.0s finished\n",
      "[Parallel(n_jobs=1)]: Using backend SequentialBackend with 1 concurrent workers.\n",
      "[Parallel(n_jobs=1)]: Done  10 out of  10 | elapsed:    0.0s finished\n",
      "[Parallel(n_jobs=1)]: Using backend SequentialBackend with 1 concurrent workers.\n",
      "[Parallel(n_jobs=1)]: Done  10 out of  10 | elapsed:    0.0s finished\n",
      "[Parallel(n_jobs=1)]: Using backend SequentialBackend with 1 concurrent workers.\n",
      "[Parallel(n_jobs=1)]: Done  12 out of  12 | elapsed:    0.0s finished\n",
      "[Parallel(n_jobs=1)]: Using backend SequentialBackend with 1 concurrent workers.\n",
      "[Parallel(n_jobs=1)]: Done  12 out of  12 | elapsed:    0.0s finished\n",
      "[Parallel(n_jobs=1)]: Using backend SequentialBackend with 1 concurrent workers.\n",
      "[Parallel(n_jobs=1)]: Done  12 out of  12 | elapsed:    0.0s finished\n",
      "[Parallel(n_jobs=1)]: Using backend SequentialBackend with 1 concurrent workers.\n",
      "[Parallel(n_jobs=1)]: Done  12 out of  12 | elapsed:    0.0s finished\n",
      "[Parallel(n_jobs=1)]: Using backend SequentialBackend with 1 concurrent workers.\n",
      "[Parallel(n_jobs=1)]: Done  12 out of  12 | elapsed:    0.0s finished\n",
      "[Parallel(n_jobs=1)]: Using backend SequentialBackend with 1 concurrent workers.\n",
      "[Parallel(n_jobs=1)]: Done  12 out of  12 | elapsed:    0.0s finished\n",
      "[Parallel(n_jobs=1)]: Using backend SequentialBackend with 1 concurrent workers.\n",
      "[Parallel(n_jobs=1)]: Done  12 out of  12 | elapsed:    0.0s finished\n",
      "[Parallel(n_jobs=1)]: Using backend SequentialBackend with 1 concurrent workers.\n",
      "[Parallel(n_jobs=1)]: Done  12 out of  12 | elapsed:    0.0s finished\n",
      "[Parallel(n_jobs=1)]: Using backend SequentialBackend with 1 concurrent workers.\n",
      "[Parallel(n_jobs=1)]: Done  12 out of  12 | elapsed:    0.0s finished\n",
      "[Parallel(n_jobs=1)]: Using backend SequentialBackend with 1 concurrent workers.\n",
      "[Parallel(n_jobs=1)]: Done  12 out of  12 | elapsed:    0.0s finished\n",
      "[Parallel(n_jobs=1)]: Using backend SequentialBackend with 1 concurrent workers.\n",
      "[Parallel(n_jobs=1)]: Done   8 out of   8 | elapsed:    0.0s finished\n",
      "[Parallel(n_jobs=1)]: Using backend SequentialBackend with 1 concurrent workers.\n",
      "[Parallel(n_jobs=1)]: Done   8 out of   8 | elapsed:    0.0s finished\n",
      "[Parallel(n_jobs=1)]: Using backend SequentialBackend with 1 concurrent workers.\n",
      "[Parallel(n_jobs=1)]: Done   8 out of   8 | elapsed:    0.0s finished\n",
      "[Parallel(n_jobs=1)]: Using backend SequentialBackend with 1 concurrent workers.\n",
      "[Parallel(n_jobs=1)]: Done   8 out of   8 | elapsed:    0.0s finished\n",
      "[Parallel(n_jobs=1)]: Using backend SequentialBackend with 1 concurrent workers.\n",
      "[Parallel(n_jobs=1)]: Done   8 out of   8 | elapsed:    0.0s finished\n",
      "[Parallel(n_jobs=1)]: Using backend SequentialBackend with 1 concurrent workers.\n",
      "[Parallel(n_jobs=1)]: Done   8 out of   8 | elapsed:    0.0s finished\n",
      "[Parallel(n_jobs=1)]: Using backend SequentialBackend with 1 concurrent workers.\n",
      "[Parallel(n_jobs=1)]: Done   8 out of   8 | elapsed:    0.0s finished\n",
      "[Parallel(n_jobs=1)]: Using backend SequentialBackend with 1 concurrent workers.\n",
      "[Parallel(n_jobs=1)]: Done   8 out of   8 | elapsed:    0.0s finished\n",
      "[Parallel(n_jobs=1)]: Using backend SequentialBackend with 1 concurrent workers.\n",
      "[Parallel(n_jobs=1)]: Done   8 out of   8 | elapsed:    0.0s finished\n",
      "[Parallel(n_jobs=1)]: Using backend SequentialBackend with 1 concurrent workers.\n",
      "[Parallel(n_jobs=1)]: Done   8 out of   8 | elapsed:    0.0s finished\n",
      "[Parallel(n_jobs=1)]: Using backend SequentialBackend with 1 concurrent workers.\n",
      "[Parallel(n_jobs=1)]: Done  10 out of  10 | elapsed:    0.0s finished\n",
      "[Parallel(n_jobs=1)]: Using backend SequentialBackend with 1 concurrent workers.\n",
      "[Parallel(n_jobs=1)]: Done  10 out of  10 | elapsed:    0.0s finished\n",
      "[Parallel(n_jobs=1)]: Using backend SequentialBackend with 1 concurrent workers.\n",
      "[Parallel(n_jobs=1)]: Done  10 out of  10 | elapsed:    0.0s finished\n",
      "[Parallel(n_jobs=1)]: Using backend SequentialBackend with 1 concurrent workers.\n",
      "[Parallel(n_jobs=1)]: Done  10 out of  10 | elapsed:    0.0s finished\n",
      "[Parallel(n_jobs=1)]: Using backend SequentialBackend with 1 concurrent workers.\n",
      "[Parallel(n_jobs=1)]: Done  10 out of  10 | elapsed:    0.0s finished\n",
      "[Parallel(n_jobs=1)]: Using backend SequentialBackend with 1 concurrent workers.\n",
      "[Parallel(n_jobs=1)]: Done  10 out of  10 | elapsed:    0.0s finished\n",
      "[Parallel(n_jobs=1)]: Using backend SequentialBackend with 1 concurrent workers.\n",
      "[Parallel(n_jobs=1)]: Done  10 out of  10 | elapsed:    0.0s finished\n",
      "[Parallel(n_jobs=1)]: Using backend SequentialBackend with 1 concurrent workers.\n"
     ]
    },
    {
     "name": "stderr",
     "output_type": "stream",
     "text": [
      "[Parallel(n_jobs=1)]: Done  10 out of  10 | elapsed:    0.0s finished\n",
      "[Parallel(n_jobs=1)]: Using backend SequentialBackend with 1 concurrent workers.\n",
      "[Parallel(n_jobs=1)]: Done  10 out of  10 | elapsed:    0.0s finished\n",
      "[Parallel(n_jobs=1)]: Using backend SequentialBackend with 1 concurrent workers.\n",
      "[Parallel(n_jobs=1)]: Done  10 out of  10 | elapsed:    0.0s finished\n",
      "[Parallel(n_jobs=1)]: Using backend SequentialBackend with 1 concurrent workers.\n",
      "[Parallel(n_jobs=1)]: Done  12 out of  12 | elapsed:    0.0s finished\n",
      "[Parallel(n_jobs=1)]: Using backend SequentialBackend with 1 concurrent workers.\n",
      "[Parallel(n_jobs=1)]: Done  12 out of  12 | elapsed:    0.0s finished\n",
      "[Parallel(n_jobs=1)]: Using backend SequentialBackend with 1 concurrent workers.\n",
      "[Parallel(n_jobs=1)]: Done  12 out of  12 | elapsed:    0.0s finished\n",
      "[Parallel(n_jobs=1)]: Using backend SequentialBackend with 1 concurrent workers.\n",
      "[Parallel(n_jobs=1)]: Done  12 out of  12 | elapsed:    0.0s finished\n",
      "[Parallel(n_jobs=1)]: Using backend SequentialBackend with 1 concurrent workers.\n",
      "[Parallel(n_jobs=1)]: Done  12 out of  12 | elapsed:    0.0s finished\n",
      "[Parallel(n_jobs=1)]: Using backend SequentialBackend with 1 concurrent workers.\n",
      "[Parallel(n_jobs=1)]: Done  12 out of  12 | elapsed:    0.0s finished\n",
      "[Parallel(n_jobs=1)]: Using backend SequentialBackend with 1 concurrent workers.\n",
      "[Parallel(n_jobs=1)]: Done  12 out of  12 | elapsed:    0.0s finished\n",
      "[Parallel(n_jobs=1)]: Using backend SequentialBackend with 1 concurrent workers.\n",
      "[Parallel(n_jobs=1)]: Done  12 out of  12 | elapsed:    0.0s finished\n",
      "[Parallel(n_jobs=1)]: Using backend SequentialBackend with 1 concurrent workers.\n",
      "[Parallel(n_jobs=1)]: Done  12 out of  12 | elapsed:    0.0s finished\n",
      "[Parallel(n_jobs=1)]: Using backend SequentialBackend with 1 concurrent workers.\n",
      "[Parallel(n_jobs=1)]: Done  12 out of  12 | elapsed:    0.0s finished\n",
      "[Parallel(n_jobs=1)]: Using backend SequentialBackend with 1 concurrent workers.\n",
      "[Parallel(n_jobs=1)]: Done   8 out of   8 | elapsed:    0.0s finished\n",
      "[Parallel(n_jobs=1)]: Using backend SequentialBackend with 1 concurrent workers.\n",
      "[Parallel(n_jobs=1)]: Done   8 out of   8 | elapsed:    0.0s finished\n",
      "[Parallel(n_jobs=1)]: Using backend SequentialBackend with 1 concurrent workers.\n",
      "[Parallel(n_jobs=1)]: Done   8 out of   8 | elapsed:    0.0s finished\n",
      "[Parallel(n_jobs=1)]: Using backend SequentialBackend with 1 concurrent workers.\n",
      "[Parallel(n_jobs=1)]: Done   8 out of   8 | elapsed:    0.0s finished\n",
      "[Parallel(n_jobs=1)]: Using backend SequentialBackend with 1 concurrent workers.\n",
      "[Parallel(n_jobs=1)]: Done   8 out of   8 | elapsed:    0.0s finished\n",
      "[Parallel(n_jobs=1)]: Using backend SequentialBackend with 1 concurrent workers.\n",
      "[Parallel(n_jobs=1)]: Done   8 out of   8 | elapsed:    0.0s finished\n",
      "[Parallel(n_jobs=1)]: Using backend SequentialBackend with 1 concurrent workers.\n",
      "[Parallel(n_jobs=1)]: Done   8 out of   8 | elapsed:    0.0s finished\n",
      "[Parallel(n_jobs=1)]: Using backend SequentialBackend with 1 concurrent workers.\n",
      "[Parallel(n_jobs=1)]: Done   8 out of   8 | elapsed:    0.0s finished\n",
      "[Parallel(n_jobs=1)]: Using backend SequentialBackend with 1 concurrent workers.\n",
      "[Parallel(n_jobs=1)]: Done   8 out of   8 | elapsed:    0.0s finished\n",
      "[Parallel(n_jobs=1)]: Using backend SequentialBackend with 1 concurrent workers.\n",
      "[Parallel(n_jobs=1)]: Done   8 out of   8 | elapsed:    0.0s finished\n",
      "[Parallel(n_jobs=1)]: Using backend SequentialBackend with 1 concurrent workers.\n",
      "[Parallel(n_jobs=1)]: Done  10 out of  10 | elapsed:    0.0s finished\n",
      "[Parallel(n_jobs=1)]: Using backend SequentialBackend with 1 concurrent workers.\n",
      "[Parallel(n_jobs=1)]: Done  10 out of  10 | elapsed:    0.0s finished\n",
      "[Parallel(n_jobs=1)]: Using backend SequentialBackend with 1 concurrent workers.\n",
      "[Parallel(n_jobs=1)]: Done  10 out of  10 | elapsed:    0.0s finished\n",
      "[Parallel(n_jobs=1)]: Using backend SequentialBackend with 1 concurrent workers.\n",
      "[Parallel(n_jobs=1)]: Done  10 out of  10 | elapsed:    0.0s finished\n",
      "[Parallel(n_jobs=1)]: Using backend SequentialBackend with 1 concurrent workers.\n",
      "[Parallel(n_jobs=1)]: Done  10 out of  10 | elapsed:    0.0s finished\n",
      "[Parallel(n_jobs=1)]: Using backend SequentialBackend with 1 concurrent workers.\n",
      "[Parallel(n_jobs=1)]: Done  10 out of  10 | elapsed:    0.0s finished\n",
      "[Parallel(n_jobs=1)]: Using backend SequentialBackend with 1 concurrent workers.\n",
      "[Parallel(n_jobs=1)]: Done  10 out of  10 | elapsed:    0.0s finished\n",
      "[Parallel(n_jobs=1)]: Using backend SequentialBackend with 1 concurrent workers.\n",
      "[Parallel(n_jobs=1)]: Done  10 out of  10 | elapsed:    0.0s finished\n",
      "[Parallel(n_jobs=1)]: Using backend SequentialBackend with 1 concurrent workers.\n",
      "[Parallel(n_jobs=1)]: Done  10 out of  10 | elapsed:    0.0s finished\n",
      "[Parallel(n_jobs=1)]: Using backend SequentialBackend with 1 concurrent workers.\n",
      "[Parallel(n_jobs=1)]: Done  10 out of  10 | elapsed:    0.0s finished\n",
      "[Parallel(n_jobs=1)]: Using backend SequentialBackend with 1 concurrent workers.\n",
      "[Parallel(n_jobs=1)]: Done  12 out of  12 | elapsed:    0.0s finished\n",
      "[Parallel(n_jobs=1)]: Using backend SequentialBackend with 1 concurrent workers.\n",
      "[Parallel(n_jobs=1)]: Done  12 out of  12 | elapsed:    0.0s finished\n",
      "[Parallel(n_jobs=1)]: Using backend SequentialBackend with 1 concurrent workers.\n",
      "[Parallel(n_jobs=1)]: Done  12 out of  12 | elapsed:    0.0s finished\n",
      "[Parallel(n_jobs=1)]: Using backend SequentialBackend with 1 concurrent workers.\n",
      "[Parallel(n_jobs=1)]: Done  12 out of  12 | elapsed:    0.0s finished\n",
      "[Parallel(n_jobs=1)]: Using backend SequentialBackend with 1 concurrent workers.\n",
      "[Parallel(n_jobs=1)]: Done  12 out of  12 | elapsed:    0.0s finished\n",
      "[Parallel(n_jobs=1)]: Using backend SequentialBackend with 1 concurrent workers.\n",
      "[Parallel(n_jobs=1)]: Done  12 out of  12 | elapsed:    0.0s finished\n",
      "[Parallel(n_jobs=1)]: Using backend SequentialBackend with 1 concurrent workers.\n",
      "[Parallel(n_jobs=1)]: Done  12 out of  12 | elapsed:    0.0s finished\n",
      "[Parallel(n_jobs=1)]: Using backend SequentialBackend with 1 concurrent workers.\n",
      "[Parallel(n_jobs=1)]: Done  12 out of  12 | elapsed:    0.0s finished\n",
      "[Parallel(n_jobs=1)]: Using backend SequentialBackend with 1 concurrent workers.\n",
      "[Parallel(n_jobs=1)]: Done  12 out of  12 | elapsed:    0.0s finished\n",
      "[Parallel(n_jobs=1)]: Using backend SequentialBackend with 1 concurrent workers.\n",
      "[Parallel(n_jobs=1)]: Done  12 out of  12 | elapsed:    0.0s finished\n",
      "[Parallel(n_jobs=1)]: Using backend SequentialBackend with 1 concurrent workers.\n",
      "[Parallel(n_jobs=1)]: Done   8 out of   8 | elapsed:    0.0s finished\n",
      "[Parallel(n_jobs=1)]: Using backend SequentialBackend with 1 concurrent workers.\n",
      "[Parallel(n_jobs=1)]: Done   8 out of   8 | elapsed:    0.0s finished\n",
      "[Parallel(n_jobs=1)]: Using backend SequentialBackend with 1 concurrent workers.\n",
      "[Parallel(n_jobs=1)]: Done   8 out of   8 | elapsed:    0.0s finished\n",
      "[Parallel(n_jobs=1)]: Using backend SequentialBackend with 1 concurrent workers.\n",
      "[Parallel(n_jobs=1)]: Done   8 out of   8 | elapsed:    0.0s finished\n",
      "[Parallel(n_jobs=1)]: Using backend SequentialBackend with 1 concurrent workers.\n",
      "[Parallel(n_jobs=1)]: Done   8 out of   8 | elapsed:    0.0s finished\n",
      "[Parallel(n_jobs=1)]: Using backend SequentialBackend with 1 concurrent workers.\n",
      "[Parallel(n_jobs=1)]: Done   8 out of   8 | elapsed:    0.0s finished\n",
      "[Parallel(n_jobs=1)]: Using backend SequentialBackend with 1 concurrent workers.\n",
      "[Parallel(n_jobs=1)]: Done   8 out of   8 | elapsed:    0.0s finished\n",
      "[Parallel(n_jobs=1)]: Using backend SequentialBackend with 1 concurrent workers.\n",
      "[Parallel(n_jobs=1)]: Done   8 out of   8 | elapsed:    0.0s finished\n",
      "[Parallel(n_jobs=1)]: Using backend SequentialBackend with 1 concurrent workers.\n",
      "[Parallel(n_jobs=1)]: Done   8 out of   8 | elapsed:    0.0s finished\n",
      "[Parallel(n_jobs=1)]: Using backend SequentialBackend with 1 concurrent workers.\n",
      "[Parallel(n_jobs=1)]: Done   8 out of   8 | elapsed:    0.0s finished\n",
      "[Parallel(n_jobs=1)]: Using backend SequentialBackend with 1 concurrent workers.\n",
      "[Parallel(n_jobs=1)]: Done  10 out of  10 | elapsed:    0.0s finished\n",
      "[Parallel(n_jobs=1)]: Using backend SequentialBackend with 1 concurrent workers.\n",
      "[Parallel(n_jobs=1)]: Done  10 out of  10 | elapsed:    0.0s finished\n",
      "[Parallel(n_jobs=1)]: Using backend SequentialBackend with 1 concurrent workers.\n",
      "[Parallel(n_jobs=1)]: Done  10 out of  10 | elapsed:    0.0s finished\n",
      "[Parallel(n_jobs=1)]: Using backend SequentialBackend with 1 concurrent workers.\n",
      "[Parallel(n_jobs=1)]: Done  10 out of  10 | elapsed:    0.0s finished\n",
      "[Parallel(n_jobs=1)]: Using backend SequentialBackend with 1 concurrent workers.\n",
      "[Parallel(n_jobs=1)]: Done  10 out of  10 | elapsed:    0.0s finished\n",
      "[Parallel(n_jobs=1)]: Using backend SequentialBackend with 1 concurrent workers.\n",
      "[Parallel(n_jobs=1)]: Done  10 out of  10 | elapsed:    0.0s finished\n",
      "[Parallel(n_jobs=1)]: Using backend SequentialBackend with 1 concurrent workers.\n",
      "[Parallel(n_jobs=1)]: Done  10 out of  10 | elapsed:    0.0s finished\n",
      "[Parallel(n_jobs=1)]: Using backend SequentialBackend with 1 concurrent workers.\n",
      "[Parallel(n_jobs=1)]: Done  10 out of  10 | elapsed:    0.0s finished\n",
      "[Parallel(n_jobs=1)]: Using backend SequentialBackend with 1 concurrent workers.\n",
      "[Parallel(n_jobs=1)]: Done  10 out of  10 | elapsed:    0.0s finished\n"
     ]
    },
    {
     "name": "stderr",
     "output_type": "stream",
     "text": [
      "[Parallel(n_jobs=1)]: Using backend SequentialBackend with 1 concurrent workers.\n",
      "[Parallel(n_jobs=1)]: Done  10 out of  10 | elapsed:    0.0s finished\n",
      "[Parallel(n_jobs=1)]: Using backend SequentialBackend with 1 concurrent workers.\n",
      "[Parallel(n_jobs=1)]: Done  12 out of  12 | elapsed:    0.0s finished\n",
      "[Parallel(n_jobs=1)]: Using backend SequentialBackend with 1 concurrent workers.\n",
      "[Parallel(n_jobs=1)]: Done  12 out of  12 | elapsed:    0.0s finished\n",
      "[Parallel(n_jobs=1)]: Using backend SequentialBackend with 1 concurrent workers.\n",
      "[Parallel(n_jobs=1)]: Done  12 out of  12 | elapsed:    0.0s finished\n",
      "[Parallel(n_jobs=1)]: Using backend SequentialBackend with 1 concurrent workers.\n",
      "[Parallel(n_jobs=1)]: Done  12 out of  12 | elapsed:    0.0s finished\n",
      "[Parallel(n_jobs=1)]: Using backend SequentialBackend with 1 concurrent workers.\n",
      "[Parallel(n_jobs=1)]: Done  12 out of  12 | elapsed:    0.0s finished\n",
      "[Parallel(n_jobs=1)]: Using backend SequentialBackend with 1 concurrent workers.\n",
      "[Parallel(n_jobs=1)]: Done  12 out of  12 | elapsed:    0.0s finished\n",
      "[Parallel(n_jobs=1)]: Using backend SequentialBackend with 1 concurrent workers.\n",
      "[Parallel(n_jobs=1)]: Done  12 out of  12 | elapsed:    0.0s finished\n",
      "[Parallel(n_jobs=1)]: Using backend SequentialBackend with 1 concurrent workers.\n",
      "[Parallel(n_jobs=1)]: Done  12 out of  12 | elapsed:    0.0s finished\n",
      "[Parallel(n_jobs=1)]: Using backend SequentialBackend with 1 concurrent workers.\n",
      "[Parallel(n_jobs=1)]: Done  12 out of  12 | elapsed:    0.0s finished\n",
      "[Parallel(n_jobs=1)]: Using backend SequentialBackend with 1 concurrent workers.\n",
      "[Parallel(n_jobs=1)]: Done  12 out of  12 | elapsed:    0.0s finished\n",
      "[Parallel(n_jobs=1)]: Using backend SequentialBackend with 1 concurrent workers.\n",
      "[Parallel(n_jobs=1)]: Done   8 out of   8 | elapsed:    0.0s finished\n",
      "[Parallel(n_jobs=1)]: Using backend SequentialBackend with 1 concurrent workers.\n",
      "[Parallel(n_jobs=1)]: Done   8 out of   8 | elapsed:    0.0s finished\n",
      "[Parallel(n_jobs=1)]: Using backend SequentialBackend with 1 concurrent workers.\n",
      "[Parallel(n_jobs=1)]: Done   8 out of   8 | elapsed:    0.0s finished\n",
      "[Parallel(n_jobs=1)]: Using backend SequentialBackend with 1 concurrent workers.\n",
      "[Parallel(n_jobs=1)]: Done   8 out of   8 | elapsed:    0.0s finished\n",
      "[Parallel(n_jobs=1)]: Using backend SequentialBackend with 1 concurrent workers.\n",
      "[Parallel(n_jobs=1)]: Done   8 out of   8 | elapsed:    0.0s finished\n",
      "[Parallel(n_jobs=1)]: Using backend SequentialBackend with 1 concurrent workers.\n",
      "[Parallel(n_jobs=1)]: Done   8 out of   8 | elapsed:    0.0s finished\n",
      "[Parallel(n_jobs=1)]: Using backend SequentialBackend with 1 concurrent workers.\n",
      "[Parallel(n_jobs=1)]: Done   8 out of   8 | elapsed:    0.0s finished\n",
      "[Parallel(n_jobs=1)]: Using backend SequentialBackend with 1 concurrent workers.\n",
      "[Parallel(n_jobs=1)]: Done   8 out of   8 | elapsed:    0.0s finished\n",
      "[Parallel(n_jobs=1)]: Using backend SequentialBackend with 1 concurrent workers.\n",
      "[Parallel(n_jobs=1)]: Done   8 out of   8 | elapsed:    0.0s finished\n",
      "[Parallel(n_jobs=1)]: Using backend SequentialBackend with 1 concurrent workers.\n",
      "[Parallel(n_jobs=1)]: Done   8 out of   8 | elapsed:    0.0s finished\n",
      "[Parallel(n_jobs=1)]: Using backend SequentialBackend with 1 concurrent workers.\n",
      "[Parallel(n_jobs=1)]: Done  10 out of  10 | elapsed:    0.0s finished\n",
      "[Parallel(n_jobs=1)]: Using backend SequentialBackend with 1 concurrent workers.\n",
      "[Parallel(n_jobs=1)]: Done  10 out of  10 | elapsed:    0.0s finished\n",
      "[Parallel(n_jobs=1)]: Using backend SequentialBackend with 1 concurrent workers.\n",
      "[Parallel(n_jobs=1)]: Done  10 out of  10 | elapsed:    0.0s finished\n",
      "[Parallel(n_jobs=1)]: Using backend SequentialBackend with 1 concurrent workers.\n",
      "[Parallel(n_jobs=1)]: Done  10 out of  10 | elapsed:    0.0s finished\n",
      "[Parallel(n_jobs=1)]: Using backend SequentialBackend with 1 concurrent workers.\n",
      "[Parallel(n_jobs=1)]: Done  10 out of  10 | elapsed:    0.0s finished\n",
      "[Parallel(n_jobs=1)]: Using backend SequentialBackend with 1 concurrent workers.\n",
      "[Parallel(n_jobs=1)]: Done  10 out of  10 | elapsed:    0.0s finished\n",
      "[Parallel(n_jobs=1)]: Using backend SequentialBackend with 1 concurrent workers.\n",
      "[Parallel(n_jobs=1)]: Done  10 out of  10 | elapsed:    0.0s finished\n",
      "[Parallel(n_jobs=1)]: Using backend SequentialBackend with 1 concurrent workers.\n",
      "[Parallel(n_jobs=1)]: Done  10 out of  10 | elapsed:    0.0s finished\n",
      "[Parallel(n_jobs=1)]: Using backend SequentialBackend with 1 concurrent workers.\n",
      "[Parallel(n_jobs=1)]: Done  10 out of  10 | elapsed:    0.0s finished\n",
      "[Parallel(n_jobs=1)]: Using backend SequentialBackend with 1 concurrent workers.\n",
      "[Parallel(n_jobs=1)]: Done  10 out of  10 | elapsed:    0.0s finished\n",
      "[Parallel(n_jobs=1)]: Using backend SequentialBackend with 1 concurrent workers.\n",
      "[Parallel(n_jobs=1)]: Done  12 out of  12 | elapsed:    0.0s finished\n",
      "[Parallel(n_jobs=1)]: Using backend SequentialBackend with 1 concurrent workers.\n",
      "[Parallel(n_jobs=1)]: Done  12 out of  12 | elapsed:    0.0s finished\n",
      "[Parallel(n_jobs=1)]: Using backend SequentialBackend with 1 concurrent workers.\n",
      "[Parallel(n_jobs=1)]: Done  12 out of  12 | elapsed:    0.0s finished\n",
      "[Parallel(n_jobs=1)]: Using backend SequentialBackend with 1 concurrent workers.\n",
      "[Parallel(n_jobs=1)]: Done  12 out of  12 | elapsed:    0.0s finished\n",
      "[Parallel(n_jobs=1)]: Using backend SequentialBackend with 1 concurrent workers.\n",
      "[Parallel(n_jobs=1)]: Done  12 out of  12 | elapsed:    0.0s finished\n",
      "[Parallel(n_jobs=1)]: Using backend SequentialBackend with 1 concurrent workers.\n",
      "[Parallel(n_jobs=1)]: Done  12 out of  12 | elapsed:    0.0s finished\n",
      "[Parallel(n_jobs=1)]: Using backend SequentialBackend with 1 concurrent workers.\n",
      "[Parallel(n_jobs=1)]: Done  12 out of  12 | elapsed:    0.0s finished\n",
      "[Parallel(n_jobs=1)]: Using backend SequentialBackend with 1 concurrent workers.\n",
      "[Parallel(n_jobs=1)]: Done  12 out of  12 | elapsed:    0.0s finished\n",
      "[Parallel(n_jobs=1)]: Using backend SequentialBackend with 1 concurrent workers.\n",
      "[Parallel(n_jobs=1)]: Done  12 out of  12 | elapsed:    0.0s finished\n",
      "[Parallel(n_jobs=1)]: Using backend SequentialBackend with 1 concurrent workers.\n",
      "[Parallel(n_jobs=1)]: Done  12 out of  12 | elapsed:    0.0s finished\n",
      "[Parallel(n_jobs=1)]: Using backend SequentialBackend with 1 concurrent workers.\n",
      "[Parallel(n_jobs=1)]: Done   8 out of   8 | elapsed:    0.0s finished\n",
      "[Parallel(n_jobs=1)]: Using backend SequentialBackend with 1 concurrent workers.\n",
      "[Parallel(n_jobs=1)]: Done   8 out of   8 | elapsed:    0.0s finished\n",
      "[Parallel(n_jobs=1)]: Using backend SequentialBackend with 1 concurrent workers.\n",
      "[Parallel(n_jobs=1)]: Done   8 out of   8 | elapsed:    0.0s finished\n",
      "[Parallel(n_jobs=1)]: Using backend SequentialBackend with 1 concurrent workers.\n",
      "[Parallel(n_jobs=1)]: Done   8 out of   8 | elapsed:    0.0s finished\n",
      "[Parallel(n_jobs=1)]: Using backend SequentialBackend with 1 concurrent workers.\n",
      "[Parallel(n_jobs=1)]: Done   8 out of   8 | elapsed:    0.0s finished\n",
      "[Parallel(n_jobs=1)]: Using backend SequentialBackend with 1 concurrent workers.\n",
      "[Parallel(n_jobs=1)]: Done   8 out of   8 | elapsed:    0.0s finished\n",
      "[Parallel(n_jobs=1)]: Using backend SequentialBackend with 1 concurrent workers.\n",
      "[Parallel(n_jobs=1)]: Done   8 out of   8 | elapsed:    0.0s finished\n",
      "[Parallel(n_jobs=1)]: Using backend SequentialBackend with 1 concurrent workers.\n",
      "[Parallel(n_jobs=1)]: Done   8 out of   8 | elapsed:    0.0s finished\n",
      "[Parallel(n_jobs=1)]: Using backend SequentialBackend with 1 concurrent workers.\n",
      "[Parallel(n_jobs=1)]: Done   8 out of   8 | elapsed:    0.0s finished\n",
      "[Parallel(n_jobs=1)]: Using backend SequentialBackend with 1 concurrent workers.\n",
      "[Parallel(n_jobs=1)]: Done   8 out of   8 | elapsed:    0.0s finished\n",
      "[Parallel(n_jobs=1)]: Using backend SequentialBackend with 1 concurrent workers.\n",
      "[Parallel(n_jobs=1)]: Done  10 out of  10 | elapsed:    0.0s finished\n",
      "[Parallel(n_jobs=1)]: Using backend SequentialBackend with 1 concurrent workers.\n",
      "[Parallel(n_jobs=1)]: Done  10 out of  10 | elapsed:    0.0s finished\n",
      "[Parallel(n_jobs=1)]: Using backend SequentialBackend with 1 concurrent workers.\n",
      "[Parallel(n_jobs=1)]: Done  10 out of  10 | elapsed:    0.0s finished\n",
      "[Parallel(n_jobs=1)]: Using backend SequentialBackend with 1 concurrent workers.\n",
      "[Parallel(n_jobs=1)]: Done  10 out of  10 | elapsed:    0.0s finished\n",
      "[Parallel(n_jobs=1)]: Using backend SequentialBackend with 1 concurrent workers.\n",
      "[Parallel(n_jobs=1)]: Done  10 out of  10 | elapsed:    0.0s finished\n",
      "[Parallel(n_jobs=1)]: Using backend SequentialBackend with 1 concurrent workers.\n",
      "[Parallel(n_jobs=1)]: Done  10 out of  10 | elapsed:    0.0s finished\n",
      "[Parallel(n_jobs=1)]: Using backend SequentialBackend with 1 concurrent workers.\n"
     ]
    },
    {
     "name": "stderr",
     "output_type": "stream",
     "text": [
      "[Parallel(n_jobs=1)]: Done  10 out of  10 | elapsed:    0.0s finished\n",
      "[Parallel(n_jobs=1)]: Using backend SequentialBackend with 1 concurrent workers.\n",
      "[Parallel(n_jobs=1)]: Done  10 out of  10 | elapsed:    0.0s finished\n",
      "[Parallel(n_jobs=1)]: Using backend SequentialBackend with 1 concurrent workers.\n",
      "[Parallel(n_jobs=1)]: Done  10 out of  10 | elapsed:    0.0s finished\n",
      "[Parallel(n_jobs=1)]: Using backend SequentialBackend with 1 concurrent workers.\n",
      "[Parallel(n_jobs=1)]: Done  10 out of  10 | elapsed:    0.0s finished\n",
      "[Parallel(n_jobs=1)]: Using backend SequentialBackend with 1 concurrent workers.\n",
      "[Parallel(n_jobs=1)]: Done  12 out of  12 | elapsed:    0.0s finished\n",
      "[Parallel(n_jobs=1)]: Using backend SequentialBackend with 1 concurrent workers.\n",
      "[Parallel(n_jobs=1)]: Done  12 out of  12 | elapsed:    0.0s finished\n",
      "[Parallel(n_jobs=1)]: Using backend SequentialBackend with 1 concurrent workers.\n",
      "[Parallel(n_jobs=1)]: Done  12 out of  12 | elapsed:    0.0s finished\n",
      "[Parallel(n_jobs=1)]: Using backend SequentialBackend with 1 concurrent workers.\n",
      "[Parallel(n_jobs=1)]: Done  12 out of  12 | elapsed:    0.0s finished\n",
      "[Parallel(n_jobs=1)]: Using backend SequentialBackend with 1 concurrent workers.\n",
      "[Parallel(n_jobs=1)]: Done  12 out of  12 | elapsed:    0.0s finished\n",
      "[Parallel(n_jobs=1)]: Using backend SequentialBackend with 1 concurrent workers.\n",
      "[Parallel(n_jobs=1)]: Done  12 out of  12 | elapsed:    0.0s finished\n",
      "[Parallel(n_jobs=1)]: Using backend SequentialBackend with 1 concurrent workers.\n",
      "[Parallel(n_jobs=1)]: Done  12 out of  12 | elapsed:    0.0s finished\n",
      "[Parallel(n_jobs=1)]: Using backend SequentialBackend with 1 concurrent workers.\n",
      "[Parallel(n_jobs=1)]: Done  12 out of  12 | elapsed:    0.0s finished\n",
      "[Parallel(n_jobs=1)]: Using backend SequentialBackend with 1 concurrent workers.\n",
      "[Parallel(n_jobs=1)]: Done  12 out of  12 | elapsed:    0.0s finished\n",
      "[Parallel(n_jobs=1)]: Using backend SequentialBackend with 1 concurrent workers.\n",
      "[Parallel(n_jobs=1)]: Done  12 out of  12 | elapsed:    0.0s finished\n",
      "[Parallel(n_jobs=1)]: Using backend SequentialBackend with 1 concurrent workers.\n",
      "[Parallel(n_jobs=1)]: Done   8 out of   8 | elapsed:    0.0s finished\n"
     ]
    },
    {
     "data": {
      "text/plain": [
       "GridSearchCV(cv=5, error_score=nan,\n",
       "             estimator=RandomForestClassifier(bootstrap=True, ccp_alpha=0.0,\n",
       "                                              class_weight=None,\n",
       "                                              criterion='entropy', max_depth=2,\n",
       "                                              max_features=3,\n",
       "                                              max_leaf_nodes=None,\n",
       "                                              max_samples=None,\n",
       "                                              min_impurity_decrease=0.0,\n",
       "                                              min_impurity_split=None,\n",
       "                                              min_samples_leaf=1,\n",
       "                                              min_samples_split=2,\n",
       "                                              min_weight_fraction_leaf=0.0,\n",
       "                                              n_estimators=10, n_jobs=1,\n",
       "                                              oob_score=False, random_state=3,\n",
       "                                              verbose=1, warm_start=False),\n",
       "             iid='deprecated', n_jobs=None,\n",
       "             param_grid={'max_depth': [5, 6, 2, None],\n",
       "                         'max_features': [6, 7, 8],\n",
       "                         'n_estimators': [8, 10, 12]},\n",
       "             pre_dispatch='2*n_jobs', refit=True, return_train_score=False,\n",
       "             scoring='f1', verbose=0)"
      ]
     },
     "execution_count": 3173,
     "metadata": {},
     "output_type": "execute_result"
    }
   ],
   "source": [
    "RF = RandomForestClassifier(max_features=3, max_depth=2 ,n_estimators=10, random_state=3, criterion='entropy', n_jobs=1, verbose=1 )\n",
    "grid_search = GridSearchCV(RF, param_grid=param_grid, cv=5, scoring='f1')\n",
    "grid_search.fit(X_train, y_train)"
   ]
  },
  {
   "cell_type": "code",
   "execution_count": 3174,
   "metadata": {},
   "outputs": [
    {
     "name": "stdout",
     "output_type": "stream",
     "text": [
      "{'max_depth': None, 'max_features': 8, 'n_estimators': 8}\n"
     ]
    }
   ],
   "source": [
    "print(grid_search.best_params_)"
   ]
  },
  {
   "cell_type": "code",
   "execution_count": 3175,
   "metadata": {},
   "outputs": [
    {
     "data": {
      "text/plain": [
       "RandomForestClassifier(bootstrap=True, ccp_alpha=0.0, class_weight=None,\n",
       "                       criterion='gini', max_depth=None, max_features=8,\n",
       "                       max_leaf_nodes=None, max_samples=None,\n",
       "                       min_impurity_decrease=0.0, min_impurity_split=None,\n",
       "                       min_samples_leaf=1, min_samples_split=2,\n",
       "                       min_weight_fraction_leaf=0.0, n_estimators=8,\n",
       "                       n_jobs=None, oob_score=False, random_state=86, verbose=0,\n",
       "                       warm_start=False)"
      ]
     },
     "execution_count": 3175,
     "metadata": {},
     "output_type": "execute_result"
    }
   ],
   "source": [
    "mod5 = RandomForestClassifier(max_depth=None, max_features = 8, n_estimators = 8, random_state=86)\n",
    "mod5.fit(X_train, y_train)"
   ]
  },
  {
   "cell_type": "code",
   "execution_count": 3176,
   "metadata": {},
   "outputs": [],
   "source": [
    "y_pred5  = mod5.predict(X_validate)"
   ]
  },
  {
   "cell_type": "code",
   "execution_count": 3177,
   "metadata": {},
   "outputs": [
    {
     "name": "stdout",
     "output_type": "stream",
     "text": [
      "[[3151    1]\n",
      " [   3    5]]\n"
     ]
    }
   ],
   "source": [
    "from sklearn.metrics import confusion_matrix\n",
    "confusion_matrix = confusion_matrix(y_validate, y_pred5)\n",
    "print(confusion_matrix)"
   ]
  },
  {
   "cell_type": "code",
   "execution_count": 3178,
   "metadata": {},
   "outputs": [
    {
     "name": "stdout",
     "output_type": "stream",
     "text": [
      "Accuracy =  0.9987341772151899\n",
      "Precision =  0.8333333333333334\n",
      "Recall =  0.625\n",
      "F1 Score =  0.7142857142857143\n"
     ]
    }
   ],
   "source": [
    "generate_model_report(y_validate, y_pred5)"
   ]
  },
  {
   "cell_type": "markdown",
   "metadata": {},
   "source": [
    "### Overall scores are same as previous model."
   ]
  },
  {
   "cell_type": "markdown",
   "metadata": {},
   "source": [
    "## Smote+Logistic Regression"
   ]
  },
  {
   "cell_type": "markdown",
   "metadata": {},
   "source": [
    "### Model 6"
   ]
  },
  {
   "cell_type": "code",
   "execution_count": 3179,
   "metadata": {},
   "outputs": [],
   "source": [
    "from sklearn.linear_model import LogisticRegression\n",
    "\n",
    "logreg200 = LogisticRegression"
   ]
  },
  {
   "cell_type": "code",
   "execution_count": 3180,
   "metadata": {},
   "outputs": [],
   "source": [
    "smote_pipeline = make_pipeline_imb(SMOTE(random_state=8), \\\n",
    "                                   logreg200(random_state=56))\n",
    "\n",
    "mod6= smote_pipeline.fit(X_train, y_train)\n",
    "y_pred6  = mod6.predict(X_validate)"
   ]
  },
  {
   "cell_type": "code",
   "execution_count": 3181,
   "metadata": {},
   "outputs": [
    {
     "name": "stdout",
     "output_type": "stream",
     "text": [
      "[[3145    7]\n",
      " [   2    6]]\n"
     ]
    }
   ],
   "source": [
    "from sklearn.metrics import confusion_matrix\n",
    "confusion_matrix = confusion_matrix(y_validate, y_pred6)\n",
    "print(confusion_matrix)"
   ]
  },
  {
   "cell_type": "code",
   "execution_count": 3182,
   "metadata": {},
   "outputs": [
    {
     "name": "stdout",
     "output_type": "stream",
     "text": [
      "Accuracy =  0.9971518987341772\n",
      "Precision =  0.46153846153846156\n",
      "Recall =  0.75\n",
      "F1 Score =  0.5714285714285714\n"
     ]
    }
   ],
   "source": [
    "generate_model_report(y_validate, y_pred6)"
   ]
  },
  {
   "cell_type": "markdown",
   "metadata": {},
   "source": [
    "#### Low precision score in this model."
   ]
  },
  {
   "cell_type": "markdown",
   "metadata": {},
   "source": [
    "## Logistic Regression Hypertuning with Grid Search "
   ]
  },
  {
   "cell_type": "markdown",
   "metadata": {},
   "source": [
    "### Model 7"
   ]
  },
  {
   "cell_type": "code",
   "execution_count": 3183,
   "metadata": {},
   "outputs": [
    {
     "data": {
      "text/plain": [
       "GridSearchCV(cv=5, error_score=nan,\n",
       "             estimator=LogisticRegression(C=1.0, class_weight=None, dual=False,\n",
       "                                          fit_intercept=True,\n",
       "                                          intercept_scaling=1, l1_ratio=None,\n",
       "                                          max_iter=100, multi_class='auto',\n",
       "                                          n_jobs=None, penalty='l2',\n",
       "                                          random_state=91, solver='lbfgs',\n",
       "                                          tol=0.0001, verbose=0,\n",
       "                                          warm_start=False),\n",
       "             iid='deprecated', n_jobs=None,\n",
       "             param_grid={'C': [0.0001, 0.001, 0.005, 0.1, 0.2, 0.3, 0.4, 0.5,\n",
       "                               0.6, 1, 2],\n",
       "                         'penalty': ['l1', 'l2']},\n",
       "             pre_dispatch='2*n_jobs', refit=True, return_train_score=False,\n",
       "             scoring='recall', verbose=0)"
      ]
     },
     "execution_count": 3183,
     "metadata": {},
     "output_type": "execute_result"
    }
   ],
   "source": [
    "#K-fold Validation\n",
    "params={'C':[0.0001,0.001,0.005,0.1,0.2,0.3,0.4,0.5,0.6,1,2],'penalty':['l1','l2']}\n",
    "logmodel=LogisticRegression(random_state=91)\n",
    "\n",
    "from sklearn.model_selection import GridSearchCV\n",
    "model=GridSearchCV(estimator=logmodel,cv=5,param_grid=params,scoring='recall')\n",
    "model.fit(X_train,y_train)"
   ]
  },
  {
   "cell_type": "code",
   "execution_count": 3184,
   "metadata": {},
   "outputs": [
    {
     "data": {
      "text/plain": [
       "0.4166666666666667"
      ]
     },
     "execution_count": 3184,
     "metadata": {},
     "output_type": "execute_result"
    }
   ],
   "source": [
    "#Best Score\n",
    "model.best_score_"
   ]
  },
  {
   "cell_type": "code",
   "execution_count": 3185,
   "metadata": {},
   "outputs": [
    {
     "data": {
      "text/plain": [
       "{'C': 2, 'penalty': 'l2'}"
      ]
     },
     "execution_count": 3185,
     "metadata": {},
     "output_type": "execute_result"
    }
   ],
   "source": [
    "#Best Parameters\n",
    "model.best_params_"
   ]
  },
  {
   "cell_type": "code",
   "execution_count": 3186,
   "metadata": {},
   "outputs": [],
   "source": [
    "mod7 = LogisticRegression(penalty='l2',C=2,random_state=6,) \n",
    "mod7.fit(X_train, y_train) \n",
    "y_pred7 = mod7.predict(X_validate) "
   ]
  },
  {
   "cell_type": "code",
   "execution_count": 3187,
   "metadata": {},
   "outputs": [
    {
     "name": "stdout",
     "output_type": "stream",
     "text": [
      "[[3151    1]\n",
      " [   4    4]]\n"
     ]
    }
   ],
   "source": [
    "from sklearn.metrics import confusion_matrix\n",
    "confusion_matrix = confusion_matrix(y_validate, y_pred7)\n",
    "print(confusion_matrix)"
   ]
  },
  {
   "cell_type": "code",
   "execution_count": 3188,
   "metadata": {},
   "outputs": [
    {
     "name": "stdout",
     "output_type": "stream",
     "text": [
      "Accuracy =  0.9984177215189873\n",
      "Precision =  0.8\n",
      "Recall =  0.5\n",
      "F1 Score =  0.6153846153846154\n"
     ]
    }
   ],
   "source": [
    "generate_model_report(y_validate, y_pred7)"
   ]
  },
  {
   "cell_type": "markdown",
   "metadata": {},
   "source": [
    "#### Scores are fine"
   ]
  },
  {
   "cell_type": "markdown",
   "metadata": {},
   "source": [
    "### Checking probablities with top model"
   ]
  },
  {
   "cell_type": "code",
   "execution_count": 3190,
   "metadata": {},
   "outputs": [],
   "source": [
    "y_pred_t  = mod4.predict(X_test)"
   ]
  },
  {
   "cell_type": "code",
   "execution_count": 3191,
   "metadata": {},
   "outputs": [
    {
     "name": "stdout",
     "output_type": "stream",
     "text": [
      "[[3153    2]\n",
      " [   0    5]]\n"
     ]
    }
   ],
   "source": [
    "from sklearn.metrics import confusion_matrix\n",
    "confusion_matrix = confusion_matrix(y_test, y_pred_t)\n",
    "print(confusion_matrix)"
   ]
  },
  {
   "cell_type": "code",
   "execution_count": 3192,
   "metadata": {},
   "outputs": [
    {
     "name": "stdout",
     "output_type": "stream",
     "text": [
      "Accuracy =  0.9993670886075949\n",
      "Precision =  0.7142857142857143\n",
      "Recall =  1.0\n",
      "F1 Score =  0.8333333333333333\n"
     ]
    }
   ],
   "source": [
    "generate_model_report(y_test, y_pred_t)"
   ]
  },
  {
   "cell_type": "markdown",
   "metadata": {},
   "source": [
    "### Mod4 is best model- ( Smote + RandomForest)"
   ]
  },
  {
   "cell_type": "markdown",
   "metadata": {},
   "source": [
    "## Decided to predict probabilities of target variables with third model."
   ]
  },
  {
   "cell_type": "code",
   "execution_count": 3196,
   "metadata": {},
   "outputs": [],
   "source": [
    "#Predicting probablities with \"Third Model\"\n",
    "\n",
    "predictions = mod4.predict_proba(X_test)"
   ]
  },
  {
   "cell_type": "code",
   "execution_count": 3197,
   "metadata": {},
   "outputs": [],
   "source": [
    "#Selecting problities of getting 1 by slicing\n",
    "\n",
    "pred=predictions[:,1]*100"
   ]
  },
  {
   "cell_type": "code",
   "execution_count": 3198,
   "metadata": {},
   "outputs": [
    {
     "data": {
      "text/html": [
       "<div>\n",
       "<style scoped>\n",
       "    .dataframe tbody tr th:only-of-type {\n",
       "        vertical-align: middle;\n",
       "    }\n",
       "\n",
       "    .dataframe tbody tr th {\n",
       "        vertical-align: top;\n",
       "    }\n",
       "\n",
       "    .dataframe thead th {\n",
       "        text-align: right;\n",
       "    }\n",
       "</style>\n",
       "<table border=\"1\" class=\"dataframe\">\n",
       "  <thead>\n",
       "    <tr style=\"text-align: right;\">\n",
       "      <th></th>\n",
       "      <th>Converted</th>\n",
       "      <th>Converted_Prob</th>\n",
       "    </tr>\n",
       "  </thead>\n",
       "  <tbody>\n",
       "    <tr>\n",
       "      <th>0</th>\n",
       "      <td>0</td>\n",
       "      <td>0.0</td>\n",
       "    </tr>\n",
       "    <tr>\n",
       "      <th>1</th>\n",
       "      <td>0</td>\n",
       "      <td>0.0</td>\n",
       "    </tr>\n",
       "    <tr>\n",
       "      <th>2</th>\n",
       "      <td>0</td>\n",
       "      <td>0.0</td>\n",
       "    </tr>\n",
       "    <tr>\n",
       "      <th>3</th>\n",
       "      <td>0</td>\n",
       "      <td>0.0</td>\n",
       "    </tr>\n",
       "    <tr>\n",
       "      <th>4</th>\n",
       "      <td>0</td>\n",
       "      <td>0.0</td>\n",
       "    </tr>\n",
       "  </tbody>\n",
       "</table>\n",
       "</div>"
      ],
      "text/plain": [
       "   Converted  Converted_Prob\n",
       "0          0             0.0\n",
       "1          0             0.0\n",
       "2          0             0.0\n",
       "3          0             0.0\n",
       "4          0             0.0"
      ]
     },
     "execution_count": 3198,
     "metadata": {},
     "output_type": "execute_result"
    }
   ],
   "source": [
    "# Created a dataframe with actual test values and predicted probabilities of 1.\n",
    "\n",
    "y_train_pred_final = pd.DataFrame({'Converted':y_test.values, 'Converted_Prob':pred})\n",
    "\n",
    "y_train_pred_final.head()"
   ]
  },
  {
   "cell_type": "code",
   "execution_count": 3199,
   "metadata": {},
   "outputs": [
    {
     "data": {
      "text/html": [
       "<div>\n",
       "<style scoped>\n",
       "    .dataframe tbody tr th:only-of-type {\n",
       "        vertical-align: middle;\n",
       "    }\n",
       "\n",
       "    .dataframe tbody tr th {\n",
       "        vertical-align: top;\n",
       "    }\n",
       "\n",
       "    .dataframe thead th {\n",
       "        text-align: right;\n",
       "    }\n",
       "</style>\n",
       "<table border=\"1\" class=\"dataframe\">\n",
       "  <thead>\n",
       "    <tr style=\"text-align: right;\">\n",
       "      <th></th>\n",
       "      <th>Converted</th>\n",
       "      <th>Converted_Prob</th>\n",
       "      <th>0</th>\n",
       "      <th>10</th>\n",
       "      <th>20</th>\n",
       "      <th>30</th>\n",
       "      <th>40</th>\n",
       "      <th>50</th>\n",
       "      <th>60</th>\n",
       "      <th>70</th>\n",
       "      <th>80</th>\n",
       "      <th>90</th>\n",
       "    </tr>\n",
       "  </thead>\n",
       "  <tbody>\n",
       "    <tr>\n",
       "      <th>0</th>\n",
       "      <td>0</td>\n",
       "      <td>0.0</td>\n",
       "      <td>0</td>\n",
       "      <td>0</td>\n",
       "      <td>0</td>\n",
       "      <td>0</td>\n",
       "      <td>0</td>\n",
       "      <td>0</td>\n",
       "      <td>0</td>\n",
       "      <td>0</td>\n",
       "      <td>0</td>\n",
       "      <td>0</td>\n",
       "    </tr>\n",
       "    <tr>\n",
       "      <th>1</th>\n",
       "      <td>0</td>\n",
       "      <td>0.0</td>\n",
       "      <td>0</td>\n",
       "      <td>0</td>\n",
       "      <td>0</td>\n",
       "      <td>0</td>\n",
       "      <td>0</td>\n",
       "      <td>0</td>\n",
       "      <td>0</td>\n",
       "      <td>0</td>\n",
       "      <td>0</td>\n",
       "      <td>0</td>\n",
       "    </tr>\n",
       "    <tr>\n",
       "      <th>2</th>\n",
       "      <td>0</td>\n",
       "      <td>0.0</td>\n",
       "      <td>0</td>\n",
       "      <td>0</td>\n",
       "      <td>0</td>\n",
       "      <td>0</td>\n",
       "      <td>0</td>\n",
       "      <td>0</td>\n",
       "      <td>0</td>\n",
       "      <td>0</td>\n",
       "      <td>0</td>\n",
       "      <td>0</td>\n",
       "    </tr>\n",
       "    <tr>\n",
       "      <th>3</th>\n",
       "      <td>0</td>\n",
       "      <td>0.0</td>\n",
       "      <td>0</td>\n",
       "      <td>0</td>\n",
       "      <td>0</td>\n",
       "      <td>0</td>\n",
       "      <td>0</td>\n",
       "      <td>0</td>\n",
       "      <td>0</td>\n",
       "      <td>0</td>\n",
       "      <td>0</td>\n",
       "      <td>0</td>\n",
       "    </tr>\n",
       "    <tr>\n",
       "      <th>4</th>\n",
       "      <td>0</td>\n",
       "      <td>0.0</td>\n",
       "      <td>0</td>\n",
       "      <td>0</td>\n",
       "      <td>0</td>\n",
       "      <td>0</td>\n",
       "      <td>0</td>\n",
       "      <td>0</td>\n",
       "      <td>0</td>\n",
       "      <td>0</td>\n",
       "      <td>0</td>\n",
       "      <td>0</td>\n",
       "    </tr>\n",
       "  </tbody>\n",
       "</table>\n",
       "</div>"
      ],
      "text/plain": [
       "   Converted  Converted_Prob  0  10  20  30  40  50  60  70  80  90\n",
       "0          0             0.0  0   0   0   0   0   0   0   0   0   0\n",
       "1          0             0.0  0   0   0   0   0   0   0   0   0   0\n",
       "2          0             0.0  0   0   0   0   0   0   0   0   0   0\n",
       "3          0             0.0  0   0   0   0   0   0   0   0   0   0\n",
       "4          0             0.0  0   0   0   0   0   0   0   0   0   0"
      ]
     },
     "execution_count": 3199,
     "metadata": {},
     "output_type": "execute_result"
    }
   ],
   "source": [
    "# Create columns with different probability cutoffs \n",
    "\n",
    "numbers = [x*10 for x in range(10)]\n",
    "for i in numbers:\n",
    "    y_train_pred_final[i]= y_train_pred_final.Converted_Prob.map(lambda x: 1 if x > i else 0)\n",
    "y_train_pred_final.head()"
   ]
  },
  {
   "cell_type": "code",
   "execution_count": 3226,
   "metadata": {},
   "outputs": [
    {
     "data": {
      "text/html": [
       "<div>\n",
       "<style scoped>\n",
       "    .dataframe tbody tr th:only-of-type {\n",
       "        vertical-align: middle;\n",
       "    }\n",
       "\n",
       "    .dataframe tbody tr th {\n",
       "        vertical-align: top;\n",
       "    }\n",
       "\n",
       "    .dataframe thead th {\n",
       "        text-align: right;\n",
       "    }\n",
       "</style>\n",
       "<table border=\"1\" class=\"dataframe\">\n",
       "  <thead>\n",
       "    <tr style=\"text-align: right;\">\n",
       "      <th></th>\n",
       "      <th>Converted</th>\n",
       "      <th>Converted_Prob</th>\n",
       "      <th>0</th>\n",
       "      <th>10</th>\n",
       "      <th>20</th>\n",
       "      <th>30</th>\n",
       "      <th>40</th>\n",
       "      <th>50</th>\n",
       "      <th>60</th>\n",
       "      <th>70</th>\n",
       "      <th>80</th>\n",
       "      <th>90</th>\n",
       "      <th>final_predicted</th>\n",
       "    </tr>\n",
       "  </thead>\n",
       "  <tbody>\n",
       "    <tr>\n",
       "      <th>0</th>\n",
       "      <td>0</td>\n",
       "      <td>0.0</td>\n",
       "      <td>0</td>\n",
       "      <td>0</td>\n",
       "      <td>0</td>\n",
       "      <td>0</td>\n",
       "      <td>0</td>\n",
       "      <td>0</td>\n",
       "      <td>0</td>\n",
       "      <td>0</td>\n",
       "      <td>0</td>\n",
       "      <td>0</td>\n",
       "      <td>0</td>\n",
       "    </tr>\n",
       "    <tr>\n",
       "      <th>1</th>\n",
       "      <td>0</td>\n",
       "      <td>0.0</td>\n",
       "      <td>0</td>\n",
       "      <td>0</td>\n",
       "      <td>0</td>\n",
       "      <td>0</td>\n",
       "      <td>0</td>\n",
       "      <td>0</td>\n",
       "      <td>0</td>\n",
       "      <td>0</td>\n",
       "      <td>0</td>\n",
       "      <td>0</td>\n",
       "      <td>0</td>\n",
       "    </tr>\n",
       "    <tr>\n",
       "      <th>2</th>\n",
       "      <td>0</td>\n",
       "      <td>0.0</td>\n",
       "      <td>0</td>\n",
       "      <td>0</td>\n",
       "      <td>0</td>\n",
       "      <td>0</td>\n",
       "      <td>0</td>\n",
       "      <td>0</td>\n",
       "      <td>0</td>\n",
       "      <td>0</td>\n",
       "      <td>0</td>\n",
       "      <td>0</td>\n",
       "      <td>0</td>\n",
       "    </tr>\n",
       "    <tr>\n",
       "      <th>3</th>\n",
       "      <td>0</td>\n",
       "      <td>0.0</td>\n",
       "      <td>0</td>\n",
       "      <td>0</td>\n",
       "      <td>0</td>\n",
       "      <td>0</td>\n",
       "      <td>0</td>\n",
       "      <td>0</td>\n",
       "      <td>0</td>\n",
       "      <td>0</td>\n",
       "      <td>0</td>\n",
       "      <td>0</td>\n",
       "      <td>0</td>\n",
       "    </tr>\n",
       "    <tr>\n",
       "      <th>4</th>\n",
       "      <td>0</td>\n",
       "      <td>0.0</td>\n",
       "      <td>0</td>\n",
       "      <td>0</td>\n",
       "      <td>0</td>\n",
       "      <td>0</td>\n",
       "      <td>0</td>\n",
       "      <td>0</td>\n",
       "      <td>0</td>\n",
       "      <td>0</td>\n",
       "      <td>0</td>\n",
       "      <td>0</td>\n",
       "      <td>0</td>\n",
       "    </tr>\n",
       "  </tbody>\n",
       "</table>\n",
       "</div>"
      ],
      "text/plain": [
       "   Converted  Converted_Prob  0  10  20  30  40  50  60  70  80  90  \\\n",
       "0          0             0.0  0   0   0   0   0   0   0   0   0   0   \n",
       "1          0             0.0  0   0   0   0   0   0   0   0   0   0   \n",
       "2          0             0.0  0   0   0   0   0   0   0   0   0   0   \n",
       "3          0             0.0  0   0   0   0   0   0   0   0   0   0   \n",
       "4          0             0.0  0   0   0   0   0   0   0   0   0   0   \n",
       "\n",
       "   final_predicted  \n",
       "0                0  \n",
       "1                0  \n",
       "2                0  \n",
       "3                0  \n",
       "4                0  "
      ]
     },
     "execution_count": 3226,
     "metadata": {},
     "output_type": "execute_result"
    }
   ],
   "source": [
    "#Add a new variable to this dataframe that saves final label of each point. \n",
    "\n",
    "\n",
    "y_train_pred_final['final_predicted'] = y_train_pred_final.Converted_Prob.map( lambda x: 1 if x >50 else 0)\n",
    "\n",
    "y_train_pred_final.head()"
   ]
  },
  {
   "cell_type": "markdown",
   "metadata": {},
   "source": [
    "### This will depend on the threshold probability taken by us. These label will change according to the threshold probability value."
   ]
  },
  {
   "cell_type": "code",
   "execution_count": 3227,
   "metadata": {},
   "outputs": [
    {
     "data": {
      "text/plain": [
       "0    3153\n",
       "1       7\n",
       "Name: final_predicted, dtype: int64"
      ]
     },
     "execution_count": 3227,
     "metadata": {},
     "output_type": "execute_result"
    }
   ],
   "source": [
    "y_train_pred_final['final_predicted'].value_counts()"
   ]
  },
  {
   "cell_type": "code",
   "execution_count": 3228,
   "metadata": {},
   "outputs": [
    {
     "data": {
      "text/plain": [
       "99.9367088607595"
      ]
     },
     "execution_count": 3228,
     "metadata": {},
     "output_type": "execute_result"
    }
   ],
   "source": [
    "# Check the overall accuracy.\n",
    "from sklearn import metrics\n",
    "\n",
    "metrics.accuracy_score(y_train_pred_final.Converted, y_train_pred_final.final_predicted)*100"
   ]
  },
  {
   "cell_type": "code",
   "execution_count": 3229,
   "metadata": {},
   "outputs": [
    {
     "data": {
      "text/plain": [
       "array([[3153,    2],\n",
       "       [   0,    5]], dtype=int64)"
      ]
     },
     "execution_count": 3229,
     "metadata": {},
     "output_type": "execute_result"
    }
   ],
   "source": [
    "#Creating Confusion Matrix\n",
    "\n",
    "confusion2 = metrics.confusion_matrix(y_train_pred_final.Converted, y_train_pred_final.final_predicted )\n",
    "confusion2"
   ]
  },
  {
   "cell_type": "code",
   "execution_count": 3230,
   "metadata": {},
   "outputs": [
    {
     "name": "stdout",
     "output_type": "stream",
     "text": [
      "[[3153    2]\n",
      " [   0    5]]\n"
     ]
    }
   ],
   "source": [
    "# Confusion matrix \n",
    "confusion = metrics.confusion_matrix(y_train_pred_final.Converted, y_train_pred_final.final_predicted )\n",
    "print(confusion)"
   ]
  },
  {
   "cell_type": "code",
   "execution_count": 3231,
   "metadata": {},
   "outputs": [],
   "source": [
    "TP = confusion[1,1] # true positive \n",
    "TN = confusion[0,0] # true negatives\n",
    "FP = confusion[0,1] # false positives\n",
    "FN = confusion[1,0] # false negatives"
   ]
  },
  {
   "cell_type": "code",
   "execution_count": 3232,
   "metadata": {},
   "outputs": [
    {
     "data": {
      "text/plain": [
       "100.0"
      ]
     },
     "execution_count": 3232,
     "metadata": {},
     "output_type": "execute_result"
    }
   ],
   "source": [
    "# Sensitivity/Recall of our logistic regression model\n",
    "TP*100 / float(TP+FN)"
   ]
  },
  {
   "cell_type": "code",
   "execution_count": 3233,
   "metadata": {},
   "outputs": [
    {
     "data": {
      "text/plain": [
       "99.93660855784469"
      ]
     },
     "execution_count": 3233,
     "metadata": {},
     "output_type": "execute_result"
    }
   ],
   "source": [
    "# Calculate specificity\n",
    "TN*100 / float(TN+FP)"
   ]
  },
  {
   "cell_type": "code",
   "execution_count": 3234,
   "metadata": {},
   "outputs": [
    {
     "name": "stdout",
     "output_type": "stream",
     "text": [
      "0.06339144215530904\n"
     ]
    }
   ],
   "source": [
    "# Calculate false postive rate - predicting churn when Student does not have churned\n",
    "print(FP*100/ float(TN+FP))"
   ]
  },
  {
   "cell_type": "code",
   "execution_count": 3235,
   "metadata": {},
   "outputs": [
    {
     "name": "stdout",
     "output_type": "stream",
     "text": [
      "71.42857142857143\n"
     ]
    }
   ],
   "source": [
    "# Precision(Conversion Score)\n",
    "print(TP*100 / float(TP+FP))"
   ]
  },
  {
   "cell_type": "code",
   "execution_count": 3236,
   "metadata": {},
   "outputs": [
    {
     "name": "stdout",
     "output_type": "stream",
     "text": [
      "Accuracy =  0.9993670886075949\n",
      "Precision =  0.7142857142857143\n",
      "Recall =  1.0\n",
      "F1 Score =  0.8333333333333333\n"
     ]
    }
   ],
   "source": [
    "#Model Report as whole\n",
    "\n",
    "generate_model_report(y_train_pred_final.Converted, y_train_pred_final.final_predicted)"
   ]
  },
  {
   "cell_type": "markdown",
   "metadata": {},
   "source": [
    "### The cutoff probability is 50 which is fine because according to problem  statement the cut off should be reasonable and it’s a welfare scheme so government would definitely want to award scholarship to more people."
   ]
  },
  {
   "cell_type": "markdown",
   "metadata": {},
   "source": [
    "### This model should capture as much ‘Yes’ as it can because would not want to leave any student who want to pursue study so ‘False Negative should be minimal so ‘High Recall’ require and a reasonable ‘Precision’ because government can handle few ‘False Positives’ but definitely not much."
   ]
  },
  {
   "cell_type": "markdown",
   "metadata": {},
   "source": [
    "## AUC Curve"
   ]
  },
  {
   "cell_type": "code",
   "execution_count": 3237,
   "metadata": {},
   "outputs": [
    {
     "name": "stdout",
     "output_type": "stream",
     "text": [
      "0.9996830427892234\n"
     ]
    }
   ],
   "source": [
    "#AUC\n",
    "\n",
    "from sklearn.metrics import roc_curve, auc\n",
    "\n",
    "false_positive_rate, true_positive_rate, thresholds = roc_curve(y_train_pred_final.Converted, y_train_pred_final.final_predicted)\n",
    "roc_auc = auc(false_positive_rate, true_positive_rate)\n",
    "print (roc_auc)"
   ]
  },
  {
   "cell_type": "code",
   "execution_count": 3238,
   "metadata": {},
   "outputs": [
    {
     "data": {
      "text/plain": [
       "Text(0.5, 0, 'False Positive Rate')"
      ]
     },
     "execution_count": 3238,
     "metadata": {},
     "output_type": "execute_result"
    },
    {
     "data": {
      "image/png": "[encoded data removed]",
      "text/plain": [
       "<Figure size 432x288 with 1 Axes>"
      ]
     },
     "metadata": {
      "needs_background": "light"
     },
     "output_type": "display_data"
    }
   ],
   "source": [
    "# AUC Curve\n",
    "\n",
    "import matplotlib.pyplot as plt\n",
    "plt.title('Receiver Operating Characteristic')\n",
    "plt.plot(false_positive_rate, true_positive_rate, 'b', label='AUC = %0.2f'% roc_auc)\n",
    "plt.legend(loc='lower right')\n",
    "plt.plot([0,1],[0,1],'r--')\n",
    "plt.xlim([-0.1,1.2])\n",
    "plt.ylim([-0.1,1.2])\n",
    "plt.ylabel('True Positive Rate')\n",
    "plt.xlabel('False Positive Rate')"
   ]
  },
  {
   "cell_type": "markdown",
   "metadata": {},
   "source": [
    "#### Area cover under AUC curve is 0.99."
   ]
  },
  {
   "cell_type": "markdown",
   "metadata": {},
   "source": [
    "## Exporting Model"
   ]
  },
  {
   "cell_type": "code",
   "execution_count": 3240,
   "metadata": {},
   "outputs": [
    {
     "data": {
      "text/plain": [
       "['model_exp.pkl']"
      ]
     },
     "execution_count": 3240,
     "metadata": {},
     "output_type": "execute_result"
    }
   ],
   "source": [
    "#Pickle File\n",
    "\n",
    "import joblib\n",
    "joblib.dump(mod4,'model_exp.pkl')"
   ]
  },
  {
   "cell_type": "code",
   "execution_count": null,
   "metadata": {},
   "outputs": [],
   "source": []
  },
  {
   "cell_type": "code",
   "execution_count": null,
   "metadata": {},
   "outputs": [],
   "source": []
  },
  {
   "cell_type": "code",
   "execution_count": null,
   "metadata": {},
   "outputs": [],
   "source": []
  }
 ],
 "metadata": {
  "kernelspec": {
   "display_name": "Python 3",
   "language": "python",
   "name": "python3"
  },
  "language_info": {
   "codemirror_mode": {
    "name": "ipython",
    "version": 3
   },
   "file_extension": ".py",
   "mimetype": "text/x-python",
   "name": "python",
   "nbconvert_exporter": "python",
   "pygments_lexer": "ipython3",
   "version": "3.7.3"
  }
 },
 "nbformat": 4,
 "nbformat_minor": 2
}
